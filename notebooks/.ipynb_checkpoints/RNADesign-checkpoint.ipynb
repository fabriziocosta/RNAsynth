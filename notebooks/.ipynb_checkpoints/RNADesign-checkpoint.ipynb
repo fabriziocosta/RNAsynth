{
 "cells": [
  {
   "cell_type": "markdown",
   "metadata": {},
   "source": [
    "#RNA synthesis based on a given RNA family\n",
    "\n",
    "Application scenario: we want to design new RNA sequences whose traits comply with a given RNA family. \n",
    "For this purpose we use EDeN to come up with a notion of \"importance\" in\n",
    "existing sequences, calculate sequence constraints based on this importance, and then utilize antaRNA for RNA inverse folding using these constraints. "
   ]
  },
  {
   "cell_type": "code",
   "execution_count": null,
   "metadata": {
    "collapsed": false
   },
   "outputs": [],
   "source": [
    "%matplotlib inline"
   ]
  },
  {
   "cell_type": "code",
   "execution_count": null,
   "metadata": {
    "collapsed": false
   },
   "outputs": [],
   "source": [
    "import logging\n",
    "from eden.util import configure_logging\n",
    "configure_logging(logging.getLogger(), verbosity=2, filename='rna.log')"
   ]
  },
  {
   "cell_type": "code",
   "execution_count": null,
   "metadata": {
    "collapsed": false
   },
   "outputs": [],
   "source": [
    "from evaluation.PerformanceEvaluation import experiment"
   ]
  },
  {
   "cell_type": "markdown",
   "metadata": {},
   "source": [
    "Define experiment-specific parameters."
   ]
  },
  {
   "cell_type": "code",
   "execution_count": null,
   "metadata": {
    "collapsed": false
   },
   "outputs": [],
   "source": [
    "params = {'rfam_id':'RF00005',\n",
    "          'antaRNA_params':'../evaluation/antaRNA.ini' ,\n",
    "          'nt_importance_threshold':0 , \n",
    "          'nmin_important_nt_adjaceny':1 , \n",
    "          'bp_importance_threshold':0 ,\n",
    "          'nmin_important_bp_adjaceny':1 , \n",
    "          'nmin_unpaired_nt_adjacency':1 , \n",
    "          'multi_sequence_size':1 , \n",
    "          'filtering_threshold':0 , \n",
    "          'batch_proportion':1 , \n",
    "          'epoch_instances':10 , \n",
    "          'experiment_runs':10 ,\n",
    "          'split_ratio':0.2}"
   ]
  },
  {
   "cell_type": "markdown",
   "metadata": {},
   "source": [
    "Run the experiment."
   ]
  },
  {
   "cell_type": "code",
   "execution_count": null,
   "metadata": {
    "collapsed": false,
    "scrolled": false
   },
   "outputs": [],
   "source": [
    "roc_t , roc_s , apr_t , apr_s = experiment(params)"
   ]
  },
  {
   "cell_type": "markdown",
   "metadata": {},
   "source": [
    "Plot the exponential decay learning curve for results."
   ]
  },
  {
   "cell_type": "code",
   "execution_count": null,
   "metadata": {
    "collapsed": false
   },
   "outputs": [],
   "source": [
    "from evaluation.PerformanceEvaluation import PlotKit as pltk"
   ]
  },
  {
   "cell_type": "markdown",
   "metadata": {},
   "source": [
    "ROC learning curve comparison for True and Mixed samples:"
   ]
  },
  {
   "cell_type": "code",
   "execution_count": null,
   "metadata": {
    "collapsed": false
   },
   "outputs": [],
   "source": [
    "pltk.xpDecay(iterable_t = roc_t , iterable_s = roc_s , measure = 'ROC')"
   ]
  },
  {
   "cell_type": "markdown",
   "metadata": {},
   "source": [
    "APR learning curve comparison for True and Mixed samples:"
   ]
  },
  {
   "cell_type": "code",
   "execution_count": null,
   "metadata": {
    "collapsed": false
   },
   "outputs": [],
   "source": [
    "pltk.xpDecay(iterable_t = apr_t , iterable_s = apr_s , measure = 'APR')"
   ]
  },
  {
   "cell_type": "code",
   "execution_count": null,
   "metadata": {
    "collapsed": true
   },
   "outputs": [],
   "source": []
  }
 ],
 "metadata": {
  "kernelspec": {
   "display_name": "Python 2",
   "language": "python",
   "name": "python2"
  },
  "language_info": {
   "codemirror_mode": {
    "name": "ipython",
    "version": 2
   },
   "file_extension": ".py",
   "mimetype": "text/x-python",
   "name": "python",
   "nbconvert_exporter": "python",
   "pygments_lexer": "ipython2",
   "version": "2.7.6"
  }
 },
 "nbformat": 4,
 "nbformat_minor": 0
}
