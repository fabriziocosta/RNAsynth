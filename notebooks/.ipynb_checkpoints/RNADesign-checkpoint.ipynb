{
 "metadata": {
  "name": "",
  "signature": "sha256:c0c0b928a28da80b1b3907d357390c9de192eae4af98a516c05fcaba0bf25cb5"
 },
 "nbformat": 3,
 "nbformat_minor": 0,
 "worksheets": [
  {
   "cells": [
    {
     "cell_type": "markdown",
     "metadata": {},
     "source": [
      "#RNA synthesis based on a given RNA family\n",
      "\n",
      "Application scenario: we want to design new RNA sequences whose traits comply with a given RNA family. \n",
      "For this purpose we use EDeN to come up with a notion of \"importance\" in\n",
      "existing sequences, calculate sequence constraints based on this importance, and then utilize antaRNA for RNA inverse folding using these constraints. "
     ]
    },
    {
     "cell_type": "code",
     "collapsed": false,
     "input": [
      "rfam_id = 'RF00005'\n",
      "#rfam_id = 'RF01051'\n",
      "#rfam_id = 'RF00008'\n",
      "#rfam_id = 'RF00175'\n",
      "def rfam_url(family_id):\n",
      "    return 'http://rfam.xfam.org/family/%s/alignment?acc=%s&format=fastau&download=0'%(family_id,family_id)"
     ],
     "language": "python",
     "metadata": {},
     "outputs": [],
     "prompt_number": 1
    },
    {
     "cell_type": "markdown",
     "metadata": {},
     "source": [
      "Convert the fasta database into eden graphs."
     ]
    },
    {
     "cell_type": "code",
     "collapsed": false,
     "input": [
      "from eden.converter.fasta import fasta_to_sequence\n",
      "from eden.converter.rna.rnafold import rnafold_to_eden\n",
      "\n",
      "iterable_pos = fasta_to_sequence( rfam_url(rfam_id) )\n",
      "\n",
      "from itertools import tee\n",
      "iterable_pos, iterable_pos_ = tee(iterable_pos)\n",
      "\n",
      "from eden.modifier.seq import seq_to_seq,  shuffle_modifier\n",
      "iterable_neg = seq_to_seq( iterable_pos_ , modifier=shuffle_modifier , times=3 , order=2 )\n",
      "\n",
      "from eden.converter.rna.rnashapes import rnashapes_to_eden\n",
      "#Positive sample graphs.\n",
      "graphs_pos = rnafold_to_eden( iterable_pos)\n",
      "#Negative sample graphs.\n",
      "graphs_neg = rnafold_to_eden( iterable_neg)\n"
     ],
     "language": "python",
     "metadata": {},
     "outputs": [],
     "prompt_number": 2
    },
    {
     "cell_type": "markdown",
     "metadata": {},
     "source": [
      "Split test and train graph sets into fixed test and train portions. (20% for training)"
     ]
    },
    {
     "cell_type": "code",
     "collapsed": false,
     "input": [
      "from eden.util import random_bipartition_iter\n",
      "\n",
      "graphs_pos_train, graphs_pos_test = random_bipartition_iter(graphs_pos, relative_size=0.2)\n",
      "graphs_neg_train, graphs_neg_test = random_bipartition_iter(graphs_neg, relative_size=0.2)"
     ],
     "language": "python",
     "metadata": {},
     "outputs": [],
     "prompt_number": 3
    },
    {
     "cell_type": "markdown",
     "metadata": {},
     "source": [
      "Tune the parameters of this experiment."
     ]
    },
    {
     "cell_type": "code",
     "collapsed": false,
     "input": [
      "opts={'runs':3 , 'antaRNA_param_file':'/home/kohvaeip/RLS/lib/antaRNA/antaRNA.ini' , \\\n",
      "      'performance_log_file':'/home/kohvaeip/perf.log', 'nt_importance_threshold':-0.2 , 'nmin_important_nt_adjaceny':1 , \\\n",
      "      'bp_importance_threshold':-0.85 , 'nmin_important_bp_adjaceny':3 , 'nmin_unpaired_nt_adjacency':3 , \\\n",
      "      'synthesized_batch_proportion':4, 'multi_sequence_size':3, 'filtering_threshold':0, 'relative_size':0.3, 'rfam_id':rfam_id}"
     ],
     "language": "python",
     "metadata": {},
     "outputs": [],
     "prompt_number": 4
    },
    {
     "cell_type": "code",
     "collapsed": false,
     "input": [
      "import experiment as exp"
     ],
     "language": "python",
     "metadata": {},
     "outputs": [],
     "prompt_number": 5
    },
    {
     "cell_type": "markdown",
     "metadata": {},
     "source": [
      "Start the experiment."
     ]
    },
    {
     "cell_type": "code",
     "collapsed": false,
     "input": [
      "mroct, maprt, mrocs, maprs, elapsed_time = exp.run_epoch(graphs_pos_test =graphs_pos_test , graphs_neg_test = graphs_neg_test ,\\\n",
      "                       graphs_pos_train = graphs_pos_train , graphs_neg_train = graphs_neg_train , **opts)"
     ],
     "language": "python",
     "metadata": {},
     "outputs": [
      {
       "output_type": "stream",
       "stream": "stdout",
       "text": [
        "initial lengt of sequence pool: 954\n",
        "57\n",
        "Classifier:"
       ]
      },
      {
       "output_type": "stream",
       "stream": "stdout",
       "text": [
        "\n",
        "SGDClassifier(alpha=0.000140303153415, class_weight='auto', epsilon=0.1,\n",
        "       eta0=4.29370470456, fit_intercept=True, l1_ratio=0.15,\n",
        "       learning_rate='optimal', loss='hinge', n_iter=62, n_jobs=1,\n",
        "       penalty='l2', power_t=0.567026096802, random_state=None,\n",
        "       shuffle=True, verbose=0, warm_start=False)\n",
        "--------------------------------------------------------------------------------\n",
        "Predictive performance:\n",
        "            accuracy: 0.855 +- 0.032"
       ]
      },
      {
       "output_type": "stream",
       "stream": "stdout",
       "text": [
        "\n",
        "           precision: 1.000 +- 0.000"
       ]
      },
      {
       "output_type": "stream",
       "stream": "stdout",
       "text": [
        "\n",
        "              recall: 0.544 +- 0.025"
       ]
      },
      {
       "output_type": "stream",
       "stream": "stdout",
       "text": [
        "\n",
        "                  f1: 0.646 +- 0.081"
       ]
      },
      {
       "output_type": "stream",
       "stream": "stdout",
       "text": [
        "\n",
        "   average_precision: 0.854 +- 0.023"
       ]
      },
      {
       "output_type": "stream",
       "stream": "stdout",
       "text": [
        "\n",
        "             roc_auc: 0.919 +- 0.018"
       ]
      },
      {
       "output_type": "stream",
       "stream": "stdout",
       "text": [
        "\n",
        "--------------------------------------------------------------------------------\n",
        "57\n",
        "new while iteration with duplicate counter 0\n",
        "((((((AAA((((........))))A(((((.......))))).....(A(((.......)))A)A))))))A"
       ]
      },
      {
       "output_type": "stream",
       "stream": "stdout",
       "text": [
        "\n",
        "NNNNNNNNANNUNAAUUGGUANANNNNCGGNNNNNAAAACCNNNNNUUGNNAGUUCNNNNCUNNCNNCCCCUN\n",
        ">AB035922.1/6128-6200\n",
        "((((((((((((.....)))))((AAA((((A.......A))))AAA))(((((.......))))))))))))A"
       ]
      },
      {
       "output_type": "stream",
       "stream": "stdout",
       "text": [
        "\n",
        "NNNNNAUUNGCUNNNNUNGUUNNANNNNNCCCNNNNNNNNNNNNNNNUCCCUGGUUCAANUCCANNNUNGNCCA\n",
        ">AB067577.1/1615-1688\n",
        "((((((A.......(((.....)))A(((((.......))))).....(((((((...)))))))A))))))A"
       ]
      },
      {
       "output_type": "stream",
       "stream": "stdout",
       "text": [
        "\n",
        "NNUUCNNNANNNNANNGGUUNUNNNNUUCGCNNNACNNNCGAANNNNNCCCGGUUCGAAACCNNNNNGAAANA\n",
        ">AC008443.10/43006-42934\n",
        "(((((((..............((((((((A.......A)))))A)))(((((.......))))))))))))A"
       ]
      },
      {
       "output_type": "stream",
       "stream": "stdout",
       "text": [
        "\n",
        "NNCUCNUUGNNNNNNNNNNNNGNUUCUCNNUNNNNNNNNGANNNNUCCNNNGUUCAAAUCCNNNANGAGCNN\n",
        ">AC018638.5/4694-4623\n",
        "(((((((A((((A(A(.............)A)A))A))A.....((((........)))))))))))A"
       ]
      },
      {
       "output_type": "stream",
       "stream": "stdout",
       "text": [
        "\n",
        "NNGAANANNGNUNNNNAAAAACNNUANNNNNNNAAUCNNNNAANAGNAAANNAANCUCCUUAUUCACN\n",
        ">AC084429.5/20418-20485\n",
        "A((((((AA(((A.........A)))((A(((.......)))A))...A((((.......))))A))))))AA"
       ]
      },
      {
       "output_type": "stream",
       "stream": "stdout",
       "text": [
        "\n",
        "NNNCUCNUNNNCNANUNNNUNNNNANANNNACNNNNUANNNNNCNANNNNNGGUUCGAAUCCNNNNNAGNCUA\n",
        ">AF041468.1/43811-43739\n",
        "A(((A(AAA((((.......))))A((((((....)A))))).....AA(((.......)))AAA)A)))AA"
       ]
      },
      {
       "output_type": "stream",
       "stream": "stdout",
       "text": [
        "\n",
        "NNCNNNNNNNCUCAANNNNNNAGCNUCUNANUNNNNNNNAGANNGUUNNAGGUUCGAAUCCUNNNNNNNNNN\n",
        ">AF047723.1/4036-4107\n",
        ".........((((((......A((AA(((((((...(((.....)))....))A)))))A))A))))))...."
       ]
      },
      {
       "output_type": "stream",
       "stream": "stdout",
       "text": [
        "\n",
        "UAGAUUNNNNNCANUUNAUUANNNNNCUUNGCUNUNAANUAANNNNUUNNNNGUUUAAGNCCCNUUGNNNUAG\n",
        ">AF134583.1/1816-1744\n",
        "(((((((A(((((A((((...((((((((.......)))))A)))AA))))AA)))))AA)))))))A"
       ]
      },
      {
       "output_type": "stream",
       "stream": "stdout",
       "text": [
        "\n",
        "CAGANAANAGNNUAAAUUANNANNUUNGCUUUGGNUNCNAANGNNNNNNUUAAANANUNNNUCUCUNA\n",
        ">AF347001.1/16015-15948\n",
        "(((((((((((((((......((((....)))).....))))))))))...........)))))A"
       ]
      },
      {
       "output_type": "stream",
       "stream": "stdout",
       "text": [
        "\n",
        "UGNNANANNNNUUAAACAAAACGAANNAUUUCGNNUNNUUAAAUUANNANAAUNNNNNUUACCAA\n",
        ">AF382013.1/10403-10467\n",
        "((((((...((((.....))))((((((.......))))))AA(AA((((.....))))AA)))))))A"
       ]
      },
      {
       "output_type": "stream",
       "stream": "stdout",
       "text": [
        "\n",
        "NANGNUUUAGCUUAANNAAAGNNGUUGNNUUNNNNUNAAUUNNNNNAAGNNNNANNNUNNNAANCCUUA\n",
        ">AF490529.1/2769-2701\n",
        "((((((A...(((((((A((........))A))))))).....(A((........))A)A))))))A"
       ]
      },
      {
       "output_type": "stream",
       "stream": "stdout",
       "text": [
        "\n",
        "AGCCCNNUNNUGAAUUUNNNNNUUNNNNNNNAAAUUNANNNNNNCAGCNNCAANUCUNNNNNNNCUU\n",
        ">AF493542.1/2517-2451\n"
       ]
      },
      {
       "ename": "KeyboardInterrupt",
       "evalue": "",
       "output_type": "pyerr",
       "traceback": [
        "\u001b[1;31m---------------------------------------------------------------------------\u001b[0m\n\u001b[1;31mKeyboardInterrupt\u001b[0m                         Traceback (most recent call last)",
        "\u001b[1;32m<ipython-input-6-cf95f2568585>\u001b[0m in \u001b[0;36m<module>\u001b[1;34m()\u001b[0m\n\u001b[1;32m----> 1\u001b[1;33m \u001b[0mmroct\u001b[0m\u001b[1;33m,\u001b[0m \u001b[0mmaprt\u001b[0m\u001b[1;33m,\u001b[0m \u001b[0mmrocs\u001b[0m\u001b[1;33m,\u001b[0m \u001b[0mmaprs\u001b[0m\u001b[1;33m,\u001b[0m \u001b[0melapsed_time\u001b[0m \u001b[1;33m=\u001b[0m \u001b[0mexp\u001b[0m\u001b[1;33m.\u001b[0m\u001b[0mrun_epoch\u001b[0m\u001b[1;33m(\u001b[0m\u001b[0mgraphs_pos_test\u001b[0m \u001b[1;33m=\u001b[0m\u001b[0mgraphs_pos_test\u001b[0m \u001b[1;33m,\u001b[0m \u001b[0mgraphs_neg_test\u001b[0m \u001b[1;33m=\u001b[0m \u001b[0mgraphs_neg_test\u001b[0m \u001b[1;33m,\u001b[0m                       \u001b[0mgraphs_pos_train\u001b[0m \u001b[1;33m=\u001b[0m \u001b[0mgraphs_pos_train\u001b[0m \u001b[1;33m,\u001b[0m \u001b[0mgraphs_neg_train\u001b[0m \u001b[1;33m=\u001b[0m \u001b[0mgraphs_neg_train\u001b[0m \u001b[1;33m,\u001b[0m \u001b[1;33m**\u001b[0m\u001b[0mopts\u001b[0m\u001b[1;33m)\u001b[0m\u001b[1;33m\u001b[0m\u001b[0m\n\u001b[0m",
        "\u001b[1;32m/home/kohvaeip/RLS/tools/experiment.py\u001b[0m in \u001b[0;36mrun_epoch\u001b[1;34m(runs, antaRNA_param_file, performance_log_file, graphs_pos_test, graphs_neg_test, graphs_pos_train, graphs_neg_train, nt_importance_threshold, nmin_important_nt_adjaceny, bp_importance_threshold, nmin_important_bp_adjaceny, nmin_unpaired_nt_adjacency, synthesized_batch_proportion, multi_sequence_size, filtering_threshold, relative_size, rfam_id)\u001b[0m\n\u001b[0;32m    145\u001b[0m                                                                                                 \u001b[0mnmin_important_bp_adjaceny\u001b[0m\u001b[1;33m=\u001b[0m\u001b[0mnmin_important_bp_adjaceny\u001b[0m\u001b[1;33m,\u001b[0m \u001b[0mnmin_unpaired_nt_adjacency\u001b[0m\u001b[1;33m=\u001b[0m\u001b[0mnmin_unpaired_nt_adjacency\u001b[0m\u001b[1;33m,\u001b[0m\u001b[0;31m\\\u001b[0m\u001b[1;33m\u001b[0m\u001b[0m\n\u001b[0;32m    146\u001b[0m                                                                                                 \u001b[0mbatch_size\u001b[0m\u001b[1;33m=\u001b[0m\u001b[0mbatch_size\u001b[0m\u001b[1;33m,\u001b[0m \u001b[0mmulti_sequence_size\u001b[0m\u001b[1;33m=\u001b[0m\u001b[0mmulti_sequence_size\u001b[0m\u001b[1;33m,\u001b[0m \u001b[0mfiltering_threshold\u001b[0m \u001b[1;33m=\u001b[0m \u001b[0mfiltering_threshold\u001b[0m\u001b[1;33m,\u001b[0m\u001b[0;31m\\\u001b[0m\u001b[1;33m\u001b[0m\u001b[0m\n\u001b[1;32m--> 147\u001b[1;33m \t\t\t\t\t\t\t\t\t\t\t\tsequence_pool=sequence_pool)\n\u001b[0m\u001b[0;32m    148\u001b[0m \u001b[1;33m\u001b[0m\u001b[0m\n\u001b[0;32m    149\u001b[0m                 \u001b[1;32mprint\u001b[0m \u001b[1;34m'lengt of sequence pool after batch design: %d'\u001b[0m \u001b[1;33m%\u001b[0m\u001b[0mlen\u001b[0m\u001b[1;33m(\u001b[0m\u001b[0msequence_pool\u001b[0m\u001b[1;33m)\u001b[0m\u001b[1;33m\u001b[0m\u001b[0m\n",
        "\u001b[1;32m/home/kohvaeip/RLS/lib/RNADesign/RNADesignToolsV2.pyc\u001b[0m in \u001b[0;36mdesign_batch_RNA\u001b[1;34m(param_file, iterable, vectorizer, design_estimator, filter_estimator, nt_importance_threshold, nmin_important_nt_adjaceny, bp_importance_threshold, nmin_important_bp_adjaceny, nmin_unpaired_nt_adjacency, batch_size, multi_sequence_size, filtering_threshold, sequence_pool)\u001b[0m\n\u001b[0;32m    110\u001b[0m                         \u001b[1;32mprint\u001b[0m \u001b[0mfasta_id\u001b[0m\u001b[1;33m\u001b[0m\u001b[0m\n\u001b[0;32m    111\u001b[0m                         \u001b[1;32mfor\u001b[0m \u001b[0mcount\u001b[0m \u001b[1;32min\u001b[0m \u001b[0mrange\u001b[0m\u001b[1;33m(\u001b[0m\u001b[0mmulti_sequence_size\u001b[0m\u001b[1;33m)\u001b[0m\u001b[1;33m:\u001b[0m\u001b[1;33m\u001b[0m\u001b[0m\n\u001b[1;32m--> 112\u001b[1;33m                                 \u001b[0mresult\u001b[0m \u001b[1;33m=\u001b[0m \u001b[0mgenerate_antaRNA_sequence\u001b[0m\u001b[1;33m(\u001b[0m\u001b[0mdot_bracket\u001b[0m\u001b[1;33m,\u001b[0m \u001b[0mseq_constraint\u001b[0m\u001b[1;33m,\u001b[0m \u001b[0mgc_content\u001b[0m\u001b[1;33m,\u001b[0m \u001b[0mfasta_id\u001b[0m \u001b[1;33m,\u001b[0m\u001b[0mop\u001b[0m\u001b[1;33m)\u001b[0m\u001b[1;33m\u001b[0m\u001b[0m\n\u001b[0m\u001b[0;32m    113\u001b[0m                                 \u001b[1;32mif\u001b[0m \u001b[1;33m(\u001b[0m\u001b[1;32mnot\u001b[0m\u001b[1;33m(\u001b[0m\u001b[0mresult\u001b[0m\u001b[1;33m[\u001b[0m\u001b[1;36m1\u001b[0m\u001b[1;33m]\u001b[0m \u001b[1;32min\u001b[0m \u001b[0msequence_pool\u001b[0m\u001b[1;33m)\u001b[0m\u001b[1;33m)\u001b[0m\u001b[1;33m:\u001b[0m\u001b[1;33m\u001b[0m\u001b[0m\n\u001b[0;32m    114\u001b[0m                                         \u001b[0mfasta_list\u001b[0m \u001b[1;33m=\u001b[0m \u001b[0mfasta_list\u001b[0m \u001b[1;33m+\u001b[0m \u001b[0mresult\u001b[0m\u001b[1;33m\u001b[0m\u001b[0m\n",
        "\u001b[1;32m/home/kohvaeip/RLS/lib/RNADesign/RNADesignToolsV2.pyc\u001b[0m in \u001b[0;36mgenerate_antaRNA_sequence\u001b[1;34m(dot_bracket_constraint_string, sequence_constraint_string, gc_content, original_fasta_id, antaParams)\u001b[0m\n\u001b[0;32m     51\u001b[0m def generate_antaRNA_sequence(dot_bracket_constraint_string=None,sequence_constraint_string=None,\\\n\u001b[0;32m     52\u001b[0m                               gc_content=None,original_fasta_id=None,antaParams=None):\n\u001b[1;32m---> 53\u001b[1;33m         \u001b[0mresult\u001b[0m \u001b[1;33m=\u001b[0m \u001b[1;34m', '\u001b[0m\u001b[1;33m.\u001b[0m\u001b[0mjoin\u001b[0m\u001b[1;33m(\u001b[0m\u001b[0mantaRNA_v109\u001b[0m\u001b[1;33m.\u001b[0m\u001b[0mfindSequence\u001b[0m\u001b[1;33m(\u001b[0m\u001b[0mdot_bracket_constraint_string\u001b[0m\u001b[1;33m,\u001b[0m\u001b[0msequence_constraint_string\u001b[0m\u001b[1;33m,\u001b[0m\u001b[0mgc_content\u001b[0m\u001b[1;33m,\u001b[0m\u001b[1;33m**\u001b[0m\u001b[0mantaParams\u001b[0m\u001b[1;33m.\u001b[0m\u001b[0mto_dict\u001b[0m\u001b[1;33m(\u001b[0m\u001b[1;33m)\u001b[0m\u001b[1;33m)\u001b[0m\u001b[1;33m)\u001b[0m\u001b[1;33m\u001b[0m\u001b[0m\n\u001b[0m\u001b[0;32m     54\u001b[0m         \u001b[0mheader\u001b[0m \u001b[1;33m=\u001b[0m \u001b[0moriginal_fasta_id\u001b[0m \u001b[1;33m+\u001b[0m \u001b[1;34m'_'\u001b[0m \u001b[1;33m+\u001b[0m \u001b[0mstr\u001b[0m\u001b[1;33m(\u001b[0m\u001b[0mrandom\u001b[0m\u001b[1;33m.\u001b[0m\u001b[0mrandrange\u001b[0m\u001b[1;33m(\u001b[0m\u001b[0mrandom_gen_bound\u001b[0m\u001b[1;33m)\u001b[0m\u001b[1;33m)\u001b[0m\u001b[1;33m\u001b[0m\u001b[0m\n\u001b[0;32m     55\u001b[0m         \u001b[0msequence\u001b[0m \u001b[1;33m=\u001b[0m \u001b[0mresult\u001b[0m\u001b[1;33m.\u001b[0m\u001b[0msplit\u001b[0m\u001b[1;33m(\u001b[0m\u001b[1;34m\"\\n\"\u001b[0m\u001b[1;33m)\u001b[0m\u001b[1;33m[\u001b[0m\u001b[1;36m2\u001b[0m\u001b[1;33m]\u001b[0m\u001b[1;33m\u001b[0m\u001b[0m\n",
        "\u001b[1;32m/home/kohvaeip/RLS/lib/antaRNA/antaRNA_v109.pyc\u001b[0m in \u001b[0;36mfindSequence\u001b[1;34m(structure, Cseq, tGC, colonies, name, alpha, beta, evaporation_rate, struct_correction_term, GC_correction_term, seq_correction_term, degreeOfSequenceInducement, file_id, verbose, output_verbose, tGCmax, tGCvar, termination_convergence, convergence_count, reset_limit, improve, seed, temperature, paramFile, return_mod)\u001b[0m\n\u001b[0;32m   1398\u001b[0m \u001b[1;33m\u001b[0m\u001b[0m\n\u001b[0;32m   1399\u001b[0m                 \u001b[1;31m# Actual execution of a ant colony procesdure\u001b[0m\u001b[1;33m\u001b[0m\u001b[1;33m\u001b[0m\u001b[0m\n\u001b[1;32m-> 1400\u001b[1;33m                 \u001b[0moutput_v\u001b[0m\u001b[1;33m,\u001b[0m \u001b[0moutput_w\u001b[0m  \u001b[1;33m=\u001b[0m  \u001b[0mrunColony\u001b[0m\u001b[1;33m(\u001b[0m\u001b[0mstructure\u001b[0m\u001b[1;33m,\u001b[0m \u001b[0msequenceconstraint\u001b[0m\u001b[1;33m,\u001b[0m \u001b[0mobjective_to_target_distance\u001b[0m\u001b[1;33m,\u001b[0m \u001b[0mGC\u001b[0m\u001b[1;33m,\u001b[0m \u001b[0malpha\u001b[0m\u001b[1;33m,\u001b[0m \u001b[0mbeta\u001b[0m\u001b[1;33m,\u001b[0m \u001b[0mevaporation_rate\u001b[0m\u001b[1;33m,\u001b[0m \u001b[0mcorrection_terms\u001b[0m\u001b[1;33m,\u001b[0m \u001b[0mverbose\u001b[0m\u001b[1;33m,\u001b[0m \u001b[0mIUPAC\u001b[0m\u001b[1;33m,\u001b[0m \u001b[0mIUPAC_compatibles\u001b[0m\u001b[1;33m,\u001b[0m \u001b[0mdegreeOfSequenceInducement\u001b[0m\u001b[1;33m,\u001b[0m \u001b[0mIUPAC_reverseComplements\u001b[0m\u001b[1;33m,\u001b[0m \u001b[0mtermination_convergence\u001b[0m\u001b[1;33m,\u001b[0m \u001b[0mconvergence_count\u001b[0m\u001b[1;33m,\u001b[0m \u001b[0mreset_limit\u001b[0m\u001b[1;33m,\u001b[0m \u001b[0mimprove\u001b[0m\u001b[1;33m,\u001b[0m \u001b[0mtemperature\u001b[0m\u001b[1;33m,\u001b[0m \u001b[0mparamFile\u001b[0m\u001b[1;33m)\u001b[0m\u001b[1;33m\u001b[0m\u001b[0m\n\u001b[0m\u001b[0;32m   1401\u001b[0m \u001b[1;33m\u001b[0m\u001b[0m\n\u001b[0;32m   1402\u001b[0m                 \u001b[1;31m# Post-Processing the output of a ant colony procedure\u001b[0m\u001b[1;33m\u001b[0m\u001b[1;33m\u001b[0m\u001b[0m\n",
        "\u001b[1;32m/home/kohvaeip/RLS/lib/antaRNA/antaRNA_v109.pyc\u001b[0m in \u001b[0;36mrunColony\u001b[1;34m(s, SC, objective_to_target_distance, GC, alpha, beta, evaporation_rate, correction_terms, verbose, IUPAC, IUPAC_compatibles, degreeOfSequenceInducement, IUPAC_reverseComplements, termination_convergence, convergence_count, reset_limit, improve, temperature, paramFile)\u001b[0m\n\u001b[0;32m   1141\u001b[0m                 \u001b[0mterrain\u001b[0m \u001b[1;33m=\u001b[0m \u001b[0minitTerrain\u001b[0m\u001b[1;33m(\u001b[0m\u001b[0ms\u001b[0m\u001b[1;33m)\u001b[0m\u001b[1;33m\u001b[0m\u001b[0m\n\u001b[0;32m   1142\u001b[0m                 \u001b[1;31m#print len(terrain),\u001b[0m\u001b[1;33m\u001b[0m\u001b[1;33m\u001b[0m\u001b[0m\n\u001b[1;32m-> 1143\u001b[1;33m                 \u001b[0mterrain\u001b[0m \u001b[1;33m=\u001b[0m \u001b[0mapplyTerrainModification\u001b[0m\u001b[1;33m(\u001b[0m\u001b[0mterrain\u001b[0m\u001b[1;33m,\u001b[0m \u001b[0ms\u001b[0m\u001b[1;33m,\u001b[0m \u001b[0mGC\u001b[0m\u001b[1;33m,\u001b[0m \u001b[0mSC\u001b[0m\u001b[1;33m,\u001b[0m \u001b[0mBPstack\u001b[0m\u001b[1;33m,\u001b[0m \u001b[0mIUPAC\u001b[0m\u001b[1;33m,\u001b[0m \u001b[0mIUPAC_compatibles\u001b[0m\u001b[1;33m,\u001b[0m \u001b[0mIUPAC_reverseComplements\u001b[0m\u001b[1;33m)\u001b[0m\u001b[1;33m\u001b[0m\u001b[0m\n\u001b[0m\u001b[0;32m   1144\u001b[0m                 \u001b[1;31m#print len(terrain[0])\u001b[0m\u001b[1;33m\u001b[0m\u001b[1;33m\u001b[0m\u001b[0m\n\u001b[0;32m   1145\u001b[0m                 \u001b[1;31m#printTerrain(terrain)\u001b[0m\u001b[1;33m\u001b[0m\u001b[1;33m\u001b[0m\u001b[0m\n",
        "\u001b[1;32m/home/kohvaeip/RLS/lib/antaRNA/antaRNA_v109.pyc\u001b[0m in \u001b[0;36mapplyTerrainModification\u001b[1;34m(terrain, s, tmpGC, SC, BPstack, IUPAC, IUPAC_compatibles, IUPAC_reverseComplements)\u001b[0m\n\u001b[0;32m    530\u001b[0m                         \u001b[1;32mfor\u001b[0m \u001b[0mi\u001b[0m \u001b[1;32min\u001b[0m \u001b[1;33m[\u001b[0m\u001b[1;34m\"A\"\u001b[0m\u001b[1;33m,\u001b[0m \u001b[1;34m\"C\"\u001b[0m\u001b[1;33m,\u001b[0m \u001b[1;34m\"G\"\u001b[0m\u001b[1;33m,\u001b[0m \u001b[1;34m\"U\"\u001b[0m\u001b[1;33m]\u001b[0m\u001b[1;33m:\u001b[0m\u001b[1;33m\u001b[0m\u001b[0m\n\u001b[0;32m    531\u001b[0m                                 \u001b[1;32mif\u001b[0m \u001b[0mstr\u001b[0m\u001b[1;33m(\u001b[0m\u001b[0msuccessor_pos\u001b[0m\u001b[1;33m)\u001b[0m \u001b[1;33m+\u001b[0m \u001b[1;34m\".\"\u001b[0m \u001b[1;33m+\u001b[0m \u001b[0mto_nt\u001b[0m \u001b[1;33m+\u001b[0m \u001b[0mi\u001b[0m \u001b[1;32min\u001b[0m \u001b[0mterrain\u001b[0m\u001b[1;33m:\u001b[0m\u001b[1;33m\u001b[0m\u001b[0m\n\u001b[1;32m--> 532\u001b[1;33m                                         \u001b[0mchildren\u001b[0m\u001b[1;33m.\u001b[0m\u001b[0mappend\u001b[0m\u001b[1;33m(\u001b[0m\u001b[0mstr\u001b[0m\u001b[1;33m(\u001b[0m\u001b[0msuccessor_pos\u001b[0m\u001b[1;33m)\u001b[0m \u001b[1;33m+\u001b[0m \u001b[1;34m\".\"\u001b[0m \u001b[1;33m+\u001b[0m \u001b[0mto_nt\u001b[0m \u001b[1;33m+\u001b[0m \u001b[0mi\u001b[0m\u001b[1;33m)\u001b[0m\u001b[1;33m\u001b[0m\u001b[0m\n\u001b[0m\u001b[0;32m    533\u001b[0m                 \u001b[0mterrain\u001b[0m\u001b[1;33m[\u001b[0m\u001b[0mterrainelement\u001b[0m\u001b[1;33m]\u001b[0m \u001b[1;33m=\u001b[0m \u001b[1;33m(\u001b[0m\u001b[0mpheromone\u001b[0m\u001b[1;33m,\u001b[0m \u001b[0mpathlength\u001b[0m\u001b[1;33m,\u001b[0m\u001b[0mchildren\u001b[0m\u001b[1;33m)\u001b[0m\u001b[1;33m\u001b[0m\u001b[0m\n\u001b[0;32m    534\u001b[0m         \u001b[0mstarts\u001b[0m \u001b[1;33m=\u001b[0m \u001b[1;33m[\u001b[0m\u001b[1;33m]\u001b[0m\u001b[1;33m\u001b[0m\u001b[0m\n",
        "\u001b[1;31mKeyboardInterrupt\u001b[0m: "
       ]
      }
     ],
     "prompt_number": 6
    },
    {
     "cell_type": "markdown",
     "metadata": {},
     "source": [
      "Output results to file."
     ]
    },
    {
     "cell_type": "code",
     "collapsed": false,
     "input": [
      "performance_log_file = opts.get('performance_log_file')\n",
      "relative_size = opts.get('relative_size')\n",
      "header = 'RNADesign test on rfam family %s. \\n' %rfam_id\n",
      "header = header + 'Performance measure collection on 10 runs of %f of data.\\n' %relative_size\n",
      "header = header + 'Overall time %f seconds. \\n' %elapsed_time\n",
      "\n",
      "header = header + 'Sequence design constraints for this experiment: \\n'\n",
      "Cstr_threshold = opts.get('nt_importance_threshold')\n",
      "Cstr_adjaceny = opts.get('nmin_important_nt_adjaceny')\n",
      "DotBr_threshold = opts.get('bp_importance_threshold')\n",
      "DotBr_adjacency = opts.get('nmin_important_bp_adjaceny')\n",
      "unpaired_adjacency = opts.get('nmin_unpaired_nt_adjacency')\n",
      "\n",
      "header = header + 'Generic model sequence constraints: \\n'\n",
      "header = header + 'Nucleotide importance threshold:\\t\\t%f\\n' %Cstr_threshold\n",
      "header = header + 'Minimum number of adjacent important nucleotides:\\t\\t%d\\n' %Cstr_adjaceny\n",
      "\n",
      "header = header + 'Dot-bracket notation constraints: \\n'\n",
      "header = header + 'Nucleotide importance threshold:\\t\\t%f\\n' %DotBr_threshold\n",
      "header = header + 'Minimum number of adjacent base pairs:\\t\\t%d\\n' %DotBr_adjacency\n",
      "\n",
      "header = header + 'Unpaired regions constraint: \\n'\n",
      "header = header + 'Minimum number of adjacent unpaired nodes:\\t\\t%d\\n' %unpaired_adjacency\n",
      "\n",
      "measures_list = []\n",
      "\n",
      "measures_list.append( exp.output_measure_column(mroct, 'ROC' , header = 'True Samples' ))\n",
      "measures_list.append( exp.output_measure_column(mrocs, 'ROC' , header = 'Mixed Samples' ))\n",
      "measures_list.append( exp.output_measure_column(maprt, 'APR' , header = 'True Samples' ))\n",
      "measures_list.append( exp.output_measure_column(maprs, 'APR' , header = 'Mixed Samples' ))\n",
      "\n",
      "\n",
      "exp.flush_to_file(measures_list , performance_log_file, header)"
     ],
     "language": "python",
     "metadata": {},
     "outputs": []
    },
    {
     "cell_type": "code",
     "collapsed": false,
     "input": [],
     "language": "python",
     "metadata": {},
     "outputs": []
    }
   ],
   "metadata": {}
  }
 ]
}