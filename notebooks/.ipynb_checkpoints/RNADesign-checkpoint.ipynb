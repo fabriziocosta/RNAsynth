{
 "cells": [
  {
   "cell_type": "markdown",
   "metadata": {},
   "source": [
    "#RNA synthesis of a ncRNA family\n",
    "\n",
    "We want to design new RNA sequences whose traits comply with a given RNA family. \n",
    "For this purpose we use EDeN to come up with a notion of \"importance\" in\n",
    "existing sequences, calculate sequence constraints based on this importance, and then utilize antaRNA for RNA inverse folding using these constraints. "
   ]
  },
  {
   "cell_type": "code",
   "execution_count": null,
   "metadata": {
    "collapsed": false
   },
   "outputs": [],
   "source": [
    "%matplotlib inline\n",
    "%load_ext autoreload\n",
    "%autoreload 2"
   ]
  },
  {
   "cell_type": "code",
   "execution_count": null,
   "metadata": {
    "collapsed": false
   },
   "outputs": [],
   "source": [
    "import logging\n",
    "from eden.util import configure_logging\n",
    "configure_logging(logging.getLogger(), verbosity=2, filename='rna.log')"
   ]
  },
  {
   "cell_type": "markdown",
   "metadata": {},
   "source": [
    "*Define experimental parameters*"
   ]
  },
  {
   "cell_type": "code",
   "execution_count": null,
   "metadata": {
    "collapsed": false
   },
   "outputs": [],
   "source": [
    "params = {'rfam_id':'RF00005',\n",
    "          'antaRNA_params':'../evaluation/antaRNA.ini' ,\n",
    "          'nt_importance_threshold':0 , \n",
    "          'nmin_important_nt_adjaceny':1 , \n",
    "          'bp_importance_threshold':0 ,\n",
    "          'nmin_important_bp_adjaceny':1 , \n",
    "          'nmin_unpaired_nt_adjacency':1 , \n",
    "          'multi_sequence_size':3 , \n",
    "          'filtering_threshold':0 , \n",
    "          'batch_proportion':10 , \n",
    "          'data_fractions':[0.06,0.1, 0.2,0.3] , \n",
    "          'experiment_repetitions':5 ,\n",
    "          'split_ratio':0.2,\n",
    "          'vectorizer_complexity':2,\n",
    "          'negative_shuffle_ratio':2}"
   ]
  },
  {
   "cell_type": "markdown",
   "metadata": {},
   "source": [
    "*Run the experiment*"
   ]
  },
  {
   "cell_type": "code",
   "execution_count": null,
   "metadata": {
    "collapsed": false,
    "scrolled": false
   },
   "outputs": [],
   "source": [
    "%%time\n",
    "from evaluation.PerformanceEvaluation import compute_learning_curves\n",
    "roc_t , roc_s , apr_t , apr_s, data_fractions  = compute_learning_curves(params)"
   ]
  },
  {
   "cell_type": "markdown",
   "metadata": {},
   "source": [
    "*Plot the computed learning curves*"
   ]
  },
  {
   "cell_type": "code",
   "execution_count": null,
   "metadata": {
    "collapsed": false
   },
   "outputs": [],
   "source": [
    "from evaluation.draw_utils import  draw_learning_curve\n",
    "draw_learning_curve(data_A=roc_t, data_B=roc_s, x=data_fractions, measure='ROC')\n",
    "draw_learning_curve(data_A=apr_t, data_B=apr_s, x=data_fractions, measure='APR')"
   ]
  }
 ],
 "metadata": {
  "kernelspec": {
   "display_name": "Python 2",
   "language": "python",
   "name": "python2"
  },
  "language_info": {
   "codemirror_mode": {
    "name": "ipython",
    "version": 2
   },
   "file_extension": ".py",
   "mimetype": "text/x-python",
   "name": "python",
   "nbconvert_exporter": "python",
   "pygments_lexer": "ipython2",
   "version": "2.7.6"
  }
 },
 "nbformat": 4,
 "nbformat_minor": 0
}
