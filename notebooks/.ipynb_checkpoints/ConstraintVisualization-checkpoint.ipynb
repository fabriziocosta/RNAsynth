{
 "metadata": {
  "name": "",
  "signature": "sha256:676ccd50c61c8c53bcdced5c02831e3dd912b04205f3ff3fa720a792a459a7c0"
 },
 "nbformat": 3,
 "nbformat_minor": 0,
 "worksheets": [
  {
   "cells": [
    {
     "cell_type": "markdown",
     "metadata": {},
     "source": [
      "#RNA family characterization\n",
      "\n",
      "Application scenario: we want to characterize the sequence patterns and structure of a set of RNA seqeunces"
     ]
    },
    {
     "cell_type": "markdown",
     "metadata": {},
     "source": [
      "Aquire data."
     ]
    },
    {
     "cell_type": "code",
     "collapsed": false,
     "input": [
      "rfam_id = 'RF00005'\n",
      "#rfam_id = 'RF01051'\n",
      "#rfam_id = 'RF00008'\n",
      "#rfam_id = 'RF00175'\n",
      "#rfam_id = 'RF00059'\n",
      "#rfam_id = '\n",
      "#rfam_id = '\n",
      "#rfam_id = '\n",
      "#rfam_id = 'RF00008'\n",
      "def rfam_url(family_id):\n",
      "    return 'http://rfam.xfam.org/family/%s/alignment?acc=%s&format=fastau&download=0'%(family_id,family_id)"
     ],
     "language": "python",
     "metadata": {},
     "outputs": [],
     "prompt_number": 1
    },
    {
     "cell_type": "markdown",
     "metadata": {},
     "source": [
      "Convert the fasta database into eden graphs."
     ]
    },
    {
     "cell_type": "code",
     "collapsed": false,
     "input": [
      "def create_sequence_pool(rfam_id):\n",
      "    from eden.converter.fasta import fasta_to_sequence\n",
      "    iterable = fasta_to_sequence(rfam_url(rfam_id))\n",
      "    sequence_pool = []\n",
      "    for fasta in iterable:\n",
      "        sequence_pool.append(fasta[1])\n",
      "    return sequence_pool\n",
      "#print create_sequence_pool(rfam_id)"
     ],
     "language": "python",
     "metadata": {},
     "outputs": [],
     "prompt_number": 2
    },
    {
     "cell_type": "code",
     "collapsed": false,
     "input": [
      "from eden.converter.fasta import fasta_to_sequence\n",
      "from eden.converter.rna.rnafold import rnafold_to_eden\n",
      "\n",
      "iterable_pos = fasta_to_sequence( rfam_url(rfam_id) )\n",
      "members = 0\n",
      "for item in iterable_pos:\n",
      "    members += 1\n",
      "print members"
     ],
     "language": "python",
     "metadata": {},
     "outputs": [
      {
       "output_type": "stream",
       "stream": "stdout",
       "text": [
        "954\n"
       ]
      }
     ],
     "prompt_number": 3
    },
    {
     "cell_type": "code",
     "collapsed": false,
     "input": [
      "iterable_pos = fasta_to_sequence( rfam_url(rfam_id) )\n",
      "\n",
      "from itertools import islice, tee\n",
      "iterable_pos, iterable_pos_ = tee(iterable_pos)\n",
      "\n",
      "from eden.modifier.seq import seq_to_seq,  shuffle_modifier\n",
      "iterable_neg = seq_to_seq( iterable_pos_ , modifier=shuffle_modifier, times=3, order=2 )\n",
      "\n",
      "#Positive sample graphs.\n",
      "graphs_pos = rnafold_to_eden( iterable_pos )\n",
      "#Negative sample graphs.\n",
      "graphs_neg = rnafold_to_eden( iterable_neg )\n"
     ],
     "language": "python",
     "metadata": {},
     "outputs": [],
     "prompt_number": 4
    },
    {
     "cell_type": "markdown",
     "metadata": {},
     "source": [
      "Split test and train graph sets into fixed test and train portions. (20% for training)"
     ]
    },
    {
     "cell_type": "code",
     "collapsed": false,
     "input": [
      "from itertools import islice, chain\n",
      "from eden.util import fit,estimate\n",
      "from eden.graph import Vectorizer\n",
      "import RNADesignToolsV2 as rdt\n",
      "\n",
      "antaRNA_param_file = '/home/kohvaeip/RLS/lib/antaRNA/antaRNA.ini'"
     ],
     "language": "python",
     "metadata": {},
     "outputs": [],
     "prompt_number": 7
    },
    {
     "cell_type": "code",
     "collapsed": false,
     "input": [
      "vectorizer = Vectorizer( complexity = 2 )"
     ],
     "language": "python",
     "metadata": {},
     "outputs": [],
     "prompt_number": 8
    },
    {
     "cell_type": "code",
     "collapsed": false,
     "input": [
      "%%time\n",
      "estimator = fit(graphs_pos , graphs_neg , vectorizer, n_jobs=1, cv=3)"
     ],
     "language": "python",
     "metadata": {},
     "outputs": [
      {
       "output_type": "stream",
       "stream": "stdout",
       "text": [
        "Classifier:\n",
        "SGDClassifier(alpha=5.10271406841e-05, class_weight='auto', epsilon=0.1,\n",
        "       eta0=4.08836917069, fit_intercept=True, l1_ratio=0.15,\n",
        "       learning_rate='optimal', loss='hinge', n_iter=18, n_jobs=1,\n",
        "       penalty='l2', power_t=0.897414238422, random_state=None,\n",
        "       shuffle=True, verbose=0, warm_start=False)\n",
        "--------------------------------------------------------------------------------\n",
        "Predictive performance:\n",
        "            accuracy: 0.963 +- 0.013"
       ]
      },
      {
       "output_type": "stream",
       "stream": "stdout",
       "text": [
        "\n",
        "           precision: 0.944 +- 0.051"
       ]
      },
      {
       "output_type": "stream",
       "stream": "stdout",
       "text": [
        "\n",
        "              recall: 0.930 +- 0.024"
       ]
      },
      {
       "output_type": "stream",
       "stream": "stdout",
       "text": [
        "\n",
        "                  f1: 0.930 +- 0.025"
       ]
      },
      {
       "output_type": "stream",
       "stream": "stdout",
       "text": [
        "\n",
        "   average_precision: 0.980 +- 0.008"
       ]
      },
      {
       "output_type": "stream",
       "stream": "stdout",
       "text": [
        "\n",
        "             roc_auc: 0.990 +- 0.002"
       ]
      },
      {
       "output_type": "stream",
       "stream": "stdout",
       "text": [
        "\n",
        "--------------------------------------------------------------------------------\n",
        "CPU times: user 7min 22s, sys: 36.5 s, total: 7min 58s\n",
        "Wall time: 9min 1s\n"
       ]
      }
     ],
     "prompt_number": 9
    },
    {
     "cell_type": "code",
     "collapsed": false,
     "input": [
      "%%time\n",
      "iterable_pos_ = fasta_to_sequence( rfam_url(rfam_id) )\n",
      "graphs = rnafold_to_eden( iterable_pos_ )\n",
      "agraphs = vectorizer.annotate(graphs, estimator)\n",
      "# Design the batch of new sequences.\n",
      "#dsi = rdt.DesignRNA(antaRNA_param_file , graphs , vectorizer, estimator, 0, 3, 0, 3)"
     ],
     "language": "python",
     "metadata": {},
     "outputs": [
      {
       "output_type": "stream",
       "stream": "stdout",
       "text": [
        "CPU times: user 928 \u00b5s, sys: 0 ns, total: 928 \u00b5s\n",
        "Wall time: 932 \u00b5s\n"
       ]
      }
     ],
     "prompt_number": 23
    },
    {
     "cell_type": "code",
     "collapsed": false,
     "input": [
      "import ConstraintFinder as cf\n",
      "reload(cf)\n",
      "\n",
      "#Generate graph list ******\n",
      "for g in agraphs:\n",
      "    print cf.antaRNA_dot_struct(g,-0.85, 3, 3)\n",
      "    print cf.antaRNA_constraint_string(g, -0.2 , 1 )\n",
      "#antaRNA_dot_struct(g,threshold, importance_adjacency = 1, unpaired_adjacency = 1)\n",
      "#antaRNA_constraint_string(g, threshold, adjacency = 1 , padding= 'N')\n",
      "#generate_antaRNA_constraints(graphs, Cseq_threshold, Cseq_adjacency, dotnot_threshold, dotnot_adjacency, unpaired_adjacency)\n",
      "#compute_gc_content\n",
      "\n",
      "# GNNGNUNUNGNUNANUNNUANANCNNNNGNNUNNNAANCNNNNNNNNNNGGUUCNAAUCCNNNNAUCNNCA\n",
      "# (((((((..(((A.......A))).(((((.......)))))....(((((.......))))))))))))A\n",
      "# -((((((----(---------)----((-(-------)-))------((-----------))-))))))--"
     ],
     "language": "python",
     "metadata": {},
     "outputs": [
      {
       "output_type": "stream",
       "stream": "stdout",
       "text": [
        "((A(((AA(A(A((AA((A(.....A((((((...))))))AA)A))A))A)A).........AA)))A))A\n",
        "GNNNCCNNAGNUNANNNNNANNNNNNCUCCUNNNNAANNNNNNNNNCNNNNNNUNGAANNNNNNNNNNNCCA\n",
        "(((((((........(AA(((AAA((A(((A(((((...)))))A))...)A))AAA)))AA))))))))A"
       ]
      },
      {
       "output_type": "stream",
       "stream": "stdout",
       "text": [
        "\n",
        "CAUUAGANNNNNNANAGNAAGNNNNNNNCNNNUAAANNNNUUAANAGNNNANNAGNNNUNNNUNCNAANGA\n",
        "((((((AAA((((.........))))AA(((((....)A))))A.....A(AA(A...A)AA)AAAA))))))A"
       ]
      },
      {
       "output_type": "stream",
       "stream": "stdout",
       "text": [
        "\n",
        "GCNCCCNNAGCUCNAUUNNNNNGAGNNNUNGNNNNNNNNNCAAANNNUNAGNNGNUCGNNUCCNNNNNNNCGCN\n",
        "((((((AAA((((.......))))AA((((((...))))))A.....AA(((.......)))AAA))))))A"
       ]
      },
      {
       "output_type": "stream",
       "stream": "stdout",
       "text": [
        "\n",
        "GCGGAAGNNGNUNNNNNNUAGAANNNCNNCUNNNNAAGNUNNNNNNNNNNNGUUCGAAUCCCNNNUUCCGCU\n",
        "(((AA(AAA(AAAA.......AAAA)AA..............AA((((...))))AA(A(((.......)))A)A)AA)))A"
       ]
      },
      {
       "output_type": "stream",
       "stream": "stdout",
       "text": [
        "\n",
        "NUGNNNNNNCNNNNNNNGUNNNNNNNNNNNNNNANNNANNNNNNNGGNNNNNCCCNCNNNNGUUCGAAUCCNNCNNNUNACG\n",
        "(((AA((.......AAA(A(AA(AAAA(((A(.......)A)))AAAA)AA)A)AAA(((((.......)))))))AA)))A"
       ]
      },
      {
       "output_type": "stream",
       "stream": "stdout",
       "text": [
        "\n",
        "GGNNNGANNNNNNNNNNGUNAANNNNNNNNNNNNNNNAANUNNNNNNNANNNNNNNNNNNNGUUCAAAUCNAGCNCNNNCCA\n",
        "(((AA(((((AAA((((((AA......A((((.......))))AA(A(A(....)A)A)AAA))))))A....))A)))AAA)))A"
       ]
      },
      {
       "output_type": "stream",
       "stream": "stdout",
       "text": [
        "\n",
        "GCCNNNNNNNNNNAANNNNNNNNNANNNAGGNNNNAAAANCCNNNNNNANNNNNNNNNCNNNCNGGNUNNANNNNNNNCCNNNNCA\n",
        "((A((((A((((((((AA...((AAAA((((.......))))AAAA))AAAA)))A))....)))))))A))A"
       ]
      },
      {
       "output_type": "stream",
       "stream": "stdout",
       "text": [
        "\n",
        "GNNNNCNNAGCUCNGNNNNNNNANCNNCNNNNNNNNNNGNNGNNNNNNNNNNGNUNGANNNNNCNANNNUCCA\n",
        "(((((((AAA(((.........)))AAA(AAA((AA...AA))AA)AAAAA(((.......)))AA)))))))A"
       ]
      },
      {
       "output_type": "stream",
       "stream": "stdout",
       "text": [
        "\n",
        "GNNCCNNNANNUNNNNNGGUNNGAANNNCNNNCNNNNNNNNNNNNNNNNNNNNGUUCGNNNCCCNNNCNNANCG\n",
        "(((((((...((((....))))AAA(((((.......)))))AAAAAA(((.......)))AA)))))))A"
       ]
      },
      {
       "output_type": "stream",
       "stream": "stdout",
       "text": [
        "\n",
        "GCGNGUNNANNUUANNNNNAAAANNNNAGCNNNNNNNGCNGANNNNNNNGGUUCGAUUCCCNNNACCCGCU\n",
        "((((((AA(AA(AAA((A((A((AA(....)A))A))A))AAAA)AA)A(((((.......)))))A))))))A"
       ]
      },
      {
       "output_type": "stream",
       "stream": "stdout",
       "text": [
        "\n",
        "GNNCCNNNANNUCNNCNNNNNANNNCNNNNNNCNNANNNGNNNNNNNNNNNUNGUUCGNNNCNANNNNNNCCCA\n",
        "(((((AAAA(((A.......A)))A((((A.......A))))....AAA((.......))AAAAA)))))A"
       ]
      },
      {
       "output_type": "stream",
       "stream": "stdout",
       "text": [
        "\n",
        "ANNNNNNNNGNUNNNNNNUANAANNNAGNNNNNNAAAANCNCNNNNNNNNGUUCGAUUCCNNNNNCCCCNN\n",
        "((((((AAA(A((........))A)AAA((A.......A))AA.....(AA((.......))AA)A))))))A"
       ]
      },
      {
       "output_type": "stream",
       "stream": "stdout",
       "text": [
        "\n",
        "ANNNNCNNNGNUNNAUUGGUAGNNNNNCNGNNNNNAAAANCNNNNNNUGNNNGUUCGNNNNUCNCNNCCCCNN\n",
        "(((((((AA((((........))))AA((((((...))))))A.....(((((.......))))))))))))A"
       ]
      },
      {
       "output_type": "stream",
       "stream": "stdout",
       "text": [
        "\n",
        "GCNNANANNNCUCNNNNGGUAGANNNNACCCUNNNNAANNGNNNNNNNCCNAGUUCGNNNCNNNNNANNANCA\n",
        "(((AAAAAAA(A.........A)A(AA(((.......)))AA)....(AA((.......))AA)AAAA)))A"
       ]
      },
      {
       "output_type": "stream",
       "stream": "stdout",
       "text": [
        "\n",
        "NGNNNNNNNNNNNANNNNNNNNNNNNNNNGUNNNGNNCCCNNNNNNNNNNGGUUCGAAUCCUNNNNNCCNNN\n",
        "(((((((AA((((.......))))A((A(A.......A)A)).....A((((.......))))A)))))))A"
       ]
      },
      {
       "output_type": "stream",
       "stream": "stdout",
       "text": [
        "\n",
        "GCCCUUNNAACUCNNNNNUAGAGNNANNCNNNNNNNNNNNNNNNNNNNNCNGUUCAAANCCGANAAANNGCU\n",
        "((A(((AA((A(A...A)A))AAAA(A(((A.......A)))A)AAA(((((.......)))))A)))A))A"
       ]
      },
      {
       "output_type": "stream",
       "stream": "stdout",
       "text": [
        "\n",
        "GCNNCNNNNNNNNNNNNNANANNNNNNNGNNNNNNNAAANCNNNGNNANAGGUUCAAAUCCNANNNNNNNCA\n",
        "((((((AAA((A..........A))AA((((.......)))).......AAA((.......))AAAA))))))A"
       ]
      },
      {
       "output_type": "stream",
       "stream": "stdout",
       "text": [
        "\n",
        "GCNNCNNNNNCNNNNNGGUUANAGNNNCCAANNNNNNANNGNNNANNUNNNNNGUUCAAUUCNNNNNNNANNCA\n",
        "((((((((AAAA...AA.....AAAAAA)(((((AA(((A(AAAA(A....A)AAAAA)A)))A)))))....)))))))A"
       ]
      },
      {
       "output_type": "stream",
       "stream": "stdout",
       "text": [
        "\n",
        "GCCUNGNNNNNNNNNNGNUANNNANNNNNNACUCNAAANCUNNNNCNANNNNNNNNNNNNNNUNGANNNNNNNNNAAGNCA\n",
        "((((A((AA((....(((((((A((((A.......A))))......A)))))))...))AA))A))))A"
       ]
      },
      {
       "output_type": "stream",
       "stream": "stdout",
       "text": [
        "\n",
        "AGNANNNNNNGNNAANNAAGCNANCNNNNNNNNNNCCCGANANNNNNGGNUUAAANNCUNNCNNNANUA\n",
        "((((((...((((......))))A((((((A...A))))))...(((((((.....)))))))))))))A"
       ]
      },
      {
       "output_type": "stream",
       "stream": "stdout",
       "text": [
        "\n",
        "AAGANANNNNNAAAANNAANNANNNAANUNNNNNAAAGNUANANNANAGANNAANNANCNANANANCUUA\n",
        "(((((AA((A(...)A))AAA(((((((.......)))))))AAAAA((A.....A))AAAAA)))))A"
       ]
      },
      {
       "output_type": "stream",
       "stream": "stdout",
       "text": [
        "\n",
        "GNUUCNNNANNNNAANNANANNGANGANNNNNNNNGNNANNGNNNNNANNNNNNNNNNNNNNAGAAANA\n",
        "(((((((AAAA((...))AAA((((((A...A))))))....((A(((....)))A)))))))))A"
       ]
      },
      {
       "output_type": "stream",
       "stream": "stdout",
       "text": [
        "\n",
        "NGUCUUANNNNGANNNNNNNNNCGAAUNNNNAAUUCGANNNNNNAGANNNANCUCNANNAAGANUN\n",
        "((((AA(A(((((A.....A))A)))A)...............(((((........)))))AA))))A"
       ]
      },
      {
       "output_type": "stream",
       "stream": "stdout",
       "text": [
        "\n",
        "ACUCNNNNAGNANANNNNNNANAANNNNNNNNNAANNNNNANNUUCUNNNNAAANNNAGANNNNAGUA\n",
        "(((((A(AAA(A........A)A((((((.......))))))....AA(((.......)))AA)A)))))A"
       ]
      },
      {
       "output_type": "stream",
       "stream": "stdout",
       "text": [
        "\n",
        "UAGAUNNNNNNNNNNNNNNNNNNNUUUAGNNNNUAACNAAANNNNNNNAGGUUNNANUCCNNNNAANCNAG\n",
        "(((((((AA(A((((AAAAA((((A(((......)))))))AAAAA))))....)AA)))))))A"
       ]
      },
      {
       "output_type": "stream",
       "stream": "stdout",
       "text": [
        "\n",
        "CACNANNNNGNNAANNNNNNUAANNUUNNNNNNNAAAGNUANNNNNCUUAAAANNNNNANAGNNA\n",
        "(A(A((AAA((((.......))))A(((AA.......AA)))....((((A....A))))A))A)A)A"
       ]
      },
      {
       "output_type": "stream",
       "stream": "stdout",
       "text": [
        "\n",
        "GNUAANNNAGCUUANNAANNAAGCNAAGCANNNANAANNCUNNNANNNANANUNNNANCCNANNAANA\n",
        "((((((A(A((((....(AAAA((A((((((....)A)))))......A))AA)AA))))AA)A))))))A"
       ]
      },
      {
       "output_type": "stream",
       "stream": "stdout",
       "text": [
        "\n",
        "ANUUUNANNNNANNNNNNNNNNCNNNNGGNNNNNNNNACCAANAANNNNGGNNNNAANCNAAANAAAAGUA\n",
        "(((((((((((...))))....((AAAA(((A.......A)))AAAA))AAA((.......))AAA)))))))A"
       ]
      },
      {
       "output_type": "stream",
       "stream": "stdout",
       "text": [
        "\n",
        "GNNCCNANAGCUNNGCNNNUNNNNNNNNACCCNNNNNNNNNGNNNNNNNNNAAGUUCAANNNUNNNNANNCCCA\n",
        "((((A(((((((.....)))))((AAAA(((A.......A)))AAAA))(((((.......)))))))A))))A"
       ]
      },
      {
       "output_type": "stream",
       "stream": "stdout",
       "text": [
        "\n",
        "GNNNNANNAGNNNNNNNNGNUAGNNCNNACCCNNNNNNNNNGNNNNNNCCCNNGUUCAANNCNNGNANNNCCCA\n",
        "(((((A(((((((........))))AAA((((AA((.....))AA))))A(((.......))))))A)))))A"
       ]
      },
      {
       "output_type": "stream",
       "stream": "stdout",
       "text": [
        "\n",
        "GCCCNNANAGCUCNNNNNNUAGAGNNNNNNNNNNNNAANNNNNNNNNCNNNNGUUCAANNCCCNNNUNNNNCN\n",
        "(((((A(AA((((.......))))...........((AA....AA))A((((.......))))A)A)))))A"
       ]
      },
      {
       "output_type": "stream",
       "stream": "stdout",
       "text": [
        "\n",
        "GNNGNNNNAGCUCNNNNNUAGAGCNNUNNNNNNNNNANNNNNNNNNCCCNNGUUCAAAUCNNNNNNNCCCCN\n",
        "((((((A(.......A(((A(((((....(((A...........A)))....))))AA)A)))A)A))))))A"
       ]
      },
      {
       "output_type": "stream",
       "stream": "stdout",
       "text": [
        "\n",
        "GCCGAAANAGNNNNNNNNNNNNNNNNNNNNNNNNANNNNNNANNNNNCNNNNGNUCNNNCCNNNNNNUCNNCA\n",
        "(A((((AAA(((AA((((.........))))AA)))AAAA.....AAAA((((.......))))AA))))A)A"
       ]
      },
      {
       "output_type": "stream",
       "stream": "stdout",
       "text": [
        "\n",
        "GNNUCCNNNNNNNANNGGNNNNNNNNNNCGCNNNANNNNNNNNNNNNNCCCGGUUCGNNNCCNNNNNGAAANA\n",
        "(((A((AA((A(...((((A((AA((.....))AAA))A))))AAA(((A(.....)A)))A)A))A))A)))A"
       ]
      },
      {
       "output_type": "stream",
       "stream": "stdout",
       "text": [
        "\n",
        "GUCUCNNNNNNNNNANCNNNUANNGNNNUNNNNNNNUAANCGANNNNNNNGNNGNUNNNNNCNNNCNANNNANG\n",
        "((AA((((........((A((A(AA(((((AAAAA...AAAAA....)))))....)A))A))))))AA))A"
       ]
      },
      {
       "output_type": "stream",
       "stream": "stdout",
       "text": [
        "\n",
        "UCCUNNNNNNNNNNNNNNNNNNNNNCCCCNNCNNNNNNNNNNNNNNNCNNGGUUCGANUCNCNNNNNNNNNN\n",
        "(((((((A(((AA((AA......AA))AA)))....A(A....A)AAAAA((.......))AAA)))))))A"
       ]
      },
      {
       "output_type": "stream",
       "stream": "stdout",
       "text": [
        "\n",
        "AGNAGANNNGCNNANNNNNNNNNNNNNNNNCCNNNAACCNNNNNGNNNNNNNANCGAAANCUNNNUCNNCUA\n",
        "((AA((A(((...((((........))))A((((AAA((A((((A(A(....)A)A)A)))))AAA)))))))AA))AA))A"
       ]
      },
      {
       "output_type": "stream",
       "stream": "stdout",
       "text": [
        "\n",
        "GNUAGCNNNNNNNNNNNNNNNANNNCGCNNGANNANNGNNNNNNNNUNNNNNNNNNNNNNNGNUNGAANCCNANCNCNNNCA\n",
        "(A((((A.......A((.....))AA(((((.......))))).....A((((((...))))))AA))))A)A"
       ]
      },
      {
       "output_type": "stream",
       "stream": "stdout",
       "text": [
        "\n",
        "GNNUCCNNANNNNNNNGNNNNNNANNNUCNCNNAANNNNCGAANNNNNCCCNNNUNGNAANCNNNNNGAAANA\n",
        "(((((AAAA((((........))))....A(AA((.......))AA)AA((((.......))))AAA)))))A"
       ]
      },
      {
       "output_type": "stream",
       "stream": "stdout",
       "text": [
        "\n",
        "GCCNNNNNNGCUCNNNNNNUAGAGCNNNNNANUNNNNANNNNNNNNNNNNGGGUUCGNNNCCCACNNNNNNCN\n",
        "(A((((A.......A((.....))AA(((((.......))))).....A((((((...))))))AA))))A)A"
       ]
      },
      {
       "output_type": "stream",
       "stream": "stdout",
       "text": [
        "\n",
        "GNNUCCNNANNNNNNNGGUNNNNANNNUCNCNNNNNNNNCGAANNNNNCCCNNNUNGNAANCNNNNNGAAANA\n",
        "(((((A(AA((((.....))))......(AA(((A(((A....A)))...)))AA).....)A)))))A"
       ]
      },
      {
       "output_type": "stream",
       "stream": "stdout",
       "text": [
        "\n",
        "GNAAANAUAGNUNAANNAAAANNNNNNNNNNNNNNNCUNNNNNNAGNNNNNCANNNNNNNNNAUUUANN\n",
        "(((((((AAA((.....A((A.....A))A.....AAA((A((...))A))AAA...))A...)))))))A"
       ]
      },
      {
       "output_type": "stream",
       "stream": "stdout",
       "text": [
        "\n",
        "ANUUUUANNNNANAANNNNNNNNNNNNGNNNNNNNNNNCCAAAANNNNNGNNNNNNNNCNAAANAAAAGUA\n",
        "((((((A(A((.....))A)A.....A((((.....(((....AAA((((...))))AAA....))).....))))A))))))A"
       ]
      },
      {
       "output_type": "stream",
       "stream": "stdout",
       "text": [
        "\n",
        "GNNNNNNNNCCNNNNNNNNNNNNNNNNNNNNAACNAGAAANNNNNNNGGNNNNNCCCNCNNNNNNUCNAANNNNNCCNNUNNCG\n",
        "AA((((((((((AAAA(((AA((AAAA((........))AAAA))A)))AAAAA))A))))))))................."
       ]
      },
      {
       "output_type": "stream",
       "stream": "stdout",
       "text": [
        "\n",
        "NNGNNCNNNCCNNNNNGGUNNNNNNNNANNNNNANNAAUNNUNNNNGCUNNNNCCNNNCACNNUNNAANNNNNNNNNUNNNG\n",
        "(((((((AA(.....A((.....A(((((A.......A)))))AAA))A((((....)))))AA)))))))A"
       ]
      },
      {
       "output_type": "stream",
       "stream": "stdout",
       "text": [
        "\n",
        "GNCUCAANNGNNNNNNNNNNNNNNUCUCGNNNNNNNNNNNAGNNNNCCCNNNNNCAAANCCNNNNNGAGCCN\n",
        "AA((((AA(((...(A((.........))A)...))A)AA))))AAA(A((((.......))))AA)A....."
       ]
      },
      {
       "output_type": "stream",
       "stream": "stdout",
       "text": [
        "\n",
        "NNNUCCNNNNNNNNNNNGUNNNNNNNNCNNNNNAANNNNNNGANNNNCCCCGGUUCAANNCCNNNNNNNNNNA\n",
        "(A((((A.......A((.....))AAAA(A(.......)A)AA.....A((((.......))))AA))))A)A"
       ]
      },
      {
       "output_type": "stream",
       "stream": "stdout",
       "text": [
        "\n",
        "GNNNUCNNANNNNNNNGGUNNNNANNNNNNNNNNNNANGCANANNNNNCCCGGUUCGANNCCNNNNGAAAANA\n",
        "((((((A..............((A(((((A.......A)))))AA))A((((.......))))AA))))))A"
       ]
      },
      {
       "output_type": "stream",
       "stream": "stdout",
       "text": [
        "\n",
        "GNCUCNNNGNNNNNNNNNNNNGANUCUCGNUNNNNNNNNNAGNNNNCCCNNGUUCAAAUCCCNNNNGAGCCN\n",
        "((((((A(AAA(AAA(((AA(.........)AA)))AA)AAA)...A((((.......))))AA))))))A"
       ]
      },
      {
       "output_type": "stream",
       "stream": "stdout",
       "text": [
        "\n",
        "GCACCNNNGNNNNNNNNNNANNNNNNNNNNCNNNNANNNNNNNNNNCCNNGUUCGAUUCCCNNNNNNNNCA\n",
        "(AAAAAAAA((A..........A))AA((((.......))))AAAA((...))AAAAA((((.......))))AAAAAAA)A"
       ]
      },
      {
       "output_type": "stream",
       "stream": "stdout",
       "text": [
        "\n",
        "GNNNNNNNNNCNNNNNNGUUNNNNNNNCUNNNNNGNNAUNAGANUCCCNNNNNNNNNNNAGGUUCGAAUCCNNNNNNNNNNN\n",
        "((((((AA((((....))))A...(((((((.......)))))))A((....))AAA(A(((.......)))A)A))))))A"
       ]
      },
      {
       "output_type": "stream",
       "stream": "stdout",
       "text": [
        "\n",
        "NNANNNNNNGNNNNNNNGNNANNNNNANNNNNNANNNANCNANNNNNNNNNNCCNNNNNNNGUUCGAAUCCNNCCGANNNNG\n",
        "(A((A((((((((...))).......((A((((........))))A))...........)))))A))A)A"
       ]
      },
      {
       "output_type": "stream",
       "stream": "stdout",
       "text": [
        "\n",
        "CANNNNAAAGCNANNNNAGNNNNAANCUNNUAANNNANNNNUUANNNNNNNNANNANNNNUUUANNNNNA\n",
        "(((((((.......(A((.........))A)AAA((((....))))AA((((.......))))A)))))))A"
       ]
      },
      {
       "output_type": "stream",
       "stream": "stdout",
       "text": [
        "\n",
        "NNNNNNNNANNNNNNNNNNNNNNNNNNCCNNNNNNNANNNNNNUNNNCCNGGUUCGNNNCCCNNNAANNNNN\n",
        "(((((((A((A(AAAA.............AAAA)AA))A.....((((........)))))))))))A"
       ]
      },
      {
       "output_type": "stream",
       "stream": "stdout",
       "text": [
        "\n",
        "GNGAANANAGNUNNNAANNAANNNNANNNNNNNAANCNNNNNNNNGGAAANAAANNNCCUNAUUNANN\n",
        "(((((((..............((A(((((A.......A)))))AA))(((((.......))))))))))))A"
       ]
      },
      {
       "output_type": "stream",
       "stream": "stdout",
       "text": [
        "\n",
        "GNCCGAANNNNNNNNNNNNNNGANUCUCGNNNNNNNNNNNAGNNNNCCCNGGUUCAANNCCCNNNUCNNCCN\n",
        "((((((AAA((((........))))A(((((.......)))))A....(((((.......)))))A))))))A"
       ]
      },
      {
       "output_type": "stream",
       "stream": "stdout",
       "text": [
        "\n",
        "GCCNGNNNAGCUCNNNNNNUAGAGCNCCAGANNNNNAANCUNGNNNNNNCGNGUUCGNNNNCCNNNNNNGGCU\n",
        "((A((((A((((A.......A))))...((AAAAA....AAAAA))(((((.......)))))))))A))A"
       ]
      },
      {
       "output_type": "stream",
       "stream": "stdout",
       "text": [
        "\n",
        "GCNNNGNNNNNUNNNNNNUAGAANNNNNNCCNNNNNNNNNNNNNNCCCNNGUUCGAUUCCCNNNNAANNCA\n",
        "(((((AAAA...((AA((((((A((((....((A......A))))))A))))))A))AAAAAA)))))A"
       ]
      },
      {
       "output_type": "stream",
       "stream": "stdout",
       "text": [
        "\n",
        "GNUNUNNNANNNGNAANACAANNAUGGNNNNNNNNNNNNNNGNNCNNNGNNNUANNCNNNNNNNGAANA\n",
        "(((A(((....((((A((((AAA((A(((AA.......AA))).......A))AAA)))))))))))A)))A"
       ]
      },
      {
       "output_type": "stream",
       "stream": "stdout",
       "text": [
        "\n",
        "GCCNNNANNNNNNANNGNNUNNNNNCCCACNNNNNNNNNNNNNNANNCNNNGNUCNAANCCNNGNNACNNCA\n",
        "(((((A(AAAAA((AA(.............)AA))AAAAAAAAAA(((A...A)))AAA((((.......))))A)A)))))A"
       ]
      },
      {
       "output_type": "stream",
       "stream": "stdout",
       "text": [
        "\n",
        "GNNANNANNNNNNNNNNNNNNANNNNNNNNNNNUNNNNNNNNNNNNUCCNNNNGNNNNNNGGGUUCGAAUCCCANNNNNNANA\n",
        "(((((A(AA((AAA(....)AAAA))AA((((.......))))AAAA((....))AAAAA((((.......))))A)A)))))A"
       ]
      },
      {
       "output_type": "stream",
       "stream": "stdout",
       "text": [
        "\n",
        "GNNANNNNNNCNNNNNNNNNNNNNNCNCNAGNNNNNANNNCUNNNCCUNNNNNNANNNNNNGGGUUCAAAUCCCANNNNNNANA\n",
        "((((((AA(((((A(((....))))))))........AAA......AAAAA(((.......)))AAA))))))A"
       ]
      },
      {
       "output_type": "stream",
       "stream": "stdout",
       "text": [
        "\n",
        "NNNNGNNNNGCGNNNCUNGNNNGNNCGNNNNNNUNNNNNNNNNNNNNNNNNNNGUUCAAAUCCCNNNNCCCCNN\n",
        "(((((((AA(((((((AA...((AAAA((A(.......)A))AAAA))AAAA)))A)))).....)))))))A"
       ]
      },
      {
       "output_type": "stream",
       "stream": "stdout",
       "text": [
        "\n",
        "GNNNGANNNGCUCNGNNNNNNNNNNNNCUNNNNNNNNNNNAGNNNNNNNNNNGNUNGAGCNNNNNNNCCUCCA\n",
        "((A(AA((A((((........))))A))AA((AAA(((AA....AA)))AAA))AAA((....))AAA)A))A"
       ]
      },
      {
       "output_type": "stream",
       "stream": "stdout",
       "text": [
        "\n",
        "GCCGNNNNAGCUCNAUUGGUAGAGCNANNNNNNNNNAANNNNNNNNNNNNNNGNNNAAGNNNNNUNNNCNNCA\n",
        "((((((AAA(A(((A(((((....AAA(((((.......)))))AAA(AAA(A....A)AAA))A))))A))))AAA))))))A"
       ]
      },
      {
       "output_type": "stream",
       "stream": "stdout",
       "text": [
        "\n",
        "GCNNANNNNNNNGAAUNGNNNNNNNCNNNAGNANNNNNNNCNANNNNNNNNNNNNNNNNNNNNGUNNAANNCCCNNNANCCGCA\n",
        "(((((((AA(A(((((A((...((AAAA((((AA...AA))))AAAA))A))A)))A))...)AAA)))))))A"
       ]
      },
      {
       "output_type": "stream",
       "stream": "stdout",
       "text": [
        "\n",
        "NNNNAANNAGNNCNGNUNGNUAGNNNNNNNNGNNUNNNNNCNNNNNNNNNNNNGNUNGNANNCNNNNUUCCCNN\n",
        "((((AAA(((((.....)))))((AAAAAA((.......))AAAAAA))(((((......)))))AAAA))))A"
       ]
      },
      {
       "output_type": "stream",
       "stream": "stdout",
       "text": [
        "\n",
        "NNCNNNNNAGCNNNNNNNGCNAGNNNNNNNNGUUNNNNNCCNNNNNNNNNNNGGUUCGNNCCCCNNNNNCGNNA\n",
        "(((((((AA(A(....A((((((((A.....A)))A)))))A...)A)A(((((.......))))))))))))A"
       ]
      },
      {
       "output_type": "stream",
       "stream": "stdout",
       "text": [
        "\n",
        "GNNNCUNNNNNNNNNNNNGNUAGAGNNNNNNNCUNNNAANNNNNNNNNNNNAGGUUCGNNNCCNANAAGNNCCA\n",
        "(((((((AAAAA...((.....))AAAAA((((A.......A))))A(A((AAA(AA((((A....A))))A)AAA))A)A)))))))A"
       ]
      },
      {
       "output_type": "stream",
       "stream": "stdout",
       "text": [
        "\n",
        "GNNNGAANNNCCNANNNNNNNNNNNNNNNNCNGNNNNNANAANCGNNNNNNNNNNNNANCCNNNNNNNNNUNGNANCCCNNNUCCUCNG\n",
        "A(((((AAAA(((.........)))AAA((((.......))))A.....(A(((.......)))A)A)))))AA"
       ]
      },
      {
       "output_type": "stream",
       "stream": "stdout",
       "text": [
        "\n",
        "NGCGNNNNNNNGNNNNUNNNUAGCUNNNCNNNNUNNNANNCCGNNNNNNNNNNGUUCAAAUCCNNCCCCCNCNN\n",
        "((((((AAA((((........))))AAAA((AA(((...((AA......AA)))))AAA))AAAAA))))))A"
       ]
      },
      {
       "output_type": "stream",
       "stream": "stdout",
       "text": [
        "\n",
        "GNCNCNNNAGCUCNNNNGGUAGAGCNNNNNNNNNAAAANCCNNNNNNNNNNNNNUCGNNNCNNNNCCGAGCCA\n",
        "(((A((A((AA(((AA((...AA(AAA((((.......))))A....)AA....))AA)))A))AA))A)))A"
       ]
      },
      {
       "output_type": "stream",
       "stream": "stdout",
       "text": [
        "\n",
        "GCGNNNNNNNNGANNNGGUUAACGNNNNAGANNNNNNNNCUGNNNNUNNNNNNUUCNNUUCCNNNNAANCGCN\n",
        "((((((AAAA((((((((....((AAAAAA(A.......A)AAAAAA))AA)))))A)))A.....A))))))A"
       ]
      },
      {
       "output_type": "stream",
       "stream": "stdout",
       "text": [
        "\n",
        "GNNCCNNNAGCUCNGNNNNUNAGANCNNACNCNNNNNNNNCNNNNNNNNNNNGGNUNGANNNNNNNNNNNCCCA\n",
        "((((A((((((((.......))))))A((AAAA.........AAAA))A(((.......)))AA))A))))A"
       ]
      },
      {
       "output_type": "stream",
       "stream": "stdout",
       "text": [
        "\n",
        "UCNANNNNAGCUCNNNNNUAGAGCNANNNNNNNNUAANNNNNNNNNNNNNNGUUCGAAUCCNNNCNNNNGNN\n",
        "(((((((.......AAAAAA....AAAAAAA((A....A))A.....AAAAA....AAAAAAA((A((.......))A)))))))))A"
       ]
      },
      {
       "output_type": "stream",
       "stream": "stdout",
       "text": [
        "\n",
        "GNAGAANNNNNNNNNNNNNNNNNNNNNNNNCCCNNNNNNNNNNNNNNNNNNNNNNNNNNNNNNNNNNGUUCAAAUCCCUCCUUCUCNG\n",
        "(A((((AAAA(A..........A)AA((((A.......A))))A...A((((.......))))AA))))A)A"
       ]
      },
      {
       "output_type": "stream",
       "stream": "stdout",
       "text": [
        "\n",
        "GNNCCNNNNGNNNNNNNNUUNNNNNNNNNCCNNNNNNNNNCNNNNNNNNNNGUUCGAAUCCCNNNNNNNNNA\n",
        "(((A(((AA((((......))))A(((((.......)))))....(((A......A))))))A)))A"
       ]
      },
      {
       "output_type": "stream",
       "stream": "stdout",
       "text": [
        "\n",
        "GNNNANNNAGCUUANNCNAAAGCNAGNCANNNANAANNNCNNNANNNNNNNNNNNACUCNANNAANA\n",
        "((AAA((A(((((........)))))(AA(A.......A)AA)....A((((.......))))A))AAA))A"
       ]
      },
      {
       "output_type": "stream",
       "stream": "stdout",
       "text": [
        "\n",
        "UCCUNNUNNGNNNNNNNNNNAANANNNNANNNNNNNNNNNNNGNNNNNCNGGUUCGAUUCCCGAANNNNNNN\n",
        "((A((((AA((((........))))A((AAA.......AAA)).....(AA((.......))AA)))))A))A"
       ]
      },
      {
       "output_type": "stream",
       "stream": "stdout",
       "text": [
        "\n",
        "GNNNNNANAGCUCNNNNGGUAGAGNNNNNNNNNNNNNNNNNANANNNNNNNNGUUCGNNNCCCCNNNNCUCCA\n",
        "A(((((AAAA((A.........A))AA(A(((.......)))A)A...A((((.......))))AA)))))AA"
       ]
      },
      {
       "output_type": "stream",
       "stream": "stdout",
       "text": [
        "\n",
        "NNNCUNNNNNNCNNNNNNNNNNNNANNNNNANNNNNNANNUCUNNANNNNAGGUUCGAAUCCNANNNAGCCNA\n",
        "A((AA((AA((((.......))))AA(((((....)A))))A.....AA(((.......)))AA))AA))AA"
       ]
      },
      {
       "output_type": "stream",
       "stream": "stdout",
       "text": [
        "\n",
        "NNCNNNNNNNCUCNANNNNNNAGNNNCUNNNNNNNNNNNAGNNNNNNNNNNGUUCGAAUCCNNNNACNNANN\n",
        "(((AA((((A(......)A))))A(AA(AAA.......AAA)AA)AAAA((((.......))))AAAAA)))A"
       ]
      },
      {
       "output_type": "stream",
       "stream": "stdout",
       "text": [
        "\n",
        "GCCCNNCNANNNNNNNNNNNAGNNNNCACNNNNNNNANNCNNNNNNNNNNGGGUUCGNNNCCCANNNNNNNNN\n",
        "(((((((.......(((.....)))((((((.......))))))...(((((.......))))))))))))A"
       ]
      },
      {
       "output_type": "stream",
       "stream": "stdout",
       "text": [
        "\n",
        "GNNCCNANNNNNNNGNGGUNNNNANNUCNNNNNNNNANNCCGAAAANCNNNGUUCGAAUCCNNNNAGGNNCA\n",
        "A((((((AA(((A.........A)))A((((A(....)AA)))).....AA(((.......)))AA))))))AA"
       ]
      },
      {
       "output_type": "stream",
       "stream": "stdout",
       "text": [
        "\n",
        "NNCNNNNNAGAGNNAUUGNNNNNCUNNUNANNNUNNNNNNCNNANNANNNNNNGUUCGAAUCCNNNCCCCNCNN\n",
        "((((A((A(AAAA(A((((...A((A(A(((A.......A)))....A)A))AAA))))A)AA)AA))A))))A"
       ]
      },
      {
       "output_type": "stream",
       "stream": "stdout",
       "text": [
        "\n",
        "GNUNNNANNNNNNANNCGGNNNNNACGAANCCUUAANNNNNAUNNNNNNNNNNNUUCGANNCCCNNNNNNAANA\n",
        "((((((A(((AA(AAAA(......)AAA)AA)))..............A((((.......))))AA))))))A"
       ]
      },
      {
       "output_type": "stream",
       "stream": "stdout",
       "text": [
        "\n",
        "UCCUCNNNAGNUNNNNNNNUANNNNNNNNNNNNNNUNANNNNNNNNNNNNNNGUUCGNNNCNANNNAGANNNN\n",
        "((A((((AA(((((((AA...((AAAA((((.......))))AAAA))AAAA)))A))....))A))))A))A"
       ]
      },
      {
       "output_type": "stream",
       "stream": "stdout",
       "text": [
        "\n",
        "GNNNAANNAGCUCNGNNNNNNNANCNNCNNNNNNNNNNGNNGNNNNNNNNNNGNUNGANNNNNCNANUNUCCA\n",
        "(((((((AA(((.......)))......................(((((.......))))))))))))A"
       ]
      },
      {
       "output_type": "stream",
       "stream": "stdout",
       "text": [
        "\n",
        "GCUCUUCNNNNANNNNNNNNNNANNNNNNNNNNAANNNNNNAAANCUGNNNNNAANCNAGNGAAGAGCA\n",
        "((A((AAAA((((........))))AA((((.......))))AA((AA((((......))))))AAA))A))A"
       ]
      },
      {
       "output_type": "stream",
       "stream": "stdout",
       "text": [
        "\n",
        "GNNNNNNNNGCUCNNNNNNNNNAGNNNCNNNNNNNNNNGNNNNNGNNNNGNNNNUCGNNCCNCCUNNNNUCCA\n",
        "((A((A(AA((((........))))AA((A(((...)))A))A.....(((((.......))))))A))A))A"
       ]
      },
      {
       "output_type": "stream",
       "stream": "stdout",
       "text": [
        "\n",
        "GNNNNNNNAGCUCNNNNGGUAGAGNNNCNNCUNNNNAAGNNNNNNNNNNNNNGUUCGNNNCCNCNAANCUCCA\n",
        "((((((AAA(((......)))A((A(((((((.......)))))))A))(AA((.......))AA)A))))))A"
       ]
      },
      {
       "output_type": "stream",
       "stream": "stdout",
       "text": [
        "\n",
        "GNNCCCNNANCUNNNNNNGGNNGNNCNCCNNNNNNNNNANNANNCNNNNNNNNGUUCGAAUCCCUNNNNNCCCG\n",
        "((((AA(A((A(((AAAA....A((((A(A(...)A)A))))A....AAAA)))A.....)))AA))))A"
       ]
      },
      {
       "output_type": "stream",
       "stream": "stdout",
       "text": [
        "\n",
        "CAGANNGNAGNUUAANUNNNNNNNUUAGCUNUNNNNNNUAANNNNNNNNNNNAAAANNNNCNCNCUCUGA\n",
        "((((((A(((((.....)))))((AAAA(((A.......A)))AAAA))A(A((.......))A)AA))))))A"
       ]
      },
      {
       "output_type": "stream",
       "stream": "stdout",
       "text": [
        "\n",
        "GGNNCNNNAGNNNNNNNGGNUAGNNCNNACCCNNNNNNNNNGNNNNNNNNNNAGUUCGAANCNNCCNNGANCCA\n",
        "(((((((A(((A.....((AA((AA((A((.......))A))AA))AA))......A))))))))))A"
       ]
      },
      {
       "output_type": "stream",
       "stream": "stdout",
       "text": [
        "\n",
        "AGAAAUNNANGNNNAANNNNNNNNNNNNNCNNNNAANNCNCNNNNNNNNNNNNNANNNNNAAUUUCUN\n",
        ".........((((AA......A((AA((((((A...(A(.....)A)....A)A)))))A))AAA))))...."
       ]
      },
      {
       "output_type": "stream",
       "stream": "stdout",
       "text": [
        "\n",
        "NNNANNNNNNNCNNNNNNNNNNNGNNCUUAGNNNNNAACNAANNNNUNNNNNGUNUAAGNCCNNNNGNNNNNN\n",
        "(((((((A((A(((......(((((AAA.......AAA))A)))......)))...))A)))))))A"
       ]
      },
      {
       "output_type": "stream",
       "stream": "stdout",
       "text": [
        "\n",
        "CAANGAANAGNNUNNNNANNANNNNNGCNNNNNNNNNNGGNNNNNNNNNNNAANNNNNNNUCCUNGA\n",
        "(A(((AAAA(((........)))AAAA)((AA.......AA))......A((((.......))))A...))A)A"
       ]
      },
      {
       "output_type": "stream",
       "stream": "stdout",
       "text": [
        "\n",
        "GNCCCNNNNGCNNNANGGUNNGNNNNNNNCCCNNNNNNNNNNNNNNNUNNCCAGUUCAAANCNNNNNNNNNNNA\n",
        "(((((((.........(((...)))(((((.......)))))....AAA((.......))AAA)))))))A"
       ]
      },
      {
       "output_type": "stream",
       "stream": "stdout",
       "text": [
        "\n",
        "GCNNANANNNNNNNNNGNNNNNNNCNNAGANNNNNAANCUGANNANNNNNGUUCGAUUCUNNNNANCCGCU\n",
        "(((((((AA(AA...........AA)AAA(AA.......AA)AAAA(((....)))AAAA((((.......))))A)))))))A"
       ]
      },
      {
       "output_type": "stream",
       "stream": "stdout",
       "text": [
        "\n",
        "GCGAGAANNNNNNAAUUGGNANNNNNNNNNCANNNAAAANNNNNNNGAANNNNNUCCNNNNGGGUUCGNNNCCCANNUCUCGCA\n",
        "(((((((AAA(((...)))A...A(((((AA.......AA)))AA))A(((((.......))))))))))))A"
       ]
      },
      {
       "output_type": "stream",
       "stream": "stdout",
       "text": [
        "\n",
        "NNNNAANNNNNNAANNNGNNNNNNNANAGCNNNNNNNNNNCNANNNNNAAAGGUUCGNNNCCUNNANUCCNNN\n",
        "((A((((AA((((.......))))AAAAAA((A(AA(((....)))AA)A))AAAAAA......))))A))A"
       ]
      },
      {
       "output_type": "stream",
       "stream": "stdout",
       "text": [
        "\n",
        "GCUNAAGNAGCUCNNNNNUAGAGNNNNNNNNNNNNAANCNNNNNNNNNNNNNNCNGANNNNNNNNUNANNCA\n",
        "((A((((AA((((........))))AA(((((A...A)))))A.....(AA((.......))AA)))))A))A"
       ]
      },
      {
       "output_type": "stream",
       "stream": "stdout",
       "text": [
        "\n",
        "NNNNNNANAGCUCNANNNNUAGAGNNNUAGANNNNNNANCNAANNNNNGNNNGUUCGAUUCNNNNNANNNNNN\n",
        "((A((....((((....))))A(((AA((...))AA)))AA(((((A.......A)))))))A))A"
       ]
      },
      {
       "output_type": "stream",
       "stream": "stdout",
       "text": [
        "\n",
        "AGNUANNNNGCUNNANNAAGNNNANNNNNNNNAAANANANNANAGAANNNNNNNNUCNANUAANUN\n",
        "((((((AAA((((.......))))AA(((A.......A)))......A((((.......))))AA))))))A"
       ]
      },
      {
       "output_type": "stream",
       "stream": "stdout",
       "text": [
        "\n",
        "GGNNCNNNAACUCNANNNUAGAGNNNNCNNNNNNNANNCGNNNNNNNNCNNGUUCGAAUCCCNNNNNANCCA\n",
        "((((((AAA((((........))))A(((AA.......AA)))A((((A......A))))....A))))))A"
       ]
      },
      {
       "output_type": "stream",
       "stream": "stdout",
       "text": [
        "\n",
        "CAAUUUANNGCUNNNNNNNNAAAGCNNNUNNNNNNNNNNGAAANNAUUNNNNNNNAAANNNANNNAAAUNGA\n",
        "A((((((AAA(((.........)))AAA((((.......))))A.....AA(((.......)))AA))))))AA"
       ]
      },
      {
       "output_type": "stream",
       "stream": "stdout",
       "text": [
        "\n",
        "NNCNNNNNNNNGNNNNNNNNUAGCUNNNNNNNNUNNNANNCNNNNNNNNNNNNGUUCAAAUCCNNNCCCCNNNA\n",
        "........(((((AA(((((....AAA((((A(.........)A))))AAA....))))))))))"
       ]
      },
      {
       "output_type": "stream",
       "stream": "stdout",
       "text": [
        "\n",
        "NNNNNNNNAGNUNANNAAAANNNNNNNNCUNNNAAANNAAAAANAAGANNNNNNNNUUUAAAANN\n",
        "((AA(((AA((AA(...)AA))(((((A.......A)))))...((AA(.......)AA)))))AA))A"
       ]
      },
      {
       "output_type": "stream",
       "stream": "stdout",
       "text": [
        "\n",
        "NANANUNNGGNNNNNNNNNCANAAAAGNNNNNNNNNNUUUNNNNAANAGNUNNANNNNANNAAANANAN\n",
        "((A(((A((......))A)))A(((((.......)))))A((A(((((....)))))))AA))AA"
       ]
      },
      {
       "output_type": "stream",
       "stream": "stdout",
       "text": [
        "\n",
        "ANNNNNNNANNUANNNANAANNNUNGANUNNNNNNNAAANAGNAUNGANNNNUNAANNNNNCUNA\n",
        "((((((...((((.....)))).....................((((((....))))))))))))A"
       ]
      },
      {
       "output_type": "stream",
       "stream": "stdout",
       "text": [
        "\n",
        "AAGNCUNNNAGNNANNAAAACNANNAANNNNNAAAGNNNNAAANAAAGANNNNNNUUUAAGCCUUA\n",
        "A((A(((....((((AA(A(...A(AA((((.......))))A.......A)A...)A)A)))))))A))AA"
       ]
      },
      {
       "output_type": "stream",
       "stream": "stdout",
       "text": [
        "\n",
        "GCUNGNGNNGNAAAGNNNNUANNNNUNGAGANNNNNNNNCUCNNNNNAANNGNUNNNNNCCUNNCUCNAGNN\n",
        "(((((AA.....((((.....A((.....))A....)))).......(((((.......)))))AA)))))A"
       ]
      },
      {
       "output_type": "stream",
       "stream": "stdout",
       "text": [
        "\n",
        "NGNNNNNNANNNNAGNNNNNANNCNNNNNNCNNNUAACNAANNNNNNNCAAGANCAANNNUNNCNNGCUCNN\n",
        "(A(((((AA((((.........))))AAA(((AA...AA)))AA.....(((((.......))))))))))A)A"
       ]
      },
      {
       "output_type": "stream",
       "stream": "stdout",
       "text": [
        "\n",
        "NNNNNNNNANCNNNGCUNGGUANCNCNANNNGNNUNNNNNCNNNNNNNNNNNGGUUCGAAUCCUCNCUCNCCNN\n",
        "((A(((A(A(((((((AAAAA((AAAA((((.......))))AAAA))AAAA)))A))....)))A)))A))A"
       ]
      },
      {
       "output_type": "stream",
       "stream": "stdout",
       "text": [
        "\n",
        "GNNNCNANNGCUCNGNNNNNNGNNCNNCNNNNNNNNNNGNNGNNNNNCNNNNGNUNGANNNNNNNNAGCUCCA\n",
        "(A((A((((((((.......))))))AAAAAAA.........AAAAAA((((.......))))A))A))A)A"
       ]
      },
      {
       "output_type": "stream",
       "stream": "stdout",
       "text": [
        "\n",
        "UCCNCANNAGCUCNNNNNUAGAGCNANNNNNNNNUAANNNNNNNNNNNNAGGUUCGAAUCCNANCNNCNNNN\n",
        "(((((((AA((A......A))A(((((.......)))))....((((((...)))))))))))))A"
       ]
      },
      {
       "output_type": "stream",
       "stream": "stdout",
       "text": [
        "\n",
        "NCNAANANNNNNNNNNNNNNNNANNNANNNNAGNNCNANNNNNAAANNNNNNNNNUUNNAUUAGAN\n",
        "(((((AAAAA((........))AAAA(AAA(...)AAA)AA......A(((A....A)))AAAAA)))))A"
       ]
      },
      {
       "output_type": "stream",
       "stream": "stdout",
       "text": [
        "\n",
        "GGAAGNNNNNCNNAAANNUANNNNNCUCNNNNNUANNNNNNNUNNNNNNNGNNNAAACCCCCNNNNUUCCN\n",
        "(((AA((AA(((A.......A)))A(((A(.......)A)))....(((((.......)))))))AA)))A"
       ]
      },
      {
       "output_type": "stream",
       "stream": "stdout",
       "text": [
        "\n",
        "NANNNNNNNNNANANNNNNNNNNNNAANNGUNNNNNNNNNUUANNNANAGGUUCAAUUCCNANCUNNNUAG\n",
        "(((((((((AAAA((((((((...))))))))AAA).............(((A.......A)))))))))))A"
       ]
      },
      {
       "output_type": "stream",
       "stream": "stdout",
       "text": [
        "\n",
        "UAGAANNNAGNNNGCNNNANANNNNNNNNAGCNNNUAANNAAANNNNNNNNNNANCNNNNNCCNNNANUCNAG\n",
        ".....(A((((((((........))))))))A)...........(((((.......)))))........"
       ]
      },
      {
       "output_type": "stream",
       "stream": "stdout",
       "text": [
        "\n",
        "GNNANNNNANUUUAANCNAANNNNUAGAUUNNNNNNNNAANNANAGNNGNUNAANNCUCCNNNNUNNNN\n",
        "(((((AA(((A....A)))........A(((A........A)))A(((((...)))))AA)))))A"
       ]
      },
      {
       "output_type": "stream",
       "stream": "stdout",
       "text": [
        "\n",
        "GNCCUNNNAGNNNAAACNANNNNANNNNNCUNNNAAANNNNNGANNAAAANNNNNNUCNAAGGANA\n",
        "(((((A...((AA........AA))AA(((((AAA((((AA........AA))))A)))))A...A)))))A"
       ]
      },
      {
       "output_type": "stream",
       "stream": "stdout",
       "text": [
        "\n",
        "UAGGANNNNNNNNNNNNNNNNNNANNNAGAAUNNUGNNNNNNNNNNNNNGNNNUNGAUUCUNNNNNNCCNAG\n",
        "((((((AA(((A(A(AA(...(((((((A.......A))))A)))AA)AA)AA)A)))AAA))))))A"
       ]
      },
      {
       "output_type": "stream",
       "stream": "stdout",
       "text": [
        "\n",
        "CAGAGAANAGNNUAAANNNNNANNNNAGCNNNNNNNNCNAANGNNNNNNNNANNNNNNNNNUCUCUGA\n",
        "(((((((AAA(((A.....A)))AA((((......AAA((A((...))A))AAA....))))A)))))))A"
       ]
      },
      {
       "output_type": "stream",
       "stream": "stdout",
       "text": [
        "\n",
        "ANUUUUANNNNANANNNNNNANCNNNNGGNNNNNNNNNCCAAAANNNNNGNNNNNNNNCNAANNAAAAGUA\n",
        "AAA((((((((((......))))........))))))AAA(((...((((......))))...)))AAA"
       ]
      },
      {
       "output_type": "stream",
       "stream": "stdout",
       "text": [
        "\n",
        "NNNNNNNUAGCUUAANNNNAAGCNNCNAANNNANANUNNNNAGANNNNAANNNAANNNGNNNNNUNNNN\n",
        "(((A(((A(((..........((((((AA(............)AA)A))))))))AAA)))A)))A"
       ]
      },
      {
       "output_type": "stream",
       "stream": "stdout",
       "text": [
        "\n",
        "AGCUCCNNGGNNNNNNNNNNNNNGAANNNNNAANUCGNNNNNNNNGNNUNAAANCNNNCNNNNCUN\n"
       ]
      },
      {
       "ename": "KeyboardInterrupt",
       "evalue": "",
       "output_type": "pyerr",
       "traceback": [
        "\u001b[1;31m---------------------------------------------------------------------------\u001b[0m\n\u001b[1;31mKeyboardInterrupt\u001b[0m                         Traceback (most recent call last)",
        "\u001b[1;32m<ipython-input-24-64849ca3b117>\u001b[0m in \u001b[0;36m<module>\u001b[1;34m()\u001b[0m\n\u001b[0;32m      3\u001b[0m \u001b[1;33m\u001b[0m\u001b[0m\n\u001b[0;32m      4\u001b[0m \u001b[1;31m#Generate graph list ******\u001b[0m\u001b[1;33m\u001b[0m\u001b[1;33m\u001b[0m\u001b[0m\n\u001b[1;32m----> 5\u001b[1;33m \u001b[1;32mfor\u001b[0m \u001b[0mg\u001b[0m \u001b[1;32min\u001b[0m \u001b[0magraphs\u001b[0m\u001b[1;33m:\u001b[0m\u001b[1;33m\u001b[0m\u001b[0m\n\u001b[0m\u001b[0;32m      6\u001b[0m     \u001b[1;32mprint\u001b[0m \u001b[0mcf\u001b[0m\u001b[1;33m.\u001b[0m\u001b[0mantaRNA_dot_struct\u001b[0m\u001b[1;33m(\u001b[0m\u001b[0mg\u001b[0m\u001b[1;33m,\u001b[0m\u001b[1;33m-\u001b[0m\u001b[1;36m0.9\u001b[0m\u001b[1;33m,\u001b[0m \u001b[1;36m3\u001b[0m\u001b[1;33m,\u001b[0m \u001b[1;36m3\u001b[0m\u001b[1;33m)\u001b[0m\u001b[1;33m\u001b[0m\u001b[0m\n\u001b[0;32m      7\u001b[0m     \u001b[1;32mprint\u001b[0m \u001b[0mcf\u001b[0m\u001b[1;33m.\u001b[0m\u001b[0mantaRNA_constraint_string\u001b[0m\u001b[1;33m(\u001b[0m\u001b[0mg\u001b[0m\u001b[1;33m,\u001b[0m \u001b[1;33m-\u001b[0m\u001b[1;36m0.2\u001b[0m \u001b[1;33m,\u001b[0m \u001b[1;36m1\u001b[0m \u001b[1;33m)\u001b[0m\u001b[1;33m\u001b[0m\u001b[0m\n",
        "\u001b[1;32m/home/kohvaeip/RLS/lib/EDeN/eden/graph.pyc\u001b[0m in \u001b[0;36mannotate\u001b[1;34m(self, graphs, estimator, reweight, relabel_vertex_with_vector)\u001b[0m\n\u001b[0;32m    764\u001b[0m \u001b[1;33m\u001b[0m\u001b[0m\n\u001b[0;32m    765\u001b[0m         \u001b[1;32mfor\u001b[0m \u001b[0mG\u001b[0m \u001b[1;32min\u001b[0m \u001b[0mgraphs\u001b[0m\u001b[1;33m:\u001b[0m\u001b[1;33m\u001b[0m\u001b[0m\n\u001b[1;32m--> 766\u001b[1;33m             \u001b[1;32myield\u001b[0m \u001b[0mself\u001b[0m\u001b[1;33m.\u001b[0m\u001b[0m_annotate\u001b[0m\u001b[1;33m(\u001b[0m\u001b[0mG\u001b[0m\u001b[1;33m)\u001b[0m\u001b[1;33m\u001b[0m\u001b[0m\n\u001b[0m\u001b[0;32m    767\u001b[0m \u001b[1;33m\u001b[0m\u001b[0m\n\u001b[0;32m    768\u001b[0m     \u001b[1;32mdef\u001b[0m \u001b[0m_annotate\u001b[0m\u001b[1;33m(\u001b[0m\u001b[0mself\u001b[0m\u001b[1;33m,\u001b[0m \u001b[0moriginal_graph\u001b[0m\u001b[1;33m)\u001b[0m\u001b[1;33m:\u001b[0m\u001b[1;33m\u001b[0m\u001b[0m\n",
        "\u001b[1;32m/home/kohvaeip/RLS/lib/EDeN/eden/graph.pyc\u001b[0m in \u001b[0;36m_annotate\u001b[1;34m(self, original_graph)\u001b[0m\n\u001b[0;32m    771\u001b[0m         \u001b[0mG\u001b[0m \u001b[1;33m=\u001b[0m \u001b[0mself\u001b[0m\u001b[1;33m.\u001b[0m\u001b[0m_graph_preprocessing\u001b[0m\u001b[1;33m(\u001b[0m\u001b[0moriginal_graph\u001b[0m\u001b[1;33m)\u001b[0m\u001b[1;33m\u001b[0m\u001b[0m\n\u001b[0;32m    772\u001b[0m         \u001b[1;31m# extract per vertex feature representation\u001b[0m\u001b[1;33m\u001b[0m\u001b[1;33m\u001b[0m\u001b[0m\n\u001b[1;32m--> 773\u001b[1;33m         \u001b[0mX\u001b[0m \u001b[1;33m=\u001b[0m \u001b[0mself\u001b[0m\u001b[1;33m.\u001b[0m\u001b[0m_compute_vertex_based_features\u001b[0m\u001b[1;33m(\u001b[0m\u001b[0mG\u001b[0m\u001b[1;33m)\u001b[0m\u001b[1;33m\u001b[0m\u001b[0m\n\u001b[0m\u001b[0;32m    774\u001b[0m         \u001b[1;31m# add or update weight and importance information\u001b[0m\u001b[1;33m\u001b[0m\u001b[1;33m\u001b[0m\u001b[0m\n\u001b[0;32m    775\u001b[0m         \u001b[0mG\u001b[0m \u001b[1;33m=\u001b[0m \u001b[0mself\u001b[0m\u001b[1;33m.\u001b[0m\u001b[0m_annotate_importance\u001b[0m\u001b[1;33m(\u001b[0m\u001b[0mG\u001b[0m\u001b[1;33m,\u001b[0m \u001b[0mX\u001b[0m\u001b[1;33m)\u001b[0m\u001b[1;33m\u001b[0m\u001b[0m\n",
        "\u001b[1;32m/home/kohvaeip/RLS/lib/EDeN/eden/graph.pyc\u001b[0m in \u001b[0;36m_compute_vertex_based_features\u001b[1;34m(self, G)\u001b[0m\n\u001b[0;32m    839\u001b[0m             \u001b[1;32mif\u001b[0m \u001b[0md\u001b[0m\u001b[1;33m.\u001b[0m\u001b[0mget\u001b[0m\u001b[1;33m(\u001b[0m\u001b[1;34m'node'\u001b[0m\u001b[1;33m,\u001b[0m \u001b[0mFalse\u001b[0m\u001b[1;33m)\u001b[0m\u001b[1;33m:\u001b[0m\u001b[1;33m\u001b[0m\u001b[0m\n\u001b[0;32m    840\u001b[0m                 \u001b[0mfeature_list\u001b[0m \u001b[1;33m=\u001b[0m \u001b[0mdefaultdict\u001b[0m\u001b[1;33m(\u001b[0m\u001b[1;32mlambda\u001b[0m\u001b[1;33m:\u001b[0m \u001b[0mdefaultdict\u001b[0m\u001b[1;33m(\u001b[0m\u001b[0mfloat\u001b[0m\u001b[1;33m)\u001b[0m\u001b[1;33m)\u001b[0m\u001b[1;33m\u001b[0m\u001b[0m\n\u001b[1;32m--> 841\u001b[1;33m                 \u001b[0mself\u001b[0m\u001b[1;33m.\u001b[0m\u001b[0m_transform_vertex\u001b[0m\u001b[1;33m(\u001b[0m\u001b[0mG\u001b[0m\u001b[1;33m,\u001b[0m \u001b[0mv\u001b[0m\u001b[1;33m,\u001b[0m \u001b[0mfeature_list\u001b[0m\u001b[1;33m)\u001b[0m\u001b[1;33m\u001b[0m\u001b[0m\n\u001b[0m\u001b[0;32m    842\u001b[0m                 feature_dict.update(\n\u001b[0;32m    843\u001b[0m                     self._normalization(feature_list, vertex_id))\n",
        "\u001b[1;32m/home/kohvaeip/RLS/lib/EDeN/eden/graph.pyc\u001b[0m in \u001b[0;36m_transform_vertex\u001b[1;34m(self, G, v, feature_list)\u001b[0m\n\u001b[0;32m    561\u001b[0m                 \u001b[1;32mfor\u001b[0m \u001b[0mu\u001b[0m \u001b[1;32min\u001b[0m \u001b[0mnode_set\u001b[0m\u001b[1;33m:\u001b[0m\u001b[1;33m\u001b[0m\u001b[0m\n\u001b[0;32m    562\u001b[0m                     self._transform_vertex_pair(\n\u001b[1;32m--> 563\u001b[1;33m                         G, v, u, distance, feature_list)\n\u001b[0m\u001b[0;32m    564\u001b[0m \u001b[1;33m\u001b[0m\u001b[0m\n\u001b[0;32m    565\u001b[0m     \u001b[1;32mdef\u001b[0m \u001b[0m_transform_vertex_pair\u001b[0m\u001b[1;33m(\u001b[0m\u001b[0mself\u001b[0m\u001b[1;33m,\u001b[0m \u001b[0mG\u001b[0m\u001b[1;33m,\u001b[0m \u001b[0mv\u001b[0m\u001b[1;33m,\u001b[0m \u001b[0mu\u001b[0m\u001b[1;33m,\u001b[0m \u001b[0mdistance\u001b[0m\u001b[1;33m,\u001b[0m \u001b[0mfeature_list\u001b[0m\u001b[1;33m)\u001b[0m\u001b[1;33m:\u001b[0m\u001b[1;33m\u001b[0m\u001b[0m\n",
        "\u001b[1;32m/home/kohvaeip/RLS/lib/EDeN/eden/graph.pyc\u001b[0m in \u001b[0;36m_transform_vertex_pair\u001b[1;34m(self, G, v, u, distance, feature_list)\u001b[0m\n\u001b[0;32m    564\u001b[0m \u001b[1;33m\u001b[0m\u001b[0m\n\u001b[0;32m    565\u001b[0m     \u001b[1;32mdef\u001b[0m \u001b[0m_transform_vertex_pair\u001b[0m\u001b[1;33m(\u001b[0m\u001b[0mself\u001b[0m\u001b[1;33m,\u001b[0m \u001b[0mG\u001b[0m\u001b[1;33m,\u001b[0m \u001b[0mv\u001b[0m\u001b[1;33m,\u001b[0m \u001b[0mu\u001b[0m\u001b[1;33m,\u001b[0m \u001b[0mdistance\u001b[0m\u001b[1;33m,\u001b[0m \u001b[0mfeature_list\u001b[0m\u001b[1;33m)\u001b[0m\u001b[1;33m:\u001b[0m\u001b[1;33m\u001b[0m\u001b[0m\n\u001b[1;32m--> 566\u001b[1;33m         \u001b[0mself\u001b[0m\u001b[1;33m.\u001b[0m\u001b[0m_transform_vertex_pair_base\u001b[0m\u001b[1;33m(\u001b[0m\u001b[0mG\u001b[0m\u001b[1;33m,\u001b[0m \u001b[0mv\u001b[0m\u001b[1;33m,\u001b[0m \u001b[0mu\u001b[0m\u001b[1;33m,\u001b[0m \u001b[0mdistance\u001b[0m\u001b[1;33m,\u001b[0m \u001b[0mfeature_list\u001b[0m\u001b[1;33m)\u001b[0m\u001b[1;33m\u001b[0m\u001b[0m\n\u001b[0m\u001b[0;32m    567\u001b[0m \u001b[1;33m\u001b[0m\u001b[0m\n\u001b[0;32m    568\u001b[0m     \u001b[1;32mdef\u001b[0m \u001b[0m_transform_vertex_pair_base\u001b[0m\u001b[1;33m(\u001b[0m\u001b[0mself\u001b[0m\u001b[1;33m,\u001b[0m \u001b[0mG\u001b[0m\u001b[1;33m,\u001b[0m \u001b[0mv\u001b[0m\u001b[1;33m,\u001b[0m \u001b[0mu\u001b[0m\u001b[1;33m,\u001b[0m \u001b[0mdistance\u001b[0m\u001b[1;33m,\u001b[0m \u001b[0mfeature_list\u001b[0m\u001b[1;33m)\u001b[0m\u001b[1;33m:\u001b[0m\u001b[1;33m\u001b[0m\u001b[0m\n",
        "\u001b[1;32m/home/kohvaeip/RLS/lib/EDeN/eden/graph.pyc\u001b[0m in \u001b[0;36m_transform_vertex_pair_base\u001b[1;34m(self, G, v, u, distance, feature_list)\u001b[0m\n\u001b[0;32m    588\u001b[0m                     \u001b[1;31m# if self.weighted == False :\u001b[0m\u001b[1;33m\u001b[0m\u001b[1;33m\u001b[0m\u001b[0m\n\u001b[0;32m    589\u001b[0m                     \u001b[1;32mif\u001b[0m \u001b[0mG\u001b[0m\u001b[1;33m.\u001b[0m\u001b[0mgraph\u001b[0m\u001b[1;33m.\u001b[0m\u001b[0mget\u001b[0m\u001b[1;33m(\u001b[0m\u001b[1;34m'weighted'\u001b[0m\u001b[1;33m,\u001b[0m \u001b[0mFalse\u001b[0m\u001b[1;33m)\u001b[0m \u001b[1;33m==\u001b[0m \u001b[0mFalse\u001b[0m\u001b[1;33m:\u001b[0m\u001b[1;33m\u001b[0m\u001b[0m\n\u001b[1;32m--> 590\u001b[1;33m                         \u001b[0mfeature_list\u001b[0m\u001b[1;33m[\u001b[0m\u001b[0mkey\u001b[0m\u001b[1;33m]\u001b[0m\u001b[1;33m[\u001b[0m\u001b[0mfeature\u001b[0m\u001b[1;33m]\u001b[0m \u001b[1;33m+=\u001b[0m \u001b[1;36m1\u001b[0m\u001b[1;33m\u001b[0m\u001b[0m\n\u001b[0m\u001b[0;32m    591\u001b[0m                     \u001b[1;32melse\u001b[0m\u001b[1;33m:\u001b[0m\u001b[1;33m\u001b[0m\u001b[0m\n\u001b[0;32m    592\u001b[0m                         feature_list[key][feature] += G.node[v]['neighborhood_graph_weight'][\n",
        "\u001b[1;31mKeyboardInterrupt\u001b[0m: "
       ]
      }
     ],
     "prompt_number": 24
    },
    {
     "cell_type": "code",
     "collapsed": false,
     "input": [],
     "language": "python",
     "metadata": {},
     "outputs": [],
     "prompt_number": 7
    }
   ],
   "metadata": {}
  }
 ]
}