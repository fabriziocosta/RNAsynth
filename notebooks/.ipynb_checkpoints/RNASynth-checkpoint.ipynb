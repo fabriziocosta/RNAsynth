{
 "cells": [
  {
   "cell_type": "markdown",
   "metadata": {},
   "source": [
    "#Synthesis of RNA sequences similar to given noncoding-RNA families\n",
    "\n"
   ]
  },
  {
   "cell_type": "code",
   "execution_count": 82,
   "metadata": {
    "collapsed": false
   },
   "outputs": [
    {
     "name": "stdout",
     "output_type": "stream",
     "text": [
      "The autoreload extension is already loaded. To reload it, use:\n",
      "  %reload_ext autoreload\n"
     ]
    }
   ],
   "source": [
    "%matplotlib inline\n",
    "%load_ext autoreload\n",
    "%autoreload 2"
   ]
  },
  {
   "cell_type": "code",
   "execution_count": 83,
   "metadata": {
    "collapsed": false
   },
   "outputs": [],
   "source": [
    "import logging\n",
    "from eden.util import configure_logging\n",
    "configure_logging(logging.getLogger(), verbosity=1, filename=None)"
   ]
  },
  {
   "cell_type": "code",
   "execution_count": 84,
   "metadata": {
    "collapsed": true
   },
   "outputs": [],
   "source": [
    "from eden.converter.fasta import fasta_to_sequence\n",
    "def get_rfam(rfam_id):\n",
    "    return fasta_to_sequence('http://rfam.xfam.org/family/%s/alignment?acc=%s&format=fastau&download=0' % (rfam_id, rfam_id))\n",
    "\n",
    "import shutil\n",
    "import requests\n",
    "def get_rfam_covariance_model(rfam_id, fname=None):\n",
    "    url = 'http://rfam.xfam.org/family/%s/cm' % (rfam_id)\n",
    "    response = requests.get(url, stream=True)\n",
    "    with open(fname, 'wb') as out_file:\n",
    "        shutil.copyfileobj(response.raw, out_file)\n",
    "    del response\n",
    "\n",
    "def sequence_to_fasta_file(seqs, fname=None):\n",
    "    with open(fname, 'w') as f:\n",
    "        for h,s in seqs:\n",
    "            f.write('>' + h + '\\n')\n",
    "            f.write(s + '\\n')\n",
    "\n",
    "import subprocess as sp\n",
    "def infernal_scores(seqs, model_rfam_id=None):\n",
    "    def check_format(line):\n",
    "        tokens = line.strip().split()\n",
    "        if len(tokens)==13:\n",
    "            # check that the first element is an integer\n",
    "            id = tokens[0]\n",
    "            id = id.replace('(','')\n",
    "            id = id.replace(')','')\n",
    "            id = int(id)\n",
    "            if id > 0:\n",
    "                return True\n",
    "        return False\n",
    "         \n",
    "    # write seqs to fasta file\n",
    "    fafname = rfam_id + '.fa'\n",
    "    sequence_to_fasta_file(seqs, fname=fafname)\n",
    "    # load covariance model\n",
    "    cmfname = rfam_id + '.cm'\n",
    "    get_rfam_covariance_model(rfam_id, fname=cmfname)\n",
    "    # compute infernal scores\n",
    "    out = sp.check_output('cmsearch -g --noali --incT 0  %s %s' % (cmfname, fafname), shell=True)\n",
    "\n",
    "    #cleanup\n",
    "    !rm $fafname $cmfname\n",
    "    # parse scores\n",
    "    scores = dict()\n",
    "    for line in out.strip().split('\\n'):\n",
    "        if check_format(line):\n",
    "            tokens = line.strip().split()\n",
    "            header = tokens[5]\n",
    "            score = tokens[3]\n",
    "            scores[header]=score\n",
    "    return [float(scores.get(header,0)) for header,seq in seqs]"
   ]
  },
  {
   "cell_type": "code",
   "execution_count": 85,
   "metadata": {
    "collapsed": true
   },
   "outputs": [],
   "source": [
    "def select_atypical_seqs(seqs, model_rfam_id=None, lower_factor=2, upper_factor=1):\n",
    "    scores = infernal_scores(seqs, model_rfam_id=model_rfam_id)\n",
    "    print 'working on %d sequences' % len(scores)\n",
    "    import numpy as np\n",
    "    mean_score=np.mean(scores)\n",
    "    std_score=np.std(scores)\n",
    "    print 'refrence score: %.1f +- %.1f' % (mean_score, std_score)\n",
    "    selected_seqs = []\n",
    "    for score, (header, seq) in sorted(zip(scores,seqs)):\n",
    "        if score > mean_score - lower_factor * std_score and score < mean_score - upper_factor * std_score:\n",
    "            selected_seqs.append((header,seq))\n",
    "    return selected_seqs"
   ]
  },
  {
   "cell_type": "code",
   "execution_count": 86,
   "metadata": {
    "collapsed": false
   },
   "outputs": [],
   "source": [
    "from eden.util.display import draw_graph\n",
    "from eden.converter.rna.rnafold import rnafold_to_eden\n",
    "\n",
    "opts={'size':14,\n",
    "      'colormap':'Set3',\n",
    "      'vertex_color':'level',\n",
    "      'node_border':False,\n",
    "      'node_size':200,\n",
    "      'font_size':9,\n",
    "      'vertex_alpha':0.9,\n",
    "      'title_key':'id'}\n",
    "\n",
    "def plot_rna_seq(seq, opts=opts, rnavec=None):    \n",
    "    if rnavec is None:\n",
    "        graphs = rnafold_to_eden([seq])\n",
    "    else:\n",
    "        graphs = rnavec.graphs([seq], sampling_prob=.1, n_iter=30)\n",
    "    from eden.modifier.graph import vertex_attributes \n",
    "    graphs = vertex_attributes.colorize(graphs, output_attribute = 'level', labels = ['A','U','C','G'])\n",
    "    graph=graphs.next()\n",
    "    draw_graph(graph, **opts)"
   ]
  },
  {
   "cell_type": "code",
   "execution_count": 87,
   "metadata": {
    "collapsed": false
   },
   "outputs": [],
   "source": [
    "from rnasynth.rna_synthesizer import RNASynthesizerInitializer\n",
    "#help(RNASynthesizerInitializer)\n",
    "from rnasynth.rna_synthesizer import RNASynth\n",
    "#help(RNASynth)"
   ]
  },
  {
   "cell_type": "markdown",
   "metadata": {},
   "source": [
    "###Setup"
   ]
  },
  {
   "cell_type": "code",
   "execution_count": 88,
   "metadata": {
    "collapsed": false,
    "scrolled": false
   },
   "outputs": [
    {
     "name": "stdout",
     "output_type": "stream",
     "text": [
      "Created a RNASynthesizer object.\n"
     ]
    }
   ],
   "source": [
    "from rnasynth.rna_synthesizer import RNASynthesizerInitializer\n",
    "synthesizer = RNASynthesizerInitializer(instance_score_threshold=1,\n",
    "                                        min_size_connected_component_sequence_constraint=2,\n",
    "                                        importance_threshold_sequence_constraint=-0.3,\n",
    "                                        min_size_connected_component_structure_constraint=3,\n",
    "                                        importance_threshold_structure_constraint=-0.7,\n",
    "                                        n_synthesized_seqs_per_seed_seq=1,\n",
    "                                        vectorizer_complexity=3,\n",
    "                                        negative_shuffle_ratio=5\n",
    "                                       ).synthesizer"
   ]
  },
  {
   "cell_type": "markdown",
   "metadata": {},
   "source": [
    "###Fit"
   ]
  },
  {
   "cell_type": "code",
   "execution_count": 89,
   "metadata": {
    "collapsed": false
   },
   "outputs": [
    {
     "name": "stdout",
     "output_type": "stream",
     "text": [
      "Starting new HTTP connection (1): rfam.xfam.org\n",
      "CPU times: user 30.2 s, sys: 6.49 s, total: 36.7 s\n",
      "Wall time: 1min 22s\n"
     ]
    }
   ],
   "source": [
    "%%time\n",
    "rfam_id = 'RF01685'\n",
    "rfam_id = 'RF01852'\n",
    "rfam_id = 'RF02344'\n",
    "rfam_id = 'RF00005'\n",
    "\n",
    "seqs = get_rfam(rfam_id)\n",
    "\n",
    "from itertools import islice\n",
    "train_seqs = list(islice(seqs, 200))\n",
    "synthesizer.fit(train_seqs)"
   ]
  },
  {
   "cell_type": "code",
   "execution_count": 90,
   "metadata": {
    "collapsed": false
   },
   "outputs": [
    {
     "data": {
      "text/plain": [
       "<eden.RNA.Vectorizer at 0x121cdf910>"
      ]
     },
     "execution_count": 90,
     "metadata": {},
     "output_type": "execute_result"
    }
   ],
   "source": [
    "%%time\n",
    "from eden.RNA import Vectorizer\n",
    "rnavec=Vectorizer(n_neighbors=30, min_energy=-10)\n",
    "rnavec.fit(train_seqs)"
   ]
  },
  {
   "cell_type": "markdown",
   "metadata": {},
   "source": [
    "###Select most atypical sequences"
   ]
  },
  {
   "cell_type": "code",
   "execution_count": 91,
   "metadata": {
    "collapsed": false,
    "scrolled": false
   },
   "outputs": [
    {
     "name": "stdout",
     "output_type": "stream",
     "text": [
      "Starting new HTTP connection (1): rfam.xfam.org\n",
      "Starting new HTTP connection (1): rfam.xfam.org\n",
      "working on 954 sequences\n",
      "refrence score: 53.8 +- 16.3\n",
      "Atypical sequences in RF00005\n",
      "0 D12695.1/368-304 GGCCUUGGGGUGUCAACACGUGGGGUUGCAAACCCCAAGAUGCAGUAUAAUACCUGCCGGGGCUU\n",
      "1 M86497.1/1020-1086 CAAGAUAUAGCUUAAAUAAAGCACCUAGUUUACACCUAGAAGAUUUCACACGCCACGAAUAUCUUGA\n",
      "2 U37541.1/1383-1322 GGUCUUAUAGUCAAUAAUGAUAUCAAACUGCAAUUUUGAAGGAGUAAGUUUUACUAAGGCUU\n",
      "3 AB009835.1/1-71 CAUUAGAUGACUGAAAGCAAGUACUGGUCUCUUAAACCAUUUAAUAGUAAAUUAGCACUUACUUCUAAUGA\n",
      "4 AAEU02004214.1/433-498 AUUCAAAUAGCUUAUAUUUAGAGUAUGACACUGAAGAUGUCAUGGAGAUUAAUUAAUCUUUGAAUA\n",
      "5 X16888.1/178-111 CUUUAUUAGUAUAAUUAGUAUAUUUGAUUUCCAAUCAAAAGGGCUUUGUUAAGAAUCAAAGAUGGAGU\n",
      "6 X01078.1/1396-1463 ACUAUUUUGGCAGAUUAGUGCAGUAAAUUUAGAAUUUAUUUAUAUAAUUUAAUUAAUUAUAAAUAGUA\n",
      "7 X01738.1/122-190 GAUUACGAUGUAAAUGGUUUACCCUUUGACUGCAAAUCUUAAGGAUUAGGUUCGAUUCCUACGUAAUCC\n",
      "8 AC067849.6/4771-4840 CACUGUAAAGCUAACUUAGCAUUAACCUUUUAAGUUAAAGAUUAAGAGAACCAACACCUCUUUACAGUGA\n",
      "9 AF347015.1/1604-1672 CAGAGUGUAGCUUAACACAAAGCACCCAACUUACACUUAGGAGAUUUCAACUUAACUUGACCGCUCUGA\n",
      "10 X16886.1/781-711 AGUAAAGUAAGCUAAUAAAAAGCUUUUGGGUUCAUACCUCAAAAAUGGAAGGAUAAAUACCUCCCUUUAUU\n",
      "11 AF347015.1/5827-5762 AGCUCCGAGGUGAUUUUCAUAUUGAAUUGCAAAUUCGAAGAAGCAGCUUCAAACCUGCCGGGGCUU\n",
      "12 X69067.1/6022-6086 AUUUAUAUAGUAUAUUUAAUACAAUGCAUUUUCAAUGCAUAAAUGGAUAAAAUAUCCUUUAAAUA\n",
      "13 AY012114.1/954-1022 CAUAGUGUAGCUUAAUAUUAAAGCAUCUGGCCUACACCCAGAAGAUUUCAUGACCAAUGAACACUCUGA\n",
      "14 J04815.1/1662-1729 GGCUUUGUAGUGUAAAUAACAUUUUGGAUUGCAAAUCCUUAGAUGCAAUUAGUUCAUUGCCAAAGCUU\n",
      "15 AB042524.1/5257-5192 GGUCUUAAGGUGAUAUUCAUGUCGAAUUGCAAAUUCGAAGGUGUAGAGAAAUCUCUACUAAGACUU\n",
      "16 D16387.1/11555-11625 CCUGGCGGAGCUUGAUAGUUAAGCAUCUCUUUUACACAGAGCUGAUAUUUGUGCAAAUCAAAUUGCCUUGA\n",
      "CPU times: user 34.1 ms, sys: 21.1 ms, total: 55.2 ms\n",
      "Wall time: 31.7 s\n"
     ]
    }
   ],
   "source": [
    "%%time\n",
    "seqs = list(get_rfam(rfam_id))\n",
    "seed_seqs = select_atypical_seqs(seqs, model_rfam_id=rfam_id, lower_factor=2, upper_factor=1.5)\n",
    "\n",
    "print 'Atypical sequences in %s' % rfam_id\n",
    "seed_seqs_dict = dict()\n",
    "for i, (h,s) in enumerate(seed_seqs):\n",
    "    print i, h, s\n",
    "    seed_seqs_dict[h]=s"
   ]
  },
  {
   "cell_type": "markdown",
   "metadata": {},
   "source": [
    "###Synthesize improved sequences "
   ]
  },
  {
   "cell_type": "markdown",
   "metadata": {},
   "source": [
    "*aim:* show that if one takes sequences with low score it is possible to improve their scores"
   ]
  },
  {
   "cell_type": "code",
   "execution_count": 92,
   "metadata": {
    "collapsed": false,
    "scrolled": false
   },
   "outputs": [
    {
     "name": "stdout",
     "output_type": "stream",
     "text": [
      "Starting new HTTP connection (1): rfam.xfam.org\n",
      "1 (108.8 secs) cm_score: 0.0   svm_score: 2.4\n",
      "X01738.1/122-190_[[][]]_0\n",
      "((((|||...((((.(|....|).)))).............|||(...........)|||.|||)))).\n",
      "G-UU--GAU--AAAUGGUU------UUGA----AAA-CU------UUAGGUUCGAUUC-------A-CC\n",
      "GCUUGGGAUACAAAUGGUUAUACUUUUGAAACAAAAACUGCGUGGUUAGGUUCGAUUCACAUAAAAGCC\n",
      "Starting new HTTP connection (1): rfam.xfam.org\n",
      "seed: cm_score: 27.1   svm_score: 1.7\n",
      "GAUUACGAUGUAAAUGGUUUACCCUUUGACUGCAAAUCUUAAGGAUUAGGUUCGAUUCCUACGUAAUCC\n"
     ]
    },
    {
     "ename": "Exception",
     "evalue": "ERROR: something went wrong, empty instance # 3.",
     "output_type": "error",
     "traceback": [
      "\u001b[0;31m---------------------------------------------------------------------------\u001b[0m",
      "\u001b[0;31mException\u001b[0m                                 Traceback (most recent call last)",
      "\u001b[0;32m<ipython-input-92-cbd2a7794e49>\u001b[0m in \u001b[0;36m<module>\u001b[0;34m()\u001b[0m\n\u001b[0;32m----> 1\u001b[0;31m \u001b[0mget_ipython\u001b[0m\u001b[0;34m(\u001b[0m\u001b[0;34m)\u001b[0m\u001b[0;34m.\u001b[0m\u001b[0mrun_cell_magic\u001b[0m\u001b[0;34m(\u001b[0m\u001b[0;34mu'time'\u001b[0m\u001b[0;34m,\u001b[0m \u001b[0;34mu''\u001b[0m\u001b[0;34m,\u001b[0m \u001b[0;34mu\"\\nsynth_seqs = synthesizer.sample(seed_seqs)\\n\\nsamples=[]\\nimport time\\nstart_time = time.time()\\nfor i, synth_seq in enumerate(synth_seqs):\\n    header,seq = synth_seq\\n    header_orig = header.split('_')[0]\\n    seed_seq = (header_orig, seed_seqs_dict[header_orig])\\n    synth_seq_toscore = (header_orig,seq)\\n    samples.append(synth_seq)\\n    synth_scores = infernal_scores([synth_seq_toscore], model_rfam_id=rfam_id)\\n    synth_predictions = synthesizer.predict([synth_seq_toscore])\\n    print '%d (%.1f secs) cm_score: %.1f   svm_score: %.1f' % (i+1, time.time()-start_time, synth_scores[0], synth_predictions.next())\\n    print header\\n    print seq\\n    seed_scores = infernal_scores([seed_seq], model_rfam_id=rfam_id)\\n    seed_predictions = synthesizer.predict([seed_seq])\\n    print 'seed: cm_score: %.1f   svm_score: %.1f' % (seed_scores[0], seed_predictions.next())\\n    print seed_seq[1]\\n\\n    plot_rna_seq(synth_seq, rnavec=rnavec)\\n    plot_rna_seq(seed_seq, rnavec=rnavec)\\n    start_time = time.time()\"\u001b[0m\u001b[0;34m)\u001b[0m\u001b[0;34m\u001b[0m\u001b[0m\n\u001b[0m",
      "\u001b[0;32m/Library/Python/2.7/site-packages/IPython/core/interactiveshell.pyc\u001b[0m in \u001b[0;36mrun_cell_magic\u001b[0;34m(self, magic_name, line, cell)\u001b[0m\n\u001b[1;32m   2262\u001b[0m             \u001b[0mmagic_arg_s\u001b[0m \u001b[0;34m=\u001b[0m \u001b[0mself\u001b[0m\u001b[0;34m.\u001b[0m\u001b[0mvar_expand\u001b[0m\u001b[0;34m(\u001b[0m\u001b[0mline\u001b[0m\u001b[0;34m,\u001b[0m \u001b[0mstack_depth\u001b[0m\u001b[0;34m)\u001b[0m\u001b[0;34m\u001b[0m\u001b[0m\n\u001b[1;32m   2263\u001b[0m             \u001b[0;32mwith\u001b[0m \u001b[0mself\u001b[0m\u001b[0;34m.\u001b[0m\u001b[0mbuiltin_trap\u001b[0m\u001b[0;34m:\u001b[0m\u001b[0;34m\u001b[0m\u001b[0m\n\u001b[0;32m-> 2264\u001b[0;31m                 \u001b[0mresult\u001b[0m \u001b[0;34m=\u001b[0m \u001b[0mfn\u001b[0m\u001b[0;34m(\u001b[0m\u001b[0mmagic_arg_s\u001b[0m\u001b[0;34m,\u001b[0m \u001b[0mcell\u001b[0m\u001b[0;34m)\u001b[0m\u001b[0;34m\u001b[0m\u001b[0m\n\u001b[0m\u001b[1;32m   2265\u001b[0m             \u001b[0;32mreturn\u001b[0m \u001b[0mresult\u001b[0m\u001b[0;34m\u001b[0m\u001b[0m\n\u001b[1;32m   2266\u001b[0m \u001b[0;34m\u001b[0m\u001b[0m\n",
      "\u001b[0;32m/Library/Python/2.7/site-packages/IPython/core/magics/execution.pyc\u001b[0m in \u001b[0;36mtime\u001b[0;34m(self, line, cell, local_ns)\u001b[0m\n",
      "\u001b[0;32m/Library/Python/2.7/site-packages/IPython/core/magic.pyc\u001b[0m in \u001b[0;36m<lambda>\u001b[0;34m(f, *a, **k)\u001b[0m\n\u001b[1;32m    191\u001b[0m     \u001b[0;31m# but it's overkill for just that one bit of state.\u001b[0m\u001b[0;34m\u001b[0m\u001b[0;34m\u001b[0m\u001b[0m\n\u001b[1;32m    192\u001b[0m     \u001b[0;32mdef\u001b[0m \u001b[0mmagic_deco\u001b[0m\u001b[0;34m(\u001b[0m\u001b[0marg\u001b[0m\u001b[0;34m)\u001b[0m\u001b[0;34m:\u001b[0m\u001b[0;34m\u001b[0m\u001b[0m\n\u001b[0;32m--> 193\u001b[0;31m         \u001b[0mcall\u001b[0m \u001b[0;34m=\u001b[0m \u001b[0;32mlambda\u001b[0m \u001b[0mf\u001b[0m\u001b[0;34m,\u001b[0m \u001b[0;34m*\u001b[0m\u001b[0ma\u001b[0m\u001b[0;34m,\u001b[0m \u001b[0;34m**\u001b[0m\u001b[0mk\u001b[0m\u001b[0;34m:\u001b[0m \u001b[0mf\u001b[0m\u001b[0;34m(\u001b[0m\u001b[0;34m*\u001b[0m\u001b[0ma\u001b[0m\u001b[0;34m,\u001b[0m \u001b[0;34m**\u001b[0m\u001b[0mk\u001b[0m\u001b[0;34m)\u001b[0m\u001b[0;34m\u001b[0m\u001b[0m\n\u001b[0m\u001b[1;32m    194\u001b[0m \u001b[0;34m\u001b[0m\u001b[0m\n\u001b[1;32m    195\u001b[0m         \u001b[0;32mif\u001b[0m \u001b[0mcallable\u001b[0m\u001b[0;34m(\u001b[0m\u001b[0marg\u001b[0m\u001b[0;34m)\u001b[0m\u001b[0;34m:\u001b[0m\u001b[0;34m\u001b[0m\u001b[0m\n",
      "\u001b[0;32m/Library/Python/2.7/site-packages/IPython/core/magics/execution.pyc\u001b[0m in \u001b[0;36mtime\u001b[0;34m(self, line, cell, local_ns)\u001b[0m\n\u001b[1;32m   1164\u001b[0m         \u001b[0;32melse\u001b[0m\u001b[0;34m:\u001b[0m\u001b[0;34m\u001b[0m\u001b[0m\n\u001b[1;32m   1165\u001b[0m             \u001b[0mst\u001b[0m \u001b[0;34m=\u001b[0m \u001b[0mclock2\u001b[0m\u001b[0;34m(\u001b[0m\u001b[0;34m)\u001b[0m\u001b[0;34m\u001b[0m\u001b[0m\n\u001b[0;32m-> 1166\u001b[0;31m             \u001b[0;32mexec\u001b[0m\u001b[0;34m(\u001b[0m\u001b[0mcode\u001b[0m\u001b[0;34m,\u001b[0m \u001b[0mglob\u001b[0m\u001b[0;34m,\u001b[0m \u001b[0mlocal_ns\u001b[0m\u001b[0;34m)\u001b[0m\u001b[0;34m\u001b[0m\u001b[0m\n\u001b[0m\u001b[1;32m   1167\u001b[0m             \u001b[0mend\u001b[0m \u001b[0;34m=\u001b[0m \u001b[0mclock2\u001b[0m\u001b[0;34m(\u001b[0m\u001b[0;34m)\u001b[0m\u001b[0;34m\u001b[0m\u001b[0m\n\u001b[1;32m   1168\u001b[0m             \u001b[0mout\u001b[0m \u001b[0;34m=\u001b[0m \u001b[0mNone\u001b[0m\u001b[0;34m\u001b[0m\u001b[0m\n",
      "\u001b[0;32m<timed exec>\u001b[0m in \u001b[0;36m<module>\u001b[0;34m()\u001b[0m\n",
      "\u001b[0;32m<ipython-input-86-7b8b597cca69>\u001b[0m in \u001b[0;36mplot_rna_seq\u001b[0;34m(seq, opts, rnavec)\u001b[0m\n\u001b[1;32m     18\u001b[0m     \u001b[0;32mfrom\u001b[0m \u001b[0meden\u001b[0m\u001b[0;34m.\u001b[0m\u001b[0mmodifier\u001b[0m\u001b[0;34m.\u001b[0m\u001b[0mgraph\u001b[0m \u001b[0;32mimport\u001b[0m \u001b[0mvertex_attributes\u001b[0m\u001b[0;34m\u001b[0m\u001b[0m\n\u001b[1;32m     19\u001b[0m     \u001b[0mgraphs\u001b[0m \u001b[0;34m=\u001b[0m \u001b[0mvertex_attributes\u001b[0m\u001b[0;34m.\u001b[0m\u001b[0mcolorize\u001b[0m\u001b[0;34m(\u001b[0m\u001b[0mgraphs\u001b[0m\u001b[0;34m,\u001b[0m \u001b[0moutput_attribute\u001b[0m \u001b[0;34m=\u001b[0m \u001b[0;34m'level'\u001b[0m\u001b[0;34m,\u001b[0m \u001b[0mlabels\u001b[0m \u001b[0;34m=\u001b[0m \u001b[0;34m[\u001b[0m\u001b[0;34m'A'\u001b[0m\u001b[0;34m,\u001b[0m\u001b[0;34m'U'\u001b[0m\u001b[0;34m,\u001b[0m\u001b[0;34m'C'\u001b[0m\u001b[0;34m,\u001b[0m\u001b[0;34m'G'\u001b[0m\u001b[0;34m]\u001b[0m\u001b[0;34m)\u001b[0m\u001b[0;34m\u001b[0m\u001b[0m\n\u001b[0;32m---> 20\u001b[0;31m     \u001b[0mgraph\u001b[0m\u001b[0;34m=\u001b[0m\u001b[0mgraphs\u001b[0m\u001b[0;34m.\u001b[0m\u001b[0mnext\u001b[0m\u001b[0;34m(\u001b[0m\u001b[0;34m)\u001b[0m\u001b[0;34m\u001b[0m\u001b[0m\n\u001b[0m\u001b[1;32m     21\u001b[0m     \u001b[0mdraw_graph\u001b[0m\u001b[0;34m(\u001b[0m\u001b[0mgraph\u001b[0m\u001b[0;34m,\u001b[0m \u001b[0;34m**\u001b[0m\u001b[0mopts\u001b[0m\u001b[0;34m)\u001b[0m\u001b[0;34m\u001b[0m\u001b[0m\n",
      "\u001b[0;32m/Users/costa/Desktop/BTSync/Projects/EDeN/EDeN/eden/modifier/graph/vertex_attributes.pyc\u001b[0m in \u001b[0;36mcolorize\u001b[0;34m(graph_list, output_attribute, labels, mode)\u001b[0m\n\u001b[1;32m     74\u001b[0m     \u001b[0mvalues\u001b[0m \u001b[0;34m=\u001b[0m \u001b[0mnp\u001b[0m\u001b[0;34m.\u001b[0m\u001b[0mlinspace\u001b[0m\u001b[0;34m(\u001b[0m\u001b[0;36m0.0\u001b[0m\u001b[0;34m,\u001b[0m \u001b[0;36m1.0\u001b[0m\u001b[0;34m,\u001b[0m \u001b[0mnum\u001b[0m\u001b[0;34m=\u001b[0m\u001b[0mlen\u001b[0m\u001b[0;34m(\u001b[0m\u001b[0mlabels\u001b[0m\u001b[0;34m)\u001b[0m\u001b[0;34m)\u001b[0m\u001b[0;34m\u001b[0m\u001b[0m\n\u001b[1;32m     75\u001b[0m     \u001b[0mcolor_dict\u001b[0m \u001b[0;34m=\u001b[0m \u001b[0mdict\u001b[0m\u001b[0;34m(\u001b[0m\u001b[0mzip\u001b[0m\u001b[0;34m(\u001b[0m\u001b[0mlabels\u001b[0m\u001b[0;34m,\u001b[0m \u001b[0mvalues\u001b[0m\u001b[0;34m)\u001b[0m\u001b[0;34m)\u001b[0m\u001b[0;34m\u001b[0m\u001b[0m\n\u001b[0;32m---> 76\u001b[0;31m     \u001b[0;32mfor\u001b[0m \u001b[0mg\u001b[0m \u001b[0;32min\u001b[0m \u001b[0mgraph_list\u001b[0m\u001b[0;34m:\u001b[0m\u001b[0;34m\u001b[0m\u001b[0m\n\u001b[0m\u001b[1;32m     77\u001b[0m         \u001b[0;31m# iterate over nodes\u001b[0m\u001b[0;34m\u001b[0m\u001b[0;34m\u001b[0m\u001b[0m\n\u001b[1;32m     78\u001b[0m         \u001b[0;32mfor\u001b[0m \u001b[0mn\u001b[0m\u001b[0;34m,\u001b[0m \u001b[0md\u001b[0m \u001b[0;32min\u001b[0m \u001b[0mg\u001b[0m\u001b[0;34m.\u001b[0m\u001b[0mnodes_iter\u001b[0m\u001b[0;34m(\u001b[0m\u001b[0mdata\u001b[0m\u001b[0;34m=\u001b[0m\u001b[0mTrue\u001b[0m\u001b[0;34m)\u001b[0m\u001b[0;34m:\u001b[0m\u001b[0;34m\u001b[0m\u001b[0m\n",
      "\u001b[0;32m/Users/costa/Desktop/BTSync/Projects/EDeN/EDeN/eden/RNA.pyc\u001b[0m in \u001b[0;36mgraphs\u001b[0;34m(self, seqs, sampling_prob, n_iter)\u001b[0m\n\u001b[1;32m    107\u001b[0m         \u001b[0;32mfor\u001b[0m \u001b[0mseq\u001b[0m\u001b[0;34m,\u001b[0m \u001b[0mneighs\u001b[0m \u001b[0;32min\u001b[0m \u001b[0mself\u001b[0m\u001b[0;34m.\u001b[0m\u001b[0m_compute_neighbors\u001b[0m\u001b[0;34m(\u001b[0m\u001b[0mseqs\u001b[0m\u001b[0;34m)\u001b[0m\u001b[0;34m:\u001b[0m\u001b[0;34m\u001b[0m\u001b[0m\n\u001b[1;32m    108\u001b[0m             \u001b[0;32mif\u001b[0m \u001b[0mself\u001b[0m\u001b[0;34m.\u001b[0m\u001b[0mn_iter\u001b[0m \u001b[0;34m>\u001b[0m \u001b[0;36m1\u001b[0m\u001b[0;34m:\u001b[0m\u001b[0;34m\u001b[0m\u001b[0m\n\u001b[0;32m--> 109\u001b[0;31m                 \u001b[0mheader\u001b[0m\u001b[0;34m,\u001b[0m \u001b[0msequence\u001b[0m\u001b[0;34m,\u001b[0m \u001b[0mstruct\u001b[0m\u001b[0;34m,\u001b[0m \u001b[0menergy\u001b[0m \u001b[0;34m=\u001b[0m \u001b[0mself\u001b[0m\u001b[0;34m.\u001b[0m\u001b[0m_optimize_struct\u001b[0m\u001b[0;34m(\u001b[0m\u001b[0mseq\u001b[0m\u001b[0;34m,\u001b[0m \u001b[0mneighs\u001b[0m\u001b[0;34m)\u001b[0m\u001b[0;34m\u001b[0m\u001b[0m\n\u001b[0m\u001b[1;32m    110\u001b[0m             \u001b[0;32melse\u001b[0m\u001b[0;34m:\u001b[0m\u001b[0;34m\u001b[0m\u001b[0m\n\u001b[1;32m    111\u001b[0m                 \u001b[0mheader\u001b[0m\u001b[0;34m,\u001b[0m \u001b[0msequence\u001b[0m\u001b[0;34m,\u001b[0m \u001b[0mstruct\u001b[0m\u001b[0;34m,\u001b[0m \u001b[0menergy\u001b[0m \u001b[0;34m=\u001b[0m \u001b[0mself\u001b[0m\u001b[0;34m.\u001b[0m\u001b[0m_align_sequence_structure\u001b[0m\u001b[0;34m(\u001b[0m\u001b[0mseq\u001b[0m\u001b[0;34m,\u001b[0m \u001b[0mneighs\u001b[0m\u001b[0;34m)\u001b[0m\u001b[0;34m\u001b[0m\u001b[0m\n",
      "\u001b[0;32m/Users/costa/Desktop/BTSync/Projects/EDeN/EDeN/eden/RNA.pyc\u001b[0m in \u001b[0;36m_optimize_struct\u001b[0;34m(self, seq, neighs)\u001b[0m\n\u001b[1;32m    121\u001b[0m             \u001b[0mresults\u001b[0m\u001b[0;34m.\u001b[0m\u001b[0mappend\u001b[0m\u001b[0;34m(\u001b[0m\u001b[0;34m(\u001b[0m\u001b[0mheader\u001b[0m\u001b[0;34m,\u001b[0m \u001b[0msequence\u001b[0m\u001b[0;34m,\u001b[0m \u001b[0mstruct\u001b[0m\u001b[0;34m,\u001b[0m \u001b[0menergy\u001b[0m\u001b[0;34m)\u001b[0m\u001b[0;34m)\u001b[0m\u001b[0;34m\u001b[0m\u001b[0m\n\u001b[1;32m    122\u001b[0m             \u001b[0mstructs\u001b[0m\u001b[0;34m.\u001b[0m\u001b[0mappend\u001b[0m\u001b[0;34m(\u001b[0m\u001b[0mstruct\u001b[0m\u001b[0;34m)\u001b[0m\u001b[0;34m\u001b[0m\u001b[0m\n\u001b[0;32m--> 123\u001b[0;31m         \u001b[0minstance_id\u001b[0m \u001b[0;34m=\u001b[0m \u001b[0mself\u001b[0m\u001b[0;34m.\u001b[0m\u001b[0m_most_representative\u001b[0m\u001b[0;34m(\u001b[0m\u001b[0mstructs\u001b[0m\u001b[0;34m)\u001b[0m\u001b[0;34m\u001b[0m\u001b[0m\n\u001b[0m\u001b[1;32m    124\u001b[0m         \u001b[0mselected\u001b[0m \u001b[0;34m=\u001b[0m \u001b[0mresults\u001b[0m\u001b[0;34m[\u001b[0m\u001b[0minstance_id\u001b[0m\u001b[0;34m]\u001b[0m\u001b[0;34m\u001b[0m\u001b[0m\n\u001b[1;32m    125\u001b[0m         \u001b[0;32mreturn\u001b[0m \u001b[0mselected\u001b[0m\u001b[0;34m\u001b[0m\u001b[0m\n",
      "\u001b[0;32m/Users/costa/Desktop/BTSync/Projects/EDeN/EDeN/eden/RNA.pyc\u001b[0m in \u001b[0;36m_most_representative\u001b[0;34m(self, structs)\u001b[0m\n\u001b[1;32m    127\u001b[0m     \u001b[0;32mdef\u001b[0m \u001b[0m_most_representative\u001b[0m\u001b[0;34m(\u001b[0m\u001b[0mself\u001b[0m\u001b[0;34m,\u001b[0m \u001b[0mstructs\u001b[0m\u001b[0;34m)\u001b[0m\u001b[0;34m:\u001b[0m\u001b[0;34m\u001b[0m\u001b[0m\n\u001b[1;32m    128\u001b[0m         \u001b[0;31m# compute kernel matrix with sequence_vectorizer\u001b[0m\u001b[0;34m\u001b[0m\u001b[0;34m\u001b[0m\u001b[0m\n\u001b[0;32m--> 129\u001b[0;31m         \u001b[0mdata_matrix\u001b[0m \u001b[0;34m=\u001b[0m \u001b[0mself\u001b[0m\u001b[0;34m.\u001b[0m\u001b[0msequence_vectorizer\u001b[0m\u001b[0;34m.\u001b[0m\u001b[0mtransform\u001b[0m\u001b[0;34m(\u001b[0m\u001b[0mstructs\u001b[0m\u001b[0;34m)\u001b[0m\u001b[0;34m\u001b[0m\u001b[0m\n\u001b[0m\u001b[1;32m    130\u001b[0m         \u001b[0mkernel_matrix\u001b[0m \u001b[0;34m=\u001b[0m \u001b[0mpairwise_kernels\u001b[0m\u001b[0;34m(\u001b[0m\u001b[0mdata_matrix\u001b[0m\u001b[0;34m,\u001b[0m \u001b[0mmetric\u001b[0m\u001b[0;34m=\u001b[0m\u001b[0;34m'rbf'\u001b[0m\u001b[0;34m,\u001b[0m \u001b[0mgamma\u001b[0m\u001b[0;34m=\u001b[0m\u001b[0;36m1\u001b[0m\u001b[0;34m)\u001b[0m\u001b[0;34m\u001b[0m\u001b[0m\n\u001b[1;32m    131\u001b[0m         \u001b[0;31m# compute instance density as 1 over average pairwise distance\u001b[0m\u001b[0;34m\u001b[0m\u001b[0;34m\u001b[0m\u001b[0m\n",
      "\u001b[0;32m/Users/costa/Desktop/BTSync/Projects/EDeN/EDeN/eden/path.pyc\u001b[0m in \u001b[0;36mtransform\u001b[0;34m(self, seq_list)\u001b[0m\n\u001b[1;32m     56\u001b[0m         \u001b[0mfeature_dict\u001b[0m \u001b[0;34m=\u001b[0m \u001b[0;34m{\u001b[0m\u001b[0;34m}\u001b[0m\u001b[0;34m\u001b[0m\u001b[0m\n\u001b[1;32m     57\u001b[0m         \u001b[0;32mfor\u001b[0m \u001b[0minstance_id\u001b[0m\u001b[0;34m,\u001b[0m \u001b[0mseq\u001b[0m \u001b[0;32min\u001b[0m \u001b[0menumerate\u001b[0m\u001b[0;34m(\u001b[0m\u001b[0mseq_list\u001b[0m\u001b[0;34m)\u001b[0m\u001b[0;34m:\u001b[0m\u001b[0;34m\u001b[0m\u001b[0m\n\u001b[0;32m---> 58\u001b[0;31m             \u001b[0mfeature_dict\u001b[0m\u001b[0;34m.\u001b[0m\u001b[0mupdate\u001b[0m\u001b[0;34m(\u001b[0m\u001b[0mself\u001b[0m\u001b[0;34m.\u001b[0m\u001b[0m_transform\u001b[0m\u001b[0;34m(\u001b[0m\u001b[0minstance_id\u001b[0m\u001b[0;34m,\u001b[0m \u001b[0mseq\u001b[0m\u001b[0;34m)\u001b[0m\u001b[0;34m)\u001b[0m\u001b[0;34m\u001b[0m\u001b[0m\n\u001b[0m\u001b[1;32m     59\u001b[0m         \u001b[0;32mreturn\u001b[0m \u001b[0mself\u001b[0m\u001b[0;34m.\u001b[0m\u001b[0m_convert_dict_to_sparse_matrix\u001b[0m\u001b[0;34m(\u001b[0m\u001b[0mfeature_dict\u001b[0m\u001b[0;34m)\u001b[0m\u001b[0;34m\u001b[0m\u001b[0m\n\u001b[1;32m     60\u001b[0m \u001b[0;34m\u001b[0m\u001b[0m\n",
      "\u001b[0;32m/Users/costa/Desktop/BTSync/Projects/EDeN/EDeN/eden/path.pyc\u001b[0m in \u001b[0;36m_transform\u001b[0;34m(self, instance_id, seq)\u001b[0m\n\u001b[1;32m     76\u001b[0m     \u001b[0;32mdef\u001b[0m \u001b[0m_transform\u001b[0m\u001b[0;34m(\u001b[0m\u001b[0mself\u001b[0m\u001b[0;34m,\u001b[0m \u001b[0minstance_id\u001b[0m\u001b[0;34m,\u001b[0m \u001b[0mseq\u001b[0m\u001b[0;34m)\u001b[0m\u001b[0;34m:\u001b[0m\u001b[0;34m\u001b[0m\u001b[0m\n\u001b[1;32m     77\u001b[0m         \u001b[0;32mif\u001b[0m \u001b[0mseq\u001b[0m \u001b[0;32mis\u001b[0m \u001b[0mNone\u001b[0m \u001b[0;32mor\u001b[0m \u001b[0mlen\u001b[0m\u001b[0;34m(\u001b[0m\u001b[0mseq\u001b[0m\u001b[0;34m)\u001b[0m \u001b[0;34m==\u001b[0m \u001b[0;36m0\u001b[0m\u001b[0;34m:\u001b[0m\u001b[0;34m\u001b[0m\u001b[0m\n\u001b[0;32m---> 78\u001b[0;31m             \u001b[0;32mraise\u001b[0m \u001b[0mException\u001b[0m\u001b[0;34m(\u001b[0m\u001b[0;34m'ERROR: something went wrong, empty instance # %d.'\u001b[0m \u001b[0;34m%\u001b[0m \u001b[0minstance_id\u001b[0m\u001b[0;34m)\u001b[0m\u001b[0;34m\u001b[0m\u001b[0m\n\u001b[0m\u001b[1;32m     79\u001b[0m         \u001b[0;32mif\u001b[0m \u001b[0mlen\u001b[0m\u001b[0;34m(\u001b[0m\u001b[0mseq\u001b[0m\u001b[0;34m)\u001b[0m \u001b[0;34m==\u001b[0m \u001b[0;36m2\u001b[0m \u001b[0;32mand\u001b[0m \u001b[0mlen\u001b[0m\u001b[0;34m(\u001b[0m\u001b[0mseq\u001b[0m\u001b[0;34m[\u001b[0m\u001b[0;36m1\u001b[0m\u001b[0;34m]\u001b[0m\u001b[0;34m)\u001b[0m \u001b[0;34m>\u001b[0m \u001b[0;36m0\u001b[0m\u001b[0;34m:\u001b[0m\u001b[0;34m\u001b[0m\u001b[0m\n\u001b[1;32m     80\u001b[0m             \u001b[0;31m# assume the instance is a pair (header,seq) and extract only seq\u001b[0m\u001b[0;34m\u001b[0m\u001b[0;34m\u001b[0m\u001b[0m\n",
      "\u001b[0;31mException\u001b[0m: ERROR: something went wrong, empty instance # 3."
     ]
    }
   ],
   "source": [
    "%%time\n",
    "\n",
    "synth_seqs = synthesizer.sample(seed_seqs)\n",
    "\n",
    "samples=[]\n",
    "import time\n",
    "start_time = time.time()\n",
    "for i, synth_seq in enumerate(synth_seqs):\n",
    "    header,seq = synth_seq\n",
    "    header_orig = header.split('_')[0]\n",
    "    seed_seq = (header_orig, seed_seqs_dict[header_orig])\n",
    "    synth_seq_toscore = (header_orig,seq)\n",
    "    samples.append(synth_seq)\n",
    "    synth_scores = infernal_scores([synth_seq_toscore], model_rfam_id=rfam_id)\n",
    "    synth_predictions = synthesizer.predict([synth_seq_toscore])\n",
    "    print '%d (%.1f secs) cm_score: %.1f   svm_score: %.1f' % (i+1, time.time()-start_time, synth_scores[0], synth_predictions.next())\n",
    "    print header\n",
    "    print seq\n",
    "    seed_scores = infernal_scores([seed_seq], model_rfam_id=rfam_id)\n",
    "    seed_predictions = synthesizer.predict([seed_seq])\n",
    "    print 'seed: cm_score: %.1f   svm_score: %.1f' % (seed_scores[0], seed_predictions.next())\n",
    "    print seed_seq[1]\n",
    "\n",
    "    plot_rna_seq(synth_seq, rnavec=rnavec)\n",
    "    plot_rna_seq(seed_seq, rnavec=rnavec)\n",
    "    start_time = time.time()"
   ]
  },
  {
   "cell_type": "markdown",
   "metadata": {},
   "source": [
    "---"
   ]
  }
 ],
 "metadata": {
  "kernelspec": {
   "display_name": "Python 2",
   "language": "python",
   "name": "python2"
  },
  "language_info": {
   "codemirror_mode": {
    "name": "ipython",
    "version": 2
   },
   "file_extension": ".py",
   "mimetype": "text/x-python",
   "name": "python",
   "nbconvert_exporter": "python",
   "pygments_lexer": "ipython2",
   "version": "2.7.10"
  }
 },
 "nbformat": 4,
 "nbformat_minor": 0
}
