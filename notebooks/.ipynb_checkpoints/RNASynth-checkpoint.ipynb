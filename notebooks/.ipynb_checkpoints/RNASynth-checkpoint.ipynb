{
 "cells": [
  {
   "cell_type": "markdown",
   "metadata": {},
   "source": [
    "#Synthesis of RNA sequences similar to given noncoding-RNA families\n",
    "\n"
   ]
  },
  {
   "cell_type": "code",
   "execution_count": 1,
   "metadata": {
    "collapsed": false
   },
   "outputs": [],
   "source": [
    "%matplotlib inline\n",
    "%load_ext autoreload\n",
    "%autoreload 2"
   ]
  },
  {
   "cell_type": "code",
   "execution_count": 2,
   "metadata": {
    "collapsed": false
   },
   "outputs": [],
   "source": [
    "import logging\n",
    "from eden.util import configure_logging\n",
    "configure_logging(logging.getLogger(), verbosity=1, filename='rna.log')"
   ]
  },
  {
   "cell_type": "markdown",
   "metadata": {},
   "source": [
    "*Run the synthesis experiment for 6S-Flavo RNA*"
   ]
  },
  {
   "cell_type": "code",
   "execution_count": 3,
   "metadata": {
    "collapsed": false,
    "scrolled": true
   },
   "outputs": [],
   "source": [
    "rfam_id = 'RF01685'\n",
    "from eden.converter.fasta import fasta_to_sequence\n",
    "iterable_seq = fasta_to_sequence(\n",
    "    'http://rfam.xfam.org/family/%s/alignment?acc=%s&format=fastau&download=0' % (rfam_id, rfam_id))"
   ]
  },
  {
   "cell_type": "markdown",
   "metadata": {},
   "source": [
    "*Instantiate a synthesier object*"
   ]
  },
  {
   "cell_type": "code",
   "execution_count": 4,
   "metadata": {
    "collapsed": false,
    "scrolled": true
   },
   "outputs": [
    {
     "name": "stdout",
     "output_type": "stream",
     "text": [
      "Instantiated an instance of AntaRNAv117Designer.\n",
      "Instantiated an instance of AntaRNAv117Designer.\n",
      "Instantiated an RNASynth object.\n",
      "{'designer': <rnasynth.rna_designer.AntaRNAv117Designer object at 0x7ff42618bb50>, 'constraint_extractor': <rnasynth.constraint_extractor.ConstraintExtractor instance at 0x7ff42619a488>, '_n_jobs': -1, '_n_iter_search': 1, 'pre_processor': <rnasynth.rna_synthesizer.PreProcessor instance at 0x7ff42619a5f0>, '_shuffle_order': 2, 'estimator': SGDClassifier(alpha=0.0001, average=True, class_weight='auto', epsilon=0.1,\n",
      "       eta0=0.0, fit_intercept=True, l1_ratio=0.15,\n",
      "       learning_rate='optimal', loss='hinge', n_iter=5, n_jobs=1,\n",
      "       penalty='l2', power_t=0.5, random_state=None, shuffle=True,\n",
      "       verbose=0, warm_start=False), '_n_synthesized_sequences_per_seed_sequence': 3, '_instance_score_threshold': 0, '_cv': 3, '_negative_shuffle_ratio': 2, 'vectorizer': graph.Vectorizer( r = 2, d = 2, min_r = 0, min_d = 0, nbits = 20, normalization = True, inner_normalization = True, n_discretization_levels = 1, min_n_discretization_levels = 2 )}\n",
      "Created a RNASynthesizer object.\n",
      "Starting new HTTP connection (1): rfam.xfam.org\n",
      "\"GET /family/RF01685/alignment?acc=RF01685&format=fastau&download=0 HTTP/1.1\" 200 11092\n",
      "Positive data: Instances: 30 ; Features: 1048577 with an avg of 733 features per instance\n",
      "Negative data: Instances: 60 ; Features: 1048577 with an avg of 744 features per instance\n",
      "Elapsed time: 17.3 secs\n",
      "CPU times: user 1.81 s, sys: 257 ms, total: 2.07 s\n",
      "Wall time: 17.5 s\n"
     ]
    }
   ],
   "source": [
    "%%time\n",
    "from rnasynth.rna_synthesizer import RNASynthesizerInitializer\n",
    "synthesizer = RNASynthesizerInitializer().synthesizer\n",
    "\n",
    "from itertools import islice\n",
    "n = 10\n",
    "train_seqs = islice(iterable_seq, n)\n",
    "iter_seq = synthesizer.fit(train_seqs)"
   ]
  },
  {
   "cell_type": "markdown",
   "metadata": {},
   "source": [
    "*Synthesize n sample sequences similar to RF01685 family.*"
   ]
  },
  {
   "cell_type": "code",
   "execution_count": null,
   "metadata": {
    "collapsed": false
   },
   "outputs": [
    {
     "name": "stdout",
     "output_type": "stream",
     "text": [
      "1\n",
      ">AACY020008268.1/1470-1576_[][][]_0\n",
      "CCUCAACGAACAUUAAUUAAGAAAGGUGAGUAAUAUCCAGAAACCAAGCACAAUGUCAAAUAAUCCAAAAAAAGUAUUUUAGCCUAAAACCACAUUAUAAGGAGUUU\n",
      "2\n",
      ">AACY020008268.1/1470-1576_[][][]_1\n",
      "UCUCAACGAAGAUUAAUUAAGAGAGGUGAGUACAACACAAAAAUACAGCAAAAAUAUAAAUCAACCAAAAGCACUAAAUUAGCCUCAAACCAAAUUAUAAGGAGUUU\n",
      "3\n",
      ">AACY020008268.1/1470-1576_[][][]_2\n",
      "CCUCAACGACAAUUAAUUAAGAAAGGUGAGUCAUAACACGAAAAGCAGCAUGUUCAAAUAAAAACCAAUAAAGUUAUUUUAGCCUAAAACCAAUUUAUACGGAGUUU\n",
      "4\n",
      ">AACY020008268.1/1470-1576_[][[][]][]_0\n",
      "UCUCAACGAAAAUUAAUUAAGAAAGGUGAGUAACAGUAAACAAACACGAAAACAAUGAAGAAGAACACUAAAACUGAGUUAGCCUAAAACCAUAUUAUACGGAGUUU\n",
      "5\n",
      ">AACY020008268.1/1470-1576_[][[][]][]_1\n",
      "UCUCAACGACAUUUAAUUAAGAAAGGUGAGUACGACAACAAAAUCAAGCAGCAUCCAUAAAUAUAUCAUUUACAUAAUUUAGCCUUAAUCCAUUUUUUCAGGAGUUU\n",
      "6"
     ]
    }
   ],
   "source": [
    "%%time\n",
    "synthesizer.n_synthesized_sequences_per_seed_sequence=1\n",
    "\n",
    "from itertools import islice\n",
    "n = 6\n",
    "test_seqs= islice(iterable_seq, n)\n",
    "synth_seqs = synthesizer.sample(test_seqs)\n",
    "for i, (header,seq) in enumerate(synth_seqs):\n",
    "    print i+1\n",
    "    print header\n",
    "    print seq"
   ]
  },
  {
   "cell_type": "markdown",
   "metadata": {},
   "source": [
    "---"
   ]
  }
 ],
 "metadata": {
  "kernelspec": {
   "display_name": "Python 2",
   "language": "python",
   "name": "python2"
  },
  "language_info": {
   "codemirror_mode": {
    "name": "ipython",
    "version": 2
   },
   "file_extension": ".py",
   "mimetype": "text/x-python",
   "name": "python",
   "nbconvert_exporter": "python",
   "pygments_lexer": "ipython2",
   "version": "2.7.10"
  }
 },
 "nbformat": 4,
 "nbformat_minor": 0
}
