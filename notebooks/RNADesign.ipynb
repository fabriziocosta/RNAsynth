{
 "cells": [
  {
   "cell_type": "markdown",
   "metadata": {},
   "source": [
    "#RNA synthesis based on a given RNA family\n",
    "\n",
    "Application scenario: we want to design new RNA sequences whose traits comply with a given RNA family. \n",
    "For this purpose we use EDeN to come up with a notion of \"importance\" in\n",
    "existing sequences, calculate sequence constraints based on this importance, and then utilize antaRNA for RNA inverse folding using these constraints. "
   ]
  },
  {
   "cell_type": "code",
   "execution_count": 15,
   "metadata": {
    "collapsed": false
   },
   "outputs": [
    {
     "name": "stdout",
     "output_type": "stream",
     "text": [
      "The autoreload extension is already loaded. To reload it, use:\n",
      "  %reload_ext autoreload\n"
     ]
    }
   ],
   "source": [
    "%matplotlib inline\n",
    "%load_ext autoreload\n",
    "%autoreload 2"
   ]
  },
  {
   "cell_type": "code",
   "execution_count": 16,
   "metadata": {
    "collapsed": false
   },
   "outputs": [],
   "source": [
    "import logging\n",
    "from eden.util import configure_logging\n",
    "configure_logging(logging.getLogger(), verbosity=2, filename='rna.log')"
   ]
  },
  {
   "cell_type": "code",
   "execution_count": 17,
   "metadata": {
    "collapsed": false
   },
   "outputs": [],
   "source": [
    "from evaluation.PerformanceEvaluation import experiment"
   ]
  },
  {
   "cell_type": "markdown",
   "metadata": {},
   "source": [
    "Define experiment-specific parameters."
   ]
  },
  {
   "cell_type": "code",
   "execution_count": 18,
   "metadata": {
    "collapsed": false
   },
   "outputs": [],
   "source": [
    "params = {'rfam_id':'RF00005',\n",
    "          'antaRNA_params':'../evaluation/antaRNA.ini' ,\n",
    "          'nt_importance_threshold':0 , \n",
    "          'nmin_important_nt_adjaceny':1 , \n",
    "          'bp_importance_threshold':0 ,\n",
    "          'nmin_important_bp_adjaceny':1 , \n",
    "          'nmin_unpaired_nt_adjacency':1 , \n",
    "          'multi_sequence_size':1 , \n",
    "          'filtering_threshold':0 , \n",
    "          'batch_proportion':1 , \n",
    "          'epoch_instances':10 , \n",
    "          'experiment_runs':10 ,\n",
    "          'split_ratio':0.2}"
   ]
  },
  {
   "cell_type": "markdown",
   "metadata": {},
   "source": [
    "Run the experiment."
   ]
  },
  {
   "cell_type": "code",
   "execution_count": null,
   "metadata": {
    "collapsed": false,
    "scrolled": false
   },
   "outputs": [
    {
     "name": "stdout",
     "output_type": "stream",
     "text": [
      "Starting RNA Synthesis experiment for RF00005 ...\n",
      "Starting new HTTP connection (1): rfam.xfam.org\n",
      "\"GET /family/RF00005/alignment?acc=RF00005&format=fastau&download=0 HTTP/1.1\" 200 90476\n",
      "Starting epoch 1:\n",
      "\n",
      "Classifier:\n",
      "SGDClassifier(alpha=6.82678658642e-05, average=True, class_weight='auto',\n",
      "       epsilon=0.1, eta0=0.682073602043, fit_intercept=True, l1_ratio=0.15,\n",
      "       learning_rate='constant', loss='hinge', n_iter=83, n_jobs=1,\n",
      "       penalty='l2', power_t=0.130099752293, random_state=None,\n",
      "       shuffle=True, verbose=0, warm_start=False)\n",
      "\n",
      "Predictive performance:\n",
      "            accuracy: 0.777 +- 0.046\n",
      "           precision: 0.333 +- 0.471\n",
      "              recall: 0.056 +- 0.079\n",
      "                  f1: 0.095 +- 0.135\n",
      "   average_precision: 0.775 +- 0.175\n",
      "             roc_auc: 0.873 +- 0.088\n",
      "\n",
      "Classifier:\n",
      "SGDClassifier(alpha=0.000916785429376, average=True, class_weight='auto',\n",
      "       epsilon=0.1, eta0=0.504818228496, fit_intercept=True, l1_ratio=0.15,\n",
      "       learning_rate='optimal', loss='hinge', n_iter=23, n_jobs=1,\n",
      "       penalty='l2', power_t=1.09961875357, random_state=None,\n",
      "       shuffle=True, verbose=0, warm_start=False)\n",
      "\n",
      "Predictive performance:\n",
      "            accuracy: 0.764 +- 0.028\n",
      "           precision: 0.667 +- 0.471\n",
      "              recall: 0.214 +- 0.085\n",
      "                  f1: 0.241 +- 0.205\n",
      "   average_precision: 0.741 +- 0.152\n",
      "             roc_auc: 0.882 +- 0.087\n",
      "Evaluating the True model performance:\n",
      "Test set\n",
      "Instances: 3054 ; Features: 1048577 with an avg of 541 features per instance\n",
      "--------------------------------------------------------------------------------\n",
      "Test Estimate\n",
      "             precision    recall  f1-score   support\n",
      "\n",
      "         -1       0.84      0.99      0.91      2290\n",
      "          1       0.94      0.44      0.60       764\n",
      "\n",
      "avg / total       0.87      0.85      0.83      3054\n",
      "\n",
      "APR: 0.818\n",
      "ROC: 0.903\n",
      "Evaluating the mixed model performance:\n",
      "Test set\n",
      "Instances: 3054 ; Features: 1048577 with an avg of 541 features per instance\n",
      "--------------------------------------------------------------------------------\n",
      "Test Estimate\n",
      "             precision    recall  f1-score   support\n",
      "\n",
      "         -1       0.85      0.98      0.91      2290\n",
      "          1       0.87      0.50      0.64       764\n",
      "\n",
      "avg / total       0.86      0.86      0.84      3054\n",
      "\n",
      "APR: 0.794\n",
      "ROC: 0.892\n",
      "\n",
      "Classifier:\n",
      "SGDClassifier(alpha=0.000374020737244, average=True, class_weight='auto',\n",
      "       epsilon=0.1, eta0=0.233950738941, fit_intercept=True, l1_ratio=0.15,\n",
      "       learning_rate='optimal', loss='hinge', n_iter=88, n_jobs=1,\n",
      "       penalty='l2', power_t=0.973002658201, random_state=None,\n",
      "       shuffle=True, verbose=0, warm_start=False)\n",
      "\n",
      "Predictive performance:\n",
      "            accuracy: 0.776 +- 0.017\n",
      "           precision: 0.667 +- 0.471\n",
      "              recall: 0.056 +- 0.079\n",
      "                  f1: 0.095 +- 0.135\n",
      "   average_precision: 0.661 +- 0.137\n",
      "             roc_auc: 0.815 +- 0.086\n"
     ]
    }
   ],
   "source": [
    "%%time\n",
    "roc_t , roc_s , apr_t , apr_s = experiment(params)"
   ]
  },
  {
   "cell_type": "markdown",
   "metadata": {},
   "source": [
    "Plot the exponential decay learning curve for results."
   ]
  },
  {
   "cell_type": "code",
   "execution_count": null,
   "metadata": {
    "collapsed": false
   },
   "outputs": [],
   "source": [
    "from evaluation.PerformanceEvaluation import PlotKit as pltk"
   ]
  },
  {
   "cell_type": "markdown",
   "metadata": {},
   "source": [
    "ROC learning curve comparison for True and Mixed samples:"
   ]
  },
  {
   "cell_type": "code",
   "execution_count": null,
   "metadata": {
    "collapsed": false
   },
   "outputs": [],
   "source": [
    "pltk.xpDecay(iterable_t = roc_t , iterable_s = roc_s , measure = 'ROC')"
   ]
  },
  {
   "cell_type": "markdown",
   "metadata": {},
   "source": [
    "APR learning curve comparison for True and Mixed samples:"
   ]
  },
  {
   "cell_type": "code",
   "execution_count": null,
   "metadata": {
    "collapsed": false
   },
   "outputs": [],
   "source": [
    "pltk.xpDecay(iterable_t = apr_t , iterable_s = apr_s , measure = 'APR')"
   ]
  },
  {
   "cell_type": "code",
   "execution_count": null,
   "metadata": {
    "collapsed": true
   },
   "outputs": [],
   "source": []
  }
 ],
 "metadata": {
  "kernelspec": {
   "display_name": "Python 2",
   "language": "python",
   "name": "python2"
  },
  "language_info": {
   "codemirror_mode": {
    "name": "ipython",
    "version": 2
   },
   "file_extension": ".py",
   "mimetype": "text/x-python",
   "name": "python",
   "nbconvert_exporter": "python",
   "pygments_lexer": "ipython2",
   "version": "2.7.6"
  }
 },
 "nbformat": 4,
 "nbformat_minor": 0
}
