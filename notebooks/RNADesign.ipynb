{
 "metadata": {
  "name": "",
  "signature": "sha256:a5d9afb9f5854d32e6a90e6a09eafb4c9bcb3663ffa75867dbafa53d3df69f60"
 },
 "nbformat": 3,
 "nbformat_minor": 0,
 "worksheets": [
  {
   "cells": [
    {
     "cell_type": "markdown",
     "metadata": {},
     "source": [
      "#RNA synthesis based on a given RNA family\n",
      "\n",
      "Application scenario: we want to design new RNA sequences whose traits comply with a given RNA family. \n",
      "For this purpose we use EDeN to come up with a notion of \"importance\" in\n",
      "existing sequences, calculate sequence constraints based on this importance, and then utilize antaRNA for RNA inverse folding using these constraints. "
     ]
    },
    {
     "cell_type": "code",
     "collapsed": false,
     "input": [
      "rfam_id = 'RF00005'\n",
      "#rfam_id = 'RF01051'\n",
      "#rfam_id = 'RF00008'\n",
      "#rfam_id = 'RF00175'\n",
      "def rfam_url(family_id):\n",
      "    return 'http://rfam.xfam.org/family/%s/alignment?acc=%s&format=fastau&download=0'%(family_id,family_id)"
     ],
     "language": "python",
     "metadata": {},
     "outputs": [],
     "prompt_number": 1
    },
    {
     "cell_type": "markdown",
     "metadata": {},
     "source": [
      "Convert the fasta database into eden graphs."
     ]
    },
    {
     "cell_type": "code",
     "collapsed": false,
     "input": [
      "from eden.converter.fasta import fasta_to_sequence\n",
      "from eden.converter.rna.rnafold import rnafold_to_eden\n",
      "\n",
      "iterable_pos = fasta_to_sequence( rfam_url(rfam_id) )\n",
      "\n",
      "from itertools import tee\n",
      "iterable_pos, iterable_pos_ = tee(iterable_pos)\n",
      "\n",
      "from eden.modifier.seq import seq_to_seq,  shuffle_modifier\n",
      "iterable_neg = seq_to_seq( iterable_pos_ , modifier=shuffle_modifier , times=3 , order=2 )\n",
      "\n",
      "from eden.converter.rna.rnashapes import rnashapes_to_eden\n",
      "#Positive sample graphs.\n",
      "graphs_pos = rnafold_to_eden( iterable_pos)\n",
      "#Negative sample graphs.\n",
      "graphs_neg = rnafold_to_eden( iterable_neg)\n"
     ],
     "language": "python",
     "metadata": {},
     "outputs": [],
     "prompt_number": 2
    },
    {
     "cell_type": "markdown",
     "metadata": {},
     "source": [
      "Split test and train graph sets into fixed test and train portions. (20% for training)"
     ]
    },
    {
     "cell_type": "code",
     "collapsed": false,
     "input": [
      "from eden.util import random_bipartition_iter\n",
      "\n",
      "graphs_pos_train, graphs_pos_test = random_bipartition_iter(graphs_pos, relative_size=0.2)\n",
      "graphs_neg_train, graphs_neg_test = random_bipartition_iter(graphs_neg, relative_size=0.2)"
     ],
     "language": "python",
     "metadata": {},
     "outputs": [],
     "prompt_number": 3
    },
    {
     "cell_type": "markdown",
     "metadata": {},
     "source": [
      "Tune the parameters of this experiment."
     ]
    },
    {
     "cell_type": "code",
     "collapsed": false,
     "input": [
      "opts={'runs':3 , 'antaRNA_param_file':'/home/kohvaeip/RLS/lib/antaRNA/antaRNA.ini' , \\\n",
      "      'performance_log_file':'/home/kohvaeip/perf.log', 'nt_importance_threshold':-0.2 , 'nmin_important_nt_adjaceny':1 , \\\n",
      "      'bp_importance_threshold':-0.85 , 'nmin_important_bp_adjaceny':3 , 'nmin_unpaired_nt_adjacency':3 , \\\n",
      "      'synthesized_batch_proportion':4, 'multi_sequence_size':3, 'filtering_threshold':0, 'relative_size':0.3, 'rfam_id':rfam_id}"
     ],
     "language": "python",
     "metadata": {},
     "outputs": [],
     "prompt_number": 4
    },
    {
     "cell_type": "code",
     "collapsed": false,
     "input": [
      "import experiment as exp"
     ],
     "language": "python",
     "metadata": {},
     "outputs": [
      {
       "ename": "ImportError",
       "evalue": "No module named experiment",
       "output_type": "pyerr",
       "traceback": [
        "\u001b[1;31m---------------------------------------------------------------------------\u001b[0m\n\u001b[1;31mImportError\u001b[0m                               Traceback (most recent call last)",
        "\u001b[1;32m<ipython-input-5-a3568fe0a064>\u001b[0m in \u001b[0;36m<module>\u001b[1;34m()\u001b[0m\n\u001b[1;32m----> 1\u001b[1;33m \u001b[1;32mimport\u001b[0m \u001b[0mexperiment\u001b[0m \u001b[1;32mas\u001b[0m \u001b[0mexp\u001b[0m\u001b[1;33m\u001b[0m\u001b[0m\n\u001b[0m",
        "\u001b[1;31mImportError\u001b[0m: No module named experiment"
       ]
      }
     ],
     "prompt_number": 5
    },
    {
     "cell_type": "markdown",
     "metadata": {},
     "source": [
      "Start the experiment."
     ]
    },
    {
     "cell_type": "code",
     "collapsed": false,
     "input": [
      "mroct, maprt, mrocs, maprs, elapsed_time = exp.run_epoch(graphs_pos_test =graphs_pos_test , graphs_neg_test = graphs_neg_test ,\\\n",
      "                       graphs_pos_train = graphs_pos_train , graphs_neg_train = graphs_neg_train , **opts)"
     ],
     "language": "python",
     "metadata": {},
     "outputs": []
    },
    {
     "cell_type": "markdown",
     "metadata": {},
     "source": [
      "Output results to file."
     ]
    },
    {
     "cell_type": "code",
     "collapsed": false,
     "input": [
      "performance_log_file = opts.get('performance_log_file')\n",
      "relative_size = opts.get('relative_size')\n",
      "header = 'RNADesign test on rfam family %s. \\n' %rfam_id\n",
      "header = header + 'Performance measure collection on 10 runs of %f of data.\\n' %relative_size\n",
      "header = header + 'Overall time %f seconds. \\n' %elapsed_time\n",
      "\n",
      "header = header + 'Sequence design constraints for this experiment: \\n'\n",
      "Cstr_threshold = opts.get('nt_importance_threshold')\n",
      "Cstr_adjaceny = opts.get('nmin_important_nt_adjaceny')\n",
      "DotBr_threshold = opts.get('bp_importance_threshold')\n",
      "DotBr_adjacency = opts.get('nmin_important_bp_adjaceny')\n",
      "unpaired_adjacency = opts.get('nmin_unpaired_nt_adjacency')\n",
      "\n",
      "header = header + 'Generic model sequence constraints: \\n'\n",
      "header = header + 'Nucleotide importance threshold:\\t\\t%f\\n' %Cstr_threshold\n",
      "header = header + 'Minimum number of adjacent important nucleotides:\\t\\t%d\\n' %Cstr_adjaceny\n",
      "\n",
      "header = header + 'Dot-bracket notation constraints: \\n'\n",
      "header = header + 'Nucleotide importance threshold:\\t\\t%f\\n' %DotBr_threshold\n",
      "header = header + 'Minimum number of adjacent base pairs:\\t\\t%d\\n' %DotBr_adjacency\n",
      "\n",
      "header = header + 'Unpaired regions constraint: \\n'\n",
      "header = header + 'Minimum number of adjacent unpaired nodes:\\t\\t%d\\n' %unpaired_adjacency\n",
      "\n",
      "measures_list = []\n",
      "\n",
      "measures_list.append( exp.output_measure_column(mroct, 'ROC' , header = 'True Samples' ))\n",
      "measures_list.append( exp.output_measure_column(mrocs, 'ROC' , header = 'Mixed Samples' ))\n",
      "measures_list.append( exp.output_measure_column(maprt, 'APR' , header = 'True Samples' ))\n",
      "measures_list.append( exp.output_measure_column(maprs, 'APR' , header = 'Mixed Samples' ))\n",
      "\n",
      "\n",
      "exp.flush_to_file(measures_list , performance_log_file, header)"
     ],
     "language": "python",
     "metadata": {},
     "outputs": []
    },
    {
     "cell_type": "code",
     "collapsed": false,
     "input": [],
     "language": "python",
     "metadata": {},
     "outputs": []
    }
   ],
   "metadata": {}
  }
 ]
}