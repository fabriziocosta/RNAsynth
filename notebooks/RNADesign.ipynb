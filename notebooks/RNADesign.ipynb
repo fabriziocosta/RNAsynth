{
 "metadata": {
  "name": "",
  "signature": "sha256:ef0721f2f470a701f2f17b03da67c3b2851a875673572ac6e3f4a3dacce0cc92"
 },
 "nbformat": 3,
 "nbformat_minor": 0,
 "worksheets": [
  {
   "cells": [
    {
     "cell_type": "markdown",
     "metadata": {},
     "source": [
      "#RNA synthesis based on a given RNA family\n",
      "\n",
      "Application scenario: we want to design new RNA sequences whose traits comply with a given RNA family. \n",
      "For this purpose we use EDeN to come up with a notion of \"importance\" in\n",
      "existing sequences, calculate sequence constraints based on this importance, and then utilize antaRNA for RNA inverse folding using these constraints. "
     ]
    },
    {
     "cell_type": "code",
     "collapsed": false,
     "input": [
      "%matplotlib inline"
     ],
     "language": "python",
     "metadata": {},
     "outputs": [],
     "prompt_number": 1
    },
    {
     "cell_type": "code",
     "collapsed": false,
     "input": [
      "import logging\n",
      "logger=logging.getLogger()"
     ],
     "language": "python",
     "metadata": {},
     "outputs": [],
     "prompt_number": 2
    },
    {
     "cell_type": "code",
     "collapsed": false,
     "input": [
      "import experiment as exp"
     ],
     "language": "python",
     "metadata": {},
     "outputs": [],
     "prompt_number": 3
    },
    {
     "cell_type": "markdown",
     "metadata": {},
     "source": [
      "Define experiment-specific parameters."
     ]
    },
    {
     "cell_type": "code",
     "collapsed": false,
     "input": [
      "params = {'rfam_id':'RF00005', 'log_file':'~/Synthesis.log' , 'antaRNA_params':'/home/kohvaeip/RNAsynth/experiment/antaRNA.ini' , \\\n",
      "            'nt_importance_threshold':0 , 'nmin_important_nt_adjaceny':1 , 'bp_importance_threshold':0 , \\\n",
      "            'nmin_important_bp_adjaceny':1 , 'nmin_unpaired_nt_adjacency':1 , 'multi_sequence_size':1 , 'filtering_threshold':0 , \\\n",
      "            'batch_proportion':1 , 'epoch_instances':10 , 'experiment_runs':10 , 'split_ratio':0.2}"
     ],
     "language": "python",
     "metadata": {},
     "outputs": [],
     "prompt_number": 4
    },
    {
     "cell_type": "markdown",
     "metadata": {},
     "source": [
      "Run the experiment."
     ]
    },
    {
     "cell_type": "code",
     "collapsed": false,
     "input": [
      "roc_t , roc_s , apr_t , apr_s = exp.experiment(params)"
     ],
     "language": "python",
     "metadata": {},
     "outputs": []
    },
    {
     "cell_type": "markdown",
     "metadata": {},
     "source": [
      "Plot the exponential decay learning curve for results."
     ]
    },
    {
     "cell_type": "code",
     "collapsed": false,
     "input": [
      "import PlotKit as pltk"
     ],
     "language": "python",
     "metadata": {},
     "outputs": []
    },
    {
     "cell_type": "markdown",
     "metadata": {},
     "source": [
      "ROC learning curve comparison for True and Mixed samples:"
     ]
    },
    {
     "cell_type": "code",
     "collapsed": false,
     "input": [
      "pltk.xpDecay(iterable_t = roc_t , iterable_s = roc_s , measure = 'ROC')"
     ],
     "language": "python",
     "metadata": {},
     "outputs": []
    },
    {
     "cell_type": "markdown",
     "metadata": {},
     "source": [
      "APR learning curve comparison for True and Mixed samples:"
     ]
    },
    {
     "cell_type": "code",
     "collapsed": false,
     "input": [
      "pltk.xpDecay(iterable_t = apr_t , iterable_s = apr_s , measure = 'APR')"
     ],
     "language": "python",
     "metadata": {},
     "outputs": []
    }
   ],
   "metadata": {}
  }
 ]
}