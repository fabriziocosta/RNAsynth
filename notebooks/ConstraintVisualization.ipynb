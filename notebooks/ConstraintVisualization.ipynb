{
 "cells": [
  {
   "cell_type": "markdown",
   "metadata": {},
   "source": [
    "#RNA family characterization\n",
    "\n",
    "Application scenario: we want to characterize the sequence patterns and structure of a set of RNA seqeunces"
   ]
  },
  {
   "cell_type": "markdown",
   "metadata": {},
   "source": [
    "Aquire data."
   ]
  },
  {
   "cell_type": "code",
   "execution_count": 1,
   "metadata": {
    "collapsed": false
   },
   "outputs": [],
   "source": [
    "rfam_id = 'RF00005'\n",
    "#rfam_id = 'RF01051'\n",
    "#rfam_id = 'RF00008'\n",
    "#rfam_id = 'RF00175'\n",
    "#rfam_id = 'RF00059'\n",
    "#rfam_id = 'RF00008'\n",
    "def rfam_url(family_id):\n",
    "    return 'http://rfam.xfam.org/family/%s/alignment?acc=%s&format=fastau&download=0'%(family_id,family_id)"
   ]
  },
  {
   "cell_type": "markdown",
   "metadata": {},
   "source": [
    "Convert the fasta database into eden graphs."
   ]
  },
  {
   "cell_type": "code",
   "execution_count": 2,
   "metadata": {
    "collapsed": false
   },
   "outputs": [],
   "source": [
    "from eden.converter.fasta import fasta_to_sequence\n",
    "from eden.converter.rna.rnafold import rnafold_to_eden\n",
    "from eden.graph import Vectorizer\n",
    "from eden.util import fit,estimate\n",
    "\n",
    "iterable_pos = fasta_to_sequence( rfam_url(rfam_id) )\n",
    "\n",
    "from itertools import tee\n",
    "iterable_pos, iterable_pos_ = tee(iterable_pos)\n",
    "\n",
    "from eden.modifier.seq import seq_to_seq,  shuffle_modifier\n",
    "iterable_neg = seq_to_seq( iterable_pos_ , modifier=shuffle_modifier, times=3, order=2 )\n",
    "\n",
    "#Positive sample graphs.\n",
    "graphs_pos = rnafold_to_eden( iterable_pos )\n",
    "#Negative sample graphs.\n",
    "graphs_neg = rnafold_to_eden( iterable_neg )\n",
    "\n",
    "vectorizer = Vectorizer( complexity = 2 )"
   ]
  },
  {
   "cell_type": "code",
   "execution_count": 3,
   "metadata": {
    "collapsed": false
   },
   "outputs": [
    {
     "name": "stdout",
     "output_type": "stream",
     "text": [
      "CPU times: user 7min 48s, sys: 44.1 s, total: 8min 32s\n",
      "Wall time: 9min 38s\n"
     ]
    }
   ],
   "source": [
    "%%time\n",
    "estimator = fit(graphs_pos , graphs_neg , vectorizer, n_jobs=1, cv=3)"
   ]
  },
  {
   "cell_type": "markdown",
   "metadata": {},
   "source": [
    "Split test and train graph sets into fixed test and train portions. (20% for training)"
   ]
  },
  {
   "cell_type": "code",
   "execution_count": 5,
   "metadata": {
    "collapsed": false
   },
   "outputs": [],
   "source": [
    "antaRNA_param_file = '../evaluation/antaRNA.ini'\n",
    "import RNADesign.ConstraintFinder as cf\n",
    "import RNADesign.RNADesignTools as rdt"
   ]
  },
  {
   "cell_type": "code",
   "execution_count": 12,
   "metadata": {
    "collapsed": false
   },
   "outputs": [
    {
     "name": "stdout",
     "output_type": "stream",
     "text": [
      "((A(((AA(((A((AA((A(.....A((((((...))))))AA)A))A))A))).........AA)))A))A\n",
      "GNNCCCANAGNUNANNNGUANNNNNNCUCCUNNNNAAGNANNNNNNCNNNNNNUNGAANNNNNNNGNNNCCA\n",
      "\n",
      "\n",
      "(((((((........(AA((((AA((((((A(((((...)))))A))...))))AA))))AA))))))))A\n",
      "CANUAGANNNNNNANAGNAAGNNNNNNNNNNNNAAANNNNUUAANAGNAAANNAGNNNUNNNUNCNAANGA\n",
      "\n",
      "\n",
      "((((((AAA((((.........))))AA((((A....AA))))A.....A(AA((...))AA)AAAA))))))A\n",
      "GCGCCCNUAGCUCAAUUGNNUNGAGNNNUNGNNNNNNNNNCAAANNGNNAGNNGNUCGNNNNCNNNNGNGCGCN\n",
      "\n",
      "\n",
      "((((((AAA((((.......))))AA((((((...))))))A.....AA(((.......)))AAA))))))A\n",
      "GCGGAAGNAGUUNNNUGGUAGAANNNCANCUNNNNAAGNNGNNNNNNNCGGGUUCGAAUCCCNNNUUCCGCU\n",
      "\n",
      "\n",
      "(((A((AAA(AAAA.......AAAA)AA..............AA((((...))))AA(A(((.......)))A)A))A)))A\n",
      "GUGNACNNNCNNNNNUGGUNNNNNNNNNNNNNNANNNANNNNNNNGGNNNNNCCCNCNCAGGUUCGAAUCCNNCNNNUNACG\n",
      "\n",
      "\n",
      "(((A(((.......AAAAAAAAAAAAA(((A(.......)A)))AAAAAAAAAAAAA(((((.......))))))))A)))A\n",
      "GGNNNGANNNNNNNNNNGUNANNNNNNACNNANNNNNAANUNGUNNNNANNNNNNNNNCUNGUUCAAAUCNAGCNCNNNCCA\n",
      "\n",
      "\n",
      "((((A(((((AAA((((((AA......A((((.......))))AA(((AA....AA)))AAA))))))A....))A)))AA))))A\n",
      "GCCNNNNNNGNNNAAUNNNNANNNANNNAGGNNNNAAAANCCNNNGNNANNNNNNNNNCNNNCNGNNUNNANNNNNNNCCNNNNCA\n",
      "\n",
      "\n",
      "((A((((A((((((((AA...((AAAA((((.......))))AAAA))AAAA)))A))....)))))))A))A\n",
      "GNNNCCNNAGCUCAGNNNNNNGANCNNCNNNNNNNNNNGCAGNNNNNNNNNNGNUCGANNNNGCNAGNNNCCA\n",
      "\n",
      "\n",
      "(((((((AAA(((.........)))AAA((AA((AA...AA))A))AAAAA(((.......)))AA)))))))A\n",
      "GNUCCGNUANNUNNNNNGGUNAGAANNNCNNNCNNNNNNNCANNNGNNNNCGGGUUCGNNNCCCNNNCNNANCG\n",
      "\n",
      "\n",
      "((((((A...((((....))))AAA(((((.......)))))AAAAAA(((.......)))AAA))))))A\n",
      "GCGNGNNNANNUNANUGNNAAAANNNNAGCNNNNNNNGCUGANNNNNNGGGUUCGAUUCCCNNNACCCGCU\n",
      "\n",
      "\n"
     ]
    }
   ],
   "source": [
    "from itertools import islice\n",
    "num = 10\n",
    "\n",
    "iterable = fasta_to_sequence( rfam_url(rfam_id) )\n",
    "iterable = rnafold_to_eden( iterable )\n",
    "graphs = islice(vectorizer.annotate(iterable , estimator), num)\n",
    "\n",
    "for g in graphs:\n",
    "    print cf.antaRNA_dot_struct(g,-0.85, 3, 3)\n",
    "    print cf.antaRNA_constraint_string(g, -0.2 , 1 )\n",
    "    print '\\n'\n",
    "#antaRNA_dot_struct(g,threshold, importance_adjacency = 1, unpaired_adjacency = 1)\n",
    "#antaRNA_constraint_string(g, threshold, adjacency = 1 , padding= 'N')\n",
    "#generate_antaRNA_constraints(graphs, Cseq_threshold, Cseq_adjacency, dotnot_threshold, dotnot_adjacency, unpaired_adjacency)\n",
    "#compute_gc_content\n",
    "\n",
    "# GNNGNUNUNGNUNANUNNUANANCNNNNGNNUNNNAANCNNNNNNNNNNGGUUCNAAUCCNNNNAUCNNCA\n",
    "# (((((((..(((A.......A))).(((((.......)))))....(((((.......))))))))))))A\n",
    "# -((((((----(---------)----((-(-------)-))------((-----------))-))))))--"
   ]
  },
  {
   "cell_type": "code",
   "execution_count": null,
   "metadata": {
    "collapsed": false
   },
   "outputs": [],
   "source": []
  }
 ],
 "metadata": {
  "kernelspec": {
   "display_name": "Python 2",
   "language": "python",
   "name": "python2"
  },
  "language_info": {
   "codemirror_mode": {
    "name": "ipython",
    "version": 2
   },
   "file_extension": ".py",
   "mimetype": "text/x-python",
   "name": "python",
   "nbconvert_exporter": "python",
   "pygments_lexer": "ipython2",
   "version": "2.7.5"
  }
 },
 "nbformat": 4,
 "nbformat_minor": 0
}
