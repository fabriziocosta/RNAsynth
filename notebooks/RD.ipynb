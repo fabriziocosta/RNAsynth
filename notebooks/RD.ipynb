{
 "cells": [
  {
   "cell_type": "markdown",
   "metadata": {},
   "source": [
    "#RNA synthesis of a ncRNA family\n",
    "\n",
    "We want to design new RNA sequences whose traits comply with a given RNA family. \n",
    "For this purpose we use EDeN to come up with a notion of \"importance\" in\n",
    "existing sequences, calculate sequence constraints based on this importance, and then utilize antaRNA for RNA inverse folding using these constraints. "
   ]
  },
  {
   "cell_type": "code",
   "execution_count": 1,
   "metadata": {
    "collapsed": false
   },
   "outputs": [],
   "source": [
    "%matplotlib inline\n",
    "%load_ext autoreload\n",
    "%autoreload 2"
   ]
  },
  {
   "cell_type": "code",
   "execution_count": 2,
   "metadata": {
    "collapsed": false
   },
   "outputs": [],
   "source": [
    "import logging\n",
    "from eden.util import configure_logging\n",
    "configure_logging(logging.getLogger(), verbosity=2, filename='rna.log')"
   ]
  },
  {
   "cell_type": "markdown",
   "metadata": {},
   "source": [
    "*Define experimental parameters*"
   ]
  },
  {
   "cell_type": "code",
   "execution_count": 3,
   "metadata": {
    "collapsed": false
   },
   "outputs": [
    {
     "name": "stdout",
     "output_type": "stream",
     "text": [
      "[0.01, 0.014444444444444444, 0.018888888888888889, 0.023333333333333331, 0.027777777777777776, 0.032222222222222222, 0.036666666666666667, 0.041111111111111112, 0.045555555555555557, 0.050000000000000003]\n"
     ]
    }
   ],
   "source": [
    "import numpy as np\n",
    "data_fractions = list(np.linspace(0.01,0.05,10))\n",
    "print data_fractions\n",
    "\n",
    "params = {'rfam_id':'RF00005',\n",
    "          'antaRNA_params':'../evaluation/antaRNA.ini' ,\n",
    "          'importance_threshold_sequence_constraint':0 , \n",
    "          'min_size_connected_component_sequence_constraint':1 , \n",
    "          'importance_threshold_structure_constraint':0 ,\n",
    "          'min_size_connected_component_structure_constraint':1 , \n",
    "          'min_size_connected_component_unpaired_structure_constraint':1 , \n",
    "          'n_synthesized_sequences_per_seed_sequence':1 , \n",
    "          'instance_score_threshold':0 , \n",
    "          'data_fractions':data_fractions , \n",
    "          'n_experiment_repetitions':5 ,\n",
    "          'train_to_test_split_ratio':0.2,\n",
    "          'vectorizer_complexity':2,\n",
    "          'negative_shuffle_ratio':2}"
   ]
  },
  {
   "cell_type": "markdown",
   "metadata": {},
   "source": [
    "*Run the experiment*"
   ]
  },
  {
   "cell_type": "code",
   "execution_count": null,
   "metadata": {
    "collapsed": false,
    "scrolled": true
   },
   "outputs": [
    {
     "name": "stdout",
     "output_type": "stream",
     "text": [
      "Starting RNA Synthesis experiment for RF00005 ...\n",
      "Starting new HTTP connection (1): rfam.xfam.org\n",
      "\"GET /family/RF00005/alignment?acc=RF00005&format=fastau&download=0 HTTP/1.1\" 200 90476\n",
      "================================================================================\n",
      "Training on data chunk 0/10 (data fraction: 0.010)\n",
      "--------------------------------------------------------------------------------\n",
      "run 1/5\n",
      "Fit estimator on original data\n",
      "Positive data: Instances: 1 ; Features: 1048577 with an avg of 572 features per instance\n",
      "Negative data: Instances: 3 ; Features: 1048577 with an avg of 581 features per instance\n",
      "Elapsed time: 0.4 secs\n",
      "Evaluate estimator:\n"
     ]
    }
   ],
   "source": [
    "%%time\n",
    "from evaluation.PerformanceEvaluation import compute_learning_curves\n",
    "roc_t , roc_s , apr_t , apr_s, data_fractions  = compute_learning_curves(params)"
   ]
  },
  {
   "cell_type": "markdown",
   "metadata": {},
   "source": [
    "*Plot the computed learning curves*"
   ]
  },
  {
   "cell_type": "code",
   "execution_count": null,
   "metadata": {
    "collapsed": false
   },
   "outputs": [],
   "source": [
    "from evaluation.draw_utils import  draw_learning_curve\n",
    "draw_learning_curve(data_A=roc_t, data_B=roc_s, x=data_fractions, measure='ROC')\n",
    "draw_learning_curve(data_A=apr_t, data_B=apr_s, x=data_fractions, measure='APR')"
   ]
  }
 ],
 "metadata": {
  "kernelspec": {
   "display_name": "Python 2",
   "language": "python",
   "name": "python2"
  },
  "language_info": {
   "codemirror_mode": {
    "name": "ipython",
    "version": 2
   },
   "file_extension": ".py",
   "mimetype": "text/x-python",
   "name": "python",
   "nbconvert_exporter": "python",
   "pygments_lexer": "ipython2",
   "version": "2.7.6"
  }
 },
 "nbformat": 4,
 "nbformat_minor": 0
}
