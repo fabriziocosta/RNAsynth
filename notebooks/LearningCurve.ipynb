{
 "cells": [
  {
   "cell_type": "markdown",
   "metadata": {},
   "source": [
    "#Synthesis of RNA sequences similar to given noncoding-RNA families\n",
    "\n"
   ]
  },
  {
   "cell_type": "code",
   "execution_count": 1,
   "metadata": {
    "collapsed": false
   },
   "outputs": [],
   "source": [
    "%matplotlib inline\n",
    "%load_ext autoreload\n",
    "%autoreload 2"
   ]
  },
  {
   "cell_type": "code",
   "execution_count": 2,
   "metadata": {
    "collapsed": false
   },
   "outputs": [],
   "source": [
    "import logging\n",
    "from eden.util import configure_logging\n",
    "configure_logging(logging.getLogger(), verbosity=1, filename=None)"
   ]
  },
  {
   "cell_type": "code",
   "execution_count": 3,
   "metadata": {
    "collapsed": true
   },
   "outputs": [],
   "source": [
    "from rnasynth.rna_synthesizer import RNASynthesizerInitializer\n",
    "synthesizer = RNASynthesizerInitializer(instance_score_threshold_in=0.1,\n",
    "                                        instance_score_threshold_out=1.3,\n",
    "                                        min_size_connected_component_sequence_constraint=3,\n",
    "                                        importance_threshold_sequence_constraint=-0.9,\n",
    "                                        min_size_connected_component_structure_constraint=3,\n",
    "                                        importance_threshold_structure_constraint=-0.9,\n",
    "                                        n_synthesized_seqs_per_seed_seq=2,\n",
    "                                        vectorizer_complexity=3,\n",
    "                                        max_num=5,\n",
    "                                        negative_shuffle_ratio=5\n",
    "                                       ).synthesizer"
   ]
  },
  {
   "cell_type": "code",
   "execution_count": 4,
   "metadata": {
    "collapsed": false
   },
   "outputs": [],
   "source": [
    "from evaluation.performance_evaluation import learning_curve"
   ]
  },
  {
   "cell_type": "code",
   "execution_count": 9,
   "metadata": {
    "collapsed": false
   },
   "outputs": [],
   "source": [
    "params = {'rfam_id':'RF00005', 'number_of_samples':None,'n_experiment_repetitions':3, 'train_to_test_split_ratio':0.2,\n",
    "          'shuffle_order':2, 'negative_shuffle_ratio':2, 'vectorizer_complexity':2, 'data_fraction_lower_bound':0.1,\n",
    "          'data_fraction_upper_bound':0.2, 'data_fraction_chunks':5}     "
   ]
  },
  {
   "cell_type": "code",
   "execution_count": null,
   "metadata": {
    "collapsed": false,
    "scrolled": false
   },
   "outputs": [
    {
     "name": "stdout",
     "output_type": "stream",
     "text": [
      "[0.10000000000000001, 0.32500000000000001, 0.55000000000000004, 0.77500000000000002, 1.0]\n",
      "Starting RNA Synthesis experiment for RF00005 ...\n",
      "Starting new HTTP connection (1): rfam.xfam.org\n",
      "================================================================================\n",
      "Training on data chunk 0/5 (data fraction: 0.1)\n",
      "--------------------------------------------------------------------------------\n",
      "run 1/5\n",
      "Fit estimator on original data and evaluate the estimator.\n"
     ]
    }
   ],
   "source": [
    "roc_t, roc_s, apr_t, apr_s, data_fractions = learning_curve(params, synthesizer=synthesizer)"
   ]
  },
  {
   "cell_type": "markdown",
   "metadata": {},
   "source": [
    "---"
   ]
  },
  {
   "cell_type": "code",
   "execution_count": null,
   "metadata": {
    "collapsed": false
   },
   "outputs": [],
   "source": [
    "print roc_t, roc_s, apr_t, apr_s"
   ]
  },
  {
   "cell_type": "code",
   "execution_count": null,
   "metadata": {
    "collapsed": false
   },
   "outputs": [],
   "source": [
    "from evaluation.draw_utils import draw_learning_curve\n",
    "\n",
    "delta = 0.005\n",
    "scaling = 50"
   ]
  },
  {
   "cell_type": "code",
   "execution_count": null,
   "metadata": {
    "collapsed": true
   },
   "outputs": [],
   "source": [
    "draw_learning_curve(data_a=roc_t, data_b=roc_s, x=data_fractions, measure='ROC', delta=delta, scaling=scaling)\n",
    "draw_learning_curve(data_a=apr_t, data_b=apr_s, x=data_fractions, measure='APR', delta=delta, scaling=scaling)"
   ]
  }
 ],
 "metadata": {
  "kernelspec": {
   "display_name": "Python 2",
   "language": "python",
   "name": "python2"
  },
  "language_info": {
   "codemirror_mode": {
    "name": "ipython",
    "version": 2
   },
   "file_extension": ".py",
   "mimetype": "text/x-python",
   "name": "python",
   "nbconvert_exporter": "python",
   "pygments_lexer": "ipython2",
   "version": "2.7.10"
  }
 },
 "nbformat": 4,
 "nbformat_minor": 0
}
