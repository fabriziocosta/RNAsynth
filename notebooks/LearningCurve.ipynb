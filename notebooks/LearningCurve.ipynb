{
 "cells": [
  {
   "cell_type": "markdown",
   "metadata": {},
   "source": [
    "#Synthesis of RNA sequences similar to given noncoding-RNA families\n",
    "\n"
   ]
  },
  {
   "cell_type": "code",
   "execution_count": 1,
   "metadata": {
    "collapsed": false
   },
   "outputs": [],
   "source": [
    "%matplotlib inline\n",
    "%load_ext autoreload\n",
    "%autoreload 2"
   ]
  },
  {
   "cell_type": "code",
   "execution_count": 2,
   "metadata": {
    "collapsed": false
   },
   "outputs": [],
   "source": [
    "import logging\n",
    "from eden.util import configure_logging\n",
    "configure_logging(logging.getLogger(), verbosity=1, filename=None)"
   ]
  },
  {
   "cell_type": "code",
   "execution_count": 3,
   "metadata": {
    "collapsed": false
   },
   "outputs": [],
   "source": [
    "from evaluation.performance_evaluation import learning_curve"
   ]
  },
  {
   "cell_type": "code",
   "execution_count": 4,
   "metadata": {
    "collapsed": false
   },
   "outputs": [],
   "source": [
    "params = {'rfam_id':'RF00005', 'n_experiment_repetitions':10, 'train_to_test_split_ratio':0.2,\n",
    "          'shuffle_order':2, 'negative_shuffle_ratio':2, 'vectorizer_complexity':2, 'data_fraction_lower_bound':0.1,\n",
    "          'data_fraction_upper_bound':1.0, 'data_fraction_chunks':10}     "
   ]
  },
  {
   "cell_type": "code",
   "execution_count": null,
   "metadata": {
    "collapsed": false,
    "scrolled": false
   },
   "outputs": [
    {
     "name": "stdout",
     "output_type": "stream",
     "text": [
      "[0.10000000000000001, 0.20000000000000001, 0.30000000000000004, 0.40000000000000002, 0.5, 0.59999999999999998, 0.70000000000000007, 0.80000000000000004, 0.90000000000000002, 1.0]\n",
      "Starting RNA Synthesis experiment for RF00005 ...\n",
      "Starting new HTTP connection (1): rfam.xfam.org\n",
      "================================================================================\n",
      "Training on data chunk 0/10 (data fraction: 0.1)\n",
      "--------------------------------------------------------------------------------\n",
      "run 1/10\n",
      "Fit estimator on original data and evaluate the estimator.\n",
      "Test set\n",
      "Instances: 228 ; Features: 1048577 with an avg of 543 features per instance\n",
      "--------------------------------------------------------------------------------\n",
      "Test Estimate\n",
      "             precision    recall  f1-score   support\n",
      "\n",
      "         -1       0.86      0.88      0.87       152\n",
      "          1       0.74      0.71      0.72        76\n",
      "\n",
      "avg / total       0.82      0.82      0.82       228\n",
      "\n",
      "APR: 0.856\n",
      "ROC: 0.888\n",
      "Fit estimator on original + sampled data and evaluate the estimator.\n",
      "Test set\n",
      "Instances: 228 ; Features: 1048577 with an avg of 541 features per instance\n",
      "--------------------------------------------------------------------------------\n",
      "Test Estimate\n",
      "             precision    recall  f1-score   support\n",
      "\n",
      "         -1       0.79      0.93      0.85       152\n",
      "          1       0.78      0.50      0.61        76\n",
      "\n",
      "avg / total       0.78      0.79      0.77       228\n",
      "\n",
      "APR: 0.777\n",
      "ROC: 0.855\n",
      "--------------------------------------------------------------------------------\n",
      "run 2/10\n",
      "Fit estimator on original data and evaluate the estimator.\n",
      "Test set\n",
      "Instances: 228 ; Features: 1048577 with an avg of 546 features per instance\n",
      "--------------------------------------------------------------------------------\n",
      "Test Estimate\n",
      "             precision    recall  f1-score   support\n",
      "\n",
      "         -1       0.91      0.81      0.86       152\n",
      "          1       0.69      0.84      0.76        76\n",
      "\n",
      "avg / total       0.84      0.82      0.82       228\n",
      "\n",
      "APR: 0.859\n",
      "ROC: 0.908\n",
      "Fit estimator on original + sampled data and evaluate the estimator.\n",
      "Test set\n",
      "Instances: 228 ; Features: 1048577 with an avg of 546 features per instance\n",
      "--------------------------------------------------------------------------------\n",
      "Test Estimate\n",
      "             precision    recall  f1-score   support\n",
      "\n",
      "         -1       0.78      0.99      0.88       152\n",
      "          1       0.97      0.45      0.61        76\n",
      "\n",
      "avg / total       0.85      0.81      0.79       228\n",
      "\n",
      "APR: 0.844\n",
      "ROC: 0.893\n",
      "--------------------------------------------------------------------------------\n",
      "run 3/10\n",
      "Fit estimator on original data and evaluate the estimator.\n",
      "Test set\n",
      "Instances: 228 ; Features: 1048577 with an avg of 550 features per instance\n",
      "--------------------------------------------------------------------------------\n",
      "Test Estimate\n",
      "             precision    recall  f1-score   support\n",
      "\n",
      "         -1       0.83      0.95      0.89       152\n",
      "          1       0.85      0.62      0.72        76\n",
      "\n",
      "avg / total       0.84      0.84      0.83       228\n",
      "\n",
      "APR: 0.871\n",
      "ROC: 0.904\n",
      "Fit estimator on original + sampled data and evaluate the estimator.\n",
      "Test set\n",
      "Instances: 228 ; Features: 1048577 with an avg of 551 features per instance\n",
      "--------------------------------------------------------------------------------\n",
      "Test Estimate\n",
      "             precision    recall  f1-score   support\n",
      "\n",
      "         -1       0.77      0.98      0.86       152\n",
      "          1       0.91      0.41      0.56        76\n",
      "\n",
      "avg / total       0.82      0.79      0.76       228\n",
      "\n",
      "APR: 0.830\n",
      "ROC: 0.871\n",
      "--------------------------------------------------------------------------------\n",
      "run 4/10\n",
      "Fit estimator on original data and evaluate the estimator.\n",
      "Test set\n",
      "Instances: 228 ; Features: 1048577 with an avg of 544 features per instance\n",
      "--------------------------------------------------------------------------------\n",
      "Test Estimate\n",
      "             precision    recall  f1-score   support\n",
      "\n",
      "         -1       0.83      0.89      0.86       152\n",
      "          1       0.75      0.63      0.69        76\n",
      "\n",
      "avg / total       0.80      0.81      0.80       228\n",
      "\n",
      "APR: 0.802\n",
      "ROC: 0.863\n",
      "Fit estimator on original + sampled data and evaluate the estimator.\n",
      "Test set\n",
      "Instances: 228 ; Features: 1048577 with an avg of 546 features per instance\n",
      "--------------------------------------------------------------------------------\n",
      "Test Estimate\n",
      "             precision    recall  f1-score   support\n",
      "\n",
      "         -1       0.74      0.99      0.85       152\n",
      "          1       0.96      0.32      0.48        76\n",
      "\n",
      "avg / total       0.82      0.77      0.73       228\n",
      "\n",
      "APR: 0.722\n",
      "ROC: 0.759\n",
      "--------------------------------------------------------------------------------\n",
      "run 5/10\n",
      "Fit estimator on original data and evaluate the estimator.\n",
      "Test set\n",
      "Instances: 228 ; Features: 1048577 with an avg of 549 features per instance\n",
      "--------------------------------------------------------------------------------\n",
      "Test Estimate\n",
      "             precision    recall  f1-score   support\n",
      "\n",
      "         -1       0.87      0.88      0.88       152\n",
      "          1       0.76      0.74      0.75        76\n",
      "\n",
      "avg / total       0.83      0.83      0.83       228\n",
      "\n",
      "APR: 0.858\n",
      "ROC: 0.902\n",
      "Fit estimator on original + sampled data and evaluate the estimator.\n"
     ]
    }
   ],
   "source": [
    "roc_t, roc_s, apr_t, apr_s, data_fractions = learning_curve(params)"
   ]
  },
  {
   "cell_type": "markdown",
   "metadata": {},
   "source": [
    "---"
   ]
  },
  {
   "cell_type": "code",
   "execution_count": null,
   "metadata": {
    "collapsed": false
   },
   "outputs": [],
   "source": [
    "print roc_t, roc_s, apr_t, apr_s"
   ]
  },
  {
   "cell_type": "code",
   "execution_count": null,
   "metadata": {
    "collapsed": false
   },
   "outputs": [],
   "source": [
    "from evaluation.draw_utils import draw_learning_curve\n",
    "\n",
    "delta = 0.005\n",
    "scaling = 50"
   ]
  },
  {
   "cell_type": "code",
   "execution_count": null,
   "metadata": {
    "collapsed": true
   },
   "outputs": [],
   "source": [
    "draw_learning_curve(data_a=roc_t, data_b=roc_s, x=data_fractions, measure='ROC', delta=delta, scaling=scaling)\n",
    "draw_learning_curve(data_a=apr_t, data_b=apr_s, x=data_fractions, measure='APR', delta=delta, scaling=scaling)"
   ]
  }
 ],
 "metadata": {
  "kernelspec": {
   "display_name": "Python 2",
   "language": "python",
   "name": "python2"
  },
  "language_info": {
   "codemirror_mode": {
    "name": "ipython",
    "version": 2
   },
   "file_extension": ".py",
   "mimetype": "text/x-python",
   "name": "python",
   "nbconvert_exporter": "python",
   "pygments_lexer": "ipython2",
   "version": "2.7.10"
  }
 },
 "nbformat": 4,
 "nbformat_minor": 0
}
