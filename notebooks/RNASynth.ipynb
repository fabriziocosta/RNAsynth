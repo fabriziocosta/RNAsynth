{
 "cells": [
  {
   "cell_type": "markdown",
   "metadata": {},
   "source": [
    "#Synthesis of RNA sequences similar to given noncoding-RNA families\n",
    "\n"
   ]
  },
  {
   "cell_type": "code",
   "execution_count": 33,
   "metadata": {
    "collapsed": false
   },
   "outputs": [
    {
     "name": "stdout",
     "output_type": "stream",
     "text": [
      "The autoreload extension is already loaded. To reload it, use:\n",
      "  %reload_ext autoreload\n"
     ]
    }
   ],
   "source": [
    "%matplotlib inline\n",
    "%load_ext autoreload\n",
    "%autoreload 2"
   ]
  },
  {
   "cell_type": "code",
   "execution_count": 34,
   "metadata": {
    "collapsed": false
   },
   "outputs": [],
   "source": [
    "import logging\n",
    "from eden.util import configure_logging\n",
    "configure_logging(logging.getLogger(), verbosity=1, filename=None)"
   ]
  },
  {
   "cell_type": "code",
   "execution_count": 35,
   "metadata": {
    "collapsed": false,
    "scrolled": true
   },
   "outputs": [],
   "source": [
    "from eden.converter.fasta import fasta_to_sequence\n",
    "def get_rfam(rfam_id):\n",
    "    return fasta_to_sequence('http://rfam.xfam.org/family/%s/alignment?acc=%s&format=fastau&download=0' % (rfam_id, rfam_id))"
   ]
  },
  {
   "cell_type": "code",
   "execution_count": 36,
   "metadata": {
    "collapsed": false
   },
   "outputs": [],
   "source": [
    "from eden.util.display import draw_graph\n",
    "from eden.converter.rna.rnafold import rnafold_to_eden\n",
    "\n",
    "opts={'size':14,\n",
    "      'colormap':'Set3',\n",
    "      'vertex_color':'level',\n",
    "      'node_border':False,\n",
    "      'node_size':200,\n",
    "      'font_size':9,\n",
    "      'vertex_alpha':0.9,\n",
    "      'title_key':'id'}\n",
    "\n",
    "def plot_rna_seq(seq, opts=opts):    \n",
    "    graphs = rnafold_to_eden([seq])\n",
    "    from eden.modifier.graph import vertex_attributes \n",
    "    graphs = vertex_attributes.colorize(graphs, output_attribute = 'level', labels = ['A','U','C','G'])\n",
    "    graph=graphs.next()\n",
    "    draw_graph(graph, **opts)"
   ]
  },
  {
   "cell_type": "code",
   "execution_count": 37,
   "metadata": {
    "collapsed": false
   },
   "outputs": [],
   "source": [
    "from rnasynth.rna_synthesizer import RNASynthesizerInitializer\n",
    "#help(RNASynthesizerInitializer)\n",
    "from rnasynth.rna_synthesizer import RNASynth\n",
    "#help(RNASynth)"
   ]
  },
  {
   "cell_type": "markdown",
   "metadata": {},
   "source": [
    "###Setup"
   ]
  },
  {
   "cell_type": "code",
   "execution_count": null,
   "metadata": {
    "collapsed": false,
    "scrolled": false
   },
   "outputs": [
    {
     "name": "stdout",
     "output_type": "stream",
     "text": [
      "Created a RNASynthesizer object.\n"
     ]
    }
   ],
   "source": [
    "from rnasynth.rna_synthesizer import RNASynthesizerInitializer\n",
    "synthesizer = RNASynthesizerInitializer(instance_score_threshold=1,\n",
    "                                        min_size_connected_component_sequence_constraint=3,\n",
    "                                        importance_threshold_sequence_constraint=-1,\n",
    "                                        min_size_connected_component_structure_constraint=3,\n",
    "                                        importance_threshold_structure_constraint=-1,\n",
    "                                        n_synthesized_seqs_per_seed_seq=1,\n",
    "                                        vectorizer_complexity=4,\n",
    "                                        negative_shuffle_ratio=10\n",
    "                                       ).synthesizer"
   ]
  },
  {
   "cell_type": "markdown",
   "metadata": {},
   "source": [
    "###Fit"
   ]
  },
  {
   "cell_type": "code",
   "execution_count": null,
   "metadata": {
    "collapsed": false
   },
   "outputs": [
    {
     "name": "stdout",
     "output_type": "stream",
     "text": [
      "Starting new HTTP connection (1): rfam.xfam.org\n"
     ]
    }
   ],
   "source": [
    "%%time\n",
    "rfam_id = 'RF01685'\n",
    "rfam_id = 'RF01852'\n",
    "seqs = get_rfam(rfam_id)\n",
    "from itertools import islice\n",
    "train_seqs = islice(seqs, 1000)\n",
    "iter_seq = synthesizer.fit(train_seqs)"
   ]
  },
  {
   "cell_type": "markdown",
   "metadata": {},
   "source": [
    "###Synthesize sample sequences "
   ]
  },
  {
   "cell_type": "code",
   "execution_count": null,
   "metadata": {
    "collapsed": false,
    "scrolled": false
   },
   "outputs": [],
   "source": [
    "%%time\n",
    "\n",
    "seqs = get_rfam(rfam_id)\n",
    "seed_seqs = list(islice(seqs, 5))\n",
    "synth_seqs = synthesizer.sample(seed_seqs)\n",
    "\n",
    "samples=[]\n",
    "import time\n",
    "start_time = time.time()\n",
    "import itertools\n",
    "for i, (seed_seq, synth_seq) in enumerate(itertools.izip(seed_seqs,synth_seqs)):\n",
    "    header,seq = synth_seq\n",
    "    samples.append(synth_seq)\n",
    "    print '%d (%.1f secs)' % (i+1, time.time()-start_time)\n",
    "    print header\n",
    "    print seq\n",
    "    print 'seed:'\n",
    "    print seed_seq[1]\n",
    "    plot_rna_seq(seed_seq)\n",
    "    plot_rna_seq(synth_seq)\n",
    "    start_time = time.time()"
   ]
  },
  {
   "cell_type": "markdown",
   "metadata": {},
   "source": [
    "---"
   ]
  }
 ],
 "metadata": {
  "kernelspec": {
   "display_name": "Python 2",
   "language": "python",
   "name": "python2"
  },
  "language_info": {
   "codemirror_mode": {
    "name": "ipython",
    "version": 2
   },
   "file_extension": ".py",
   "mimetype": "text/x-python",
   "name": "python",
   "nbconvert_exporter": "python",
   "pygments_lexer": "ipython2",
   "version": "2.7.10"
  }
 },
 "nbformat": 4,
 "nbformat_minor": 0
}
