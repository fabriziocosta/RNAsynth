{
 "cells": [
  {
   "cell_type": "markdown",
   "metadata": {},
   "source": [
    "#Synthesis of RNA sequences similar to given noncoding-RNA families\n",
    "\n"
   ]
  },
  {
   "cell_type": "code",
   "execution_count": 1,
   "metadata": {
    "collapsed": false
   },
   "outputs": [],
   "source": [
    "%matplotlib inline\n",
    "%load_ext autoreload\n",
    "%autoreload 2"
   ]
  },
  {
   "cell_type": "code",
   "execution_count": 2,
   "metadata": {
    "collapsed": false
   },
   "outputs": [],
   "source": [
    "import logging\n",
    "from eden.util import configure_logging\n",
    "configure_logging(logging.getLogger(), verbosity=2, filename=None)"
   ]
  },
  {
   "cell_type": "code",
   "execution_count": 3,
   "metadata": {
    "collapsed": false
   },
   "outputs": [
    {
     "name": "stdout",
     "output_type": "stream",
     "text": [
      "Instantiated an instance of AntaRNAv117Designer.\n",
      "Help on class RNASynthesizerInitializer in module rnasynth.rna_synthesizer:\n",
      "\n",
      "class RNASynthesizerInitializer\n",
      " |  Methods defined here:\n",
      " |  \n",
      " |  __init__(self, importance_threshold_sequence_constraint=0, min_size_connected_component_sequence_constraint=1, importance_threshold_structure_constraint=0, min_size_connected_component_structure_constraint=1, min_size_connected_component_unpaired_structure_constraint=1, Cstr='', Cseq='', tGC=[], level=1, tGCmax=-1.0, tGCvar=-1.0, temperature=37.0, paramFile='', noGUBasePair=False, noLBPmanagement=True, pseudoknots=False, usedProgram='RNAfold', pkprogram='pKiss', pkparameter=False, HotKnots_PATH='', strategy='A', noOfColonies=1, output_file='STDOUT', py=True, name='antaRNA', verbose=False, output_verbose=False, seed='none', improve_procedure='s', Resets=5, ants_per_selection=10, ConvergenceCount=130, antsTerConv=50, alpha=1.0, beta=1.0, ER=0.2, Cstrweight=0.5, Cgcweight=5.0, Cseqweight=1.0, omega=2.23, time=600, shape_type=5, energy_range=35, max_num=3, split_components=True, instance_score_threshold=0, shuffle_order=2, negative_shuffle_ratio=2, vectorizer_complexity=2, r=None, d=None, min_r=0, min_d=0, n_jobs=-1, cv=3, n_iter_search=1, n_synthesized_sequences_per_seed_sequence=3)\n",
      " |  \n",
      " |  init_synthesizer(self)\n",
      "\n",
      "Help on class RNASynth in module rnasynth.rna_synthesizer:\n",
      "\n",
      "class RNASynth\n",
      " |  Synthesizer class for RNA sequences. Produces new sequences similar in structure to the given sample set.\n",
      " |  \n",
      " |  Larger help explanation.\n",
      " |  Multi-line...\n",
      " |  \n",
      " |  Methods defined here:\n",
      " |  \n",
      " |  __init__(self, estimator=SGDClassifier(alpha=0.0001, average=False, class...shuffle=True,\n",
      " |         verbose=0, warm_start=False), vectorizer=graph.Vectorizer( r = 3, d = 3, n = 1, min_r = 0...zation = True, triangular_decomposition = False ), pre_processor=<rnasynth.rna_synthesizer.PreProcessor instance>, designer=<rnasynth.rna_designer.AntaRNAv117Designer object>, constraint_extractor=<rnasynth.constraint_extractor.ConstraintExtractor instance>, n_synthesized_sequences_per_seed_sequence=3, instance_score_threshold=1, shuffle_order=2, negative_shuffle_ratio=2, n_jobs=-1, cv=3, n_iter_search=1)\n",
      " |  \n",
      " |  __repr__(self)\n",
      " |  \n",
      " |  fit(self, iterable_seq)\n",
      " |  \n",
      " |  fit_sample(self, iterable_seq)\n",
      " |  \n",
      " |  sample(self, iterable_seq)\n",
      "\n"
     ]
    }
   ],
   "source": [
    "from rnasynth.rna_synthesizer import RNASynthesizerInitializer\n",
    "help(RNASynthesizerInitializer)\n",
    "from rnasynth.rna_synthesizer import RNASynth\n",
    "help(RNASynth)"
   ]
  },
  {
   "cell_type": "markdown",
   "metadata": {},
   "source": [
    "*Run the synthesis experiment for 6S-Flavo RNA*"
   ]
  },
  {
   "cell_type": "code",
   "execution_count": 4,
   "metadata": {
    "collapsed": false,
    "scrolled": true
   },
   "outputs": [],
   "source": [
    "rfam_id = 'RF01685'\n",
    "from eden.converter.fasta import fasta_to_sequence\n",
    "iterable_seq = fasta_to_sequence('http://rfam.xfam.org/family/%s/alignment?acc=%s&format=fastau&download=0' % (rfam_id, rfam_id))"
   ]
  },
  {
   "cell_type": "markdown",
   "metadata": {},
   "source": [
    "*Instantiate a synthesier object*"
   ]
  },
  {
   "cell_type": "code",
   "execution_count": 11,
   "metadata": {
    "collapsed": false,
    "scrolled": false
   },
   "outputs": [
    {
     "name": "stdout",
     "output_type": "stream",
     "text": [
      "Instantiated an instance of AntaRNAv117Designer.\n",
      "Instantiated an RNASynth object.\n",
      "{'designer': <rnasynth.rna_designer.AntaRNAv117Designer object at 0x108308650>, 'constraint_extractor': <rnasynth.constraint_extractor.ConstraintExtractor instance at 0x1086db5f0>, '_n_jobs': -1, '_n_iter_search': 1, 'pre_processor': <rnasynth.rna_synthesizer.PreProcessor instance at 0x10876a128>, '_shuffle_order': 2, 'estimator': SGDClassifier(alpha=0.0001, average=True, class_weight='auto', epsilon=0.1,\n",
      "       eta0=0.0, fit_intercept=True, l1_ratio=0.15,\n",
      "       learning_rate='optimal', loss='hinge', n_iter=5, n_jobs=1,\n",
      "       penalty='l2', power_t=0.5, random_state=None, shuffle=True,\n",
      "       verbose=0, warm_start=False), '_n_synthesized_sequences_per_seed_sequence': 3, '_instance_score_threshold': 0.0, '_cv': 3, '_negative_shuffle_ratio': 2, 'vectorizer': graph.Vectorizer( r = 2, d = 2, n = 1, min_r = 0, min_d = 0, min_n = 2,                          label_size = 1, nbits = 20, status = None, normalization = True,                          inner_normalization = True, triangular_decomposition = False )}\n",
      "Created a RNASynthesizer object.\n"
     ]
    }
   ],
   "source": [
    "#setup\n",
    "from rnasynth.rna_synthesizer import RNASynthesizerInitializer\n",
    "synthesizer = RNASynthesizerInitializer(instance_score_threshold=0.0).synthesizer\n",
    "synthesizer.n_synthesized_sequences_per_seed_sequence=1"
   ]
  },
  {
   "cell_type": "code",
   "execution_count": null,
   "metadata": {
    "collapsed": false
   },
   "outputs": [
    {
     "name": "stdout",
     "output_type": "stream",
     "text": [
      "Positive data: Instances: 30 ; Features: 1048577 with an avg of 749 features per instance\n",
      "Negative data: Instances: 60 ; Features: 1048577 with an avg of 737 features per instance\n",
      "Elapsed time: 3.3 secs\n",
      "CPU times: user 1.02 s, sys: 275 ms, total: 1.3 s\n",
      "Wall time: 3.29 s\n"
     ]
    }
   ],
   "source": [
    "%%time\n",
    "#fit\n",
    "from itertools import islice\n",
    "n = 10\n",
    "train_seqs = islice(iterable_seq, n)\n",
    "iter_seq = synthesizer.fit(train_seqs)"
   ]
  },
  {
   "cell_type": "markdown",
   "metadata": {},
   "source": [
    "#Experiments\n",
    "\n",
    "Synthesize n sample sequences "
   ]
  },
  {
   "cell_type": "code",
   "execution_count": null,
   "metadata": {
    "collapsed": false
   },
   "outputs": [
    {
     "name": "stdout",
     "output_type": "stream",
     "text": [
      "1\n",
      "AACY023159522.1/455-349_[][][]_1\n",
      "UCUCAACGAUCAACUAUAAAAAGAAGGUGAACAAACAAUAUAAUGCAAGCACUUAGAUAAAAACCCUGAAAAUAUCACAUAGCCUUAAUCCGCAAAAAAAGGAGUUU\n",
      "2\n",
      "AACY023159522.1/455-349_[][][]_2\n",
      "CCUCAACGAUAAUUAAAAAAAUAAAGGUGAUAAUAGAAAUCAACGCAAGCCAACAGUUCCGAGUCCUACAAUUUUUUACAAGCCUUAAUCCUAUCUAAAUGGAGUUU\n",
      "3"
     ]
    }
   ],
   "source": [
    "%%time\n",
    "#sample\n",
    "from itertools import islice\n",
    "n = 6\n",
    "test_seqs= islice(iterable_seq, n)\n",
    "synth_seqs = synthesizer.sample(test_seqs)\n",
    "for i, (header,seq) in enumerate(synth_seqs):\n",
    "    print i+1\n",
    "    print header\n",
    "    print seq"
   ]
  },
  {
   "cell_type": "markdown",
   "metadata": {},
   "source": [
    "---"
   ]
  }
 ],
 "metadata": {
  "kernelspec": {
   "display_name": "Python 2",
   "language": "python",
   "name": "python2"
  },
  "language_info": {
   "codemirror_mode": {
    "name": "ipython",
    "version": 2
   },
   "file_extension": ".py",
   "mimetype": "text/x-python",
   "name": "python",
   "nbconvert_exporter": "python",
   "pygments_lexer": "ipython2",
   "version": "2.7.10"
  }
 },
 "nbformat": 4,
 "nbformat_minor": 0
}
