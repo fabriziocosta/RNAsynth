{
 "cells": [
  {
   "cell_type": "markdown",
   "metadata": {},
   "source": [
    "#Synthesis of RNA sequences similar to given noncoding-RNA families\n",
    "\n"
   ]
  },
  {
   "cell_type": "code",
   "execution_count": 1,
   "metadata": {
    "collapsed": false
   },
   "outputs": [],
   "source": [
    "%matplotlib inline\n",
    "%load_ext autoreload\n",
    "%autoreload 2"
   ]
  },
  {
   "cell_type": "code",
   "execution_count": 2,
   "metadata": {
    "collapsed": false
   },
   "outputs": [],
   "source": [
    "import logging\n",
    "from eden.util import configure_logging\n",
    "configure_logging(logging.getLogger(), verbosity=1, filename='rna.log')"
   ]
  },
  {
   "cell_type": "markdown",
   "metadata": {},
   "source": [
    "*Run the synthesis experiment for 6S-Flavo RNA*"
   ]
  },
  {
   "cell_type": "code",
   "execution_count": 3,
   "metadata": {
    "collapsed": false,
    "scrolled": true
   },
   "outputs": [],
   "source": [
    "rfam_id = 'RF01685'\n",
    "from eden.converter.fasta import fasta_to_sequence\n",
    "iterable_seq = fasta_to_sequence(\n",
    "    'http://rfam.xfam.org/family/%s/alignment?acc=%s&format=fastau&download=0' % (rfam_id, rfam_id))"
   ]
  },
  {
   "cell_type": "markdown",
   "metadata": {},
   "source": [
    "*Instantiate a synthesier object*"
   ]
  },
  {
   "cell_type": "code",
   "execution_count": 4,
   "metadata": {
    "collapsed": false,
    "scrolled": true
   },
   "outputs": [
    {
     "name": "stdout",
     "output_type": "stream",
     "text": [
      "Created a RNASynthesizer object.\n",
      "Starting new HTTP connection (1): rfam.xfam.org\n",
      "CPU times: user 1.82 s, sys: 281 ms, total: 2.1 s\n",
      "Wall time: 17.8 s\n"
     ]
    }
   ],
   "source": [
    "%%time\n",
    "from rnasynth.rna_synthesizer import RNASynthesizerInitializer\n",
    "synthesizer = RNASynthesizerInitializer().synthesizer\n",
    "\n",
    "from itertools import islice\n",
    "n = 10\n",
    "train_seqs = islice(iterable_seq, n)\n",
    "iter_seq = synthesizer.fit(train_seqs)"
   ]
  },
  {
   "cell_type": "markdown",
   "metadata": {},
   "source": [
    "*Synthesize n sample sequences similar to RF01685 family.*"
   ]
  },
  {
   "cell_type": "code",
   "execution_count": 5,
   "metadata": {
    "collapsed": false
   },
   "outputs": [
    {
     "name": "stdout",
     "output_type": "stream",
     "text": [
      "1\n",
      ">AACY020008268.1/1470-1576_[][][]_0\n",
      "UCUCAACGAGAAAUAAUUAAAGAAGGUGAGUUACAAAUCUAAAGCAAGCAACAUUACACAAAACCCUUGAAUAAUAUAAAAGCCUAAAUCCUGUUAAAAUGGAGUUU\n",
      "2\n",
      ">AACY020008268.1/1470-1576_[][][]_1\n",
      "UCUCAACGAGAUCUAAUUAAAAAAGGUGAGUUACAAGACUAAAGCAAGCAAAAAAACAAAAAUCCCUAGAAAAAUGUAAAAGCCUGAAUCCAGUUAAAAAGGAGUUU\n",
      "3\n",
      ">AACY020008268.1/1470-1576_[][][]_2\n",
      "CCUCAACGAGACAUAAUUAAAAAGGGUGAGUUGUAAUACUAAAGCAAGCAUAAUAUUUAAAAGACCUAGACAAAUACGUAAGCCUAAAUCCAGUUAAAAAGGAGUUU\n",
      "4\n",
      ">AACY020008268.1/1470-1576_[][[][]][]_0\n",
      "UCUCAACGAGAAUUAAUUAAAUAAGGUGAGUUACAAAUCAAAAACAAGCGAGCAACAAGAAAAUCAAACAAAACUAAAAAGGCCUAAAUCCAGUUUAAAAGGAGUUU\n",
      "5\n",
      ">AACY020008268.1/1470-1576_[][[][]][]_1\n",
      "CCUCAACGAGGAUUAAUUAAAAAAGGUGAGUUCUAUAACAAUUUCAUGCAAUCAACACUUAAUACAAUAACUACUAAUCAAGCCUAAAUCCAGUUACAAUGGAGUUU\n",
      "6\n",
      ">AACY020008268.1/1470-1576_[][[][]][]_2\n",
      "CCUCAACGAGGAGUAAUUAAAUAAGGUGAGUUCAAUAUCAAUAACAAGCAAACAACAAAAAGACCAACGAAAAAUUUAAAGGCCUAAAUCCAGUUUUAAAGGAGUUU\n",
      "7\n",
      ">AACY020008268.1/1470-1576_[][]_0\n",
      "ACUCAACAAGAAAUAAUUAAUAUAGGUGAGUUAAAAAUCUAAUGCAAGCAAUCCAAUUACAAAACCUCGAAUCAUGUCAAAGCCUAAAUCCUGUUAAAGUGGAGUUU\n",
      "8\n",
      ">AACY020008268.1/1470-1576_[][]_1\n",
      "ACUCAACAAGUAGUAAUUAAAAUAGGUGAGUUAAAAAUCUAAAGCAAGCACAUAAAAUCUAAAACCUCGAAACGUCAAAAAGCCUAAAUCCUGUUAAUAUGGAGUUU\n",
      "9\n",
      ">AACY020016197.1/794-902_[]_0\n",
      "ACUCAACGAGCAUAAAAGUAAAGGAGGUGAGUUAUAAAGUAAAGAGCAAGCAAAACAUGAAAAAAUCCUUGAUACAGACCAAAGCCCCAGAACAAUUUUAAACCAGAAG\n",
      "10\n",
      ">AACY020016197.1/794-902_[]_1\n",
      "ACUCAACGAGCGAAACCUAAUAAGAGGUGAGUUACAUAAUGAAAAGCAAGCGUCAAAUGAGACGUUCCUUGAUACAUCGCAAAGCCUCAUAAUAAAAUUAUACAAGUUU\n",
      "11\n",
      ">AACY020016197.1/794-902_[]_2\n",
      "ACUCAACGAGCAGAUACAAAUAUGAGGUGAGUUCCCAAUAUAUAAGCAAGCAAUAAAUGAUAGCAUCCUUGAUCGAAAAAGUAGCCCCAUAACGUUUUUAUACCAGUAU\n",
      "12\n",
      ">AACY020016197.1/794-902_[[][]]_1\n",
      "ACUCAACGAGCAAUUAAAAAUACGAGGUGAGAACAAUUAAAAACCCCCGCCGUUUCACGAAAAAUACGCACAACAACUACAAAGCCUCAAUUUAAAUUUCAACUAGAAU\n",
      "13\n",
      ">AACY020016197.1/794-902_[[][]]_2\n",
      "ACUCAACGAGCAAUUCUACAACAGAGGUGAGCAUCCUACUUUAAAACGAACAAAAAUUACAUCCUACAAGACGCAAAUUCAUAGCCUCCAUAUAAUUUUCAACAAGAUC\n",
      "14\n",
      ">ABCO01000011.1/67885-68005_[]_0\n",
      "ACUCAAAUCAUGUUCCUUUUCCUAGGGUGAGUUAUACCAAUCCUUCCUAUCCGCUACGUACUAUCUAUCCAAUCUGUUCCUUGUUCUUCUUUAAAGCCCUAAUCCAUAUCCCUCCGAGUUU\n",
      "15\n",
      ">ABCO01000011.1/67885-68005_[]_1\n",
      "ACUCAAUAAUACUAAAAUCUAACCGGGUGAGUAACUUUAAUUCCUAACUUCCACAUAACGCCGCACACACAACAUGACACUUGAUCCCCCCAAUAGCCCGAAACAAUAUAUCCCAGAGUUU\n",
      "16\n",
      ">ABCO01000011.1/67885-68005_[[][]]_0\n",
      "ACUCAAUCUCCUUUUUUUAUAGUUAACCGAGUCAUAUUUAUUCACCUUUCCCACCCAUACCAUUAACCACCCACAGACCCUUGAUCACCCCAUAGUACCUAAAAUCCCUUUACACGAGUUU\n",
      "17\n",
      ">ABCO01000011.1/67885-68005_[[][]]_2\n",
      "ACUCAAAUUUUAUCACGUCAGUGCCUCAGAGUAAUUCCCAAAAAUAAAACCCCCAUACAUCUAAACCCCCCUAACGCAACUUGUUCAUCUUUCGCAGCCUAAAAUCCCUAAUCUAGAGUUU\n",
      "18\n",
      ">ABCO01000011.1/67885-68005_[][]_0\n",
      "ACUCAACACUAAUCUUUUUUCACCGGGUGAGUAAAAAUCUUCAAUAAAUCCCCCCCUAUCCUACCACUUCUAAACGCCACUUGUUCCCCAUUUUAGCCCGAGACAAAUUUAAAUUUAGCUG\n",
      "19\n",
      ">ABCO01000011.1/67885-68005_[][]_1\n",
      "ACUCAACACUAAACACUUUUAACAGGGUGAGUCAUUUAUUAAUCUUCCUUCCACUACGUUCCCUUCCAACAUCCCGCCACUUGUUCAACAUUUAAGCCCUCCACGUCUUUCAUAUUAGUUA\n",
      "20\n",
      ">ABCO01000011.1/67885-68005_[][]_2\n",
      "ACUCAAUACUAAAUCAUUUUCACCGGGUGAGUUAUUUUUAUUUUCCAUUCCCACUUCGUUCUCAGACCUCCUUCCGUAUCUUGUUCUUCCUAAAAGCCCGAACCCAAUUUCAACGUAGCUC\n",
      "21\n",
      ">AACY021874420.1/579-471_[]_0\n",
      "ACUCAACGAGCACACAAACGAAAGAGGUGAGUUAAAAUACAAAAAGCAAGCAGAAAUUGAGCGAAUCCUUGAUAAAACCUACAGCCUCGAAAAAAAAUUUUAAAAGAUC\n",
      "22\n",
      ">AACY020499922.1/3516-3625_[][]_0\n",
      "ACUCAAUAAUAAUUUAAUUCUCAGAGGUGAGUACGAGUAACAAAAGCAAGCAGCCCCCAAACAGAUCCUAGAACAAUACCGAAGCCUCAUAUCCAAUUUCUAUCAAGCCU\n",
      "23\n",
      ">AACY020499922.1/3516-3625_[][]_2\n",
      "ACUCAGACUUAACGCAAUUAAAACAGGUGAGUACCUAUAACAAUAGCAAGCAGCAAACGAACAGAUCCUUGACCUAUAGCCCAGCCACAAUCCUCAUAUCUAAAAAGAAU\n",
      "24\n",
      ">AACY020499922.1/3516-3625_[[][]]_0\n",
      "ACUCAACGCUAAAACAAUUUAAACAGGUGAGUGAAGGUAACAAUAGCAAGCAGCCUACAACCAGAUCCUAGAACCUUUAACCAGCCGCAACUCAACUAUAUAUUAUGACU\n",
      "25\n",
      ">AACY020499922.1/3516-3625_[[][]]_2\n",
      "ACUCAGCAAUAAUUUAAUUUUCAGAGGUGAGUAACAAUAACAUCAGCAAGCAGCCAACAACAAGAUCCUAGACCCGUAAACCAGCCUCAUUCCACAUCAAUUCAAAGCAU\n",
      "26\n",
      ">AACY020499922.1/3516-3625_[]_1\n",
      "ACUCAAAUUUAAGUAAAUUAAACCAGGUGAGUAAAAGUAACAUAUGCAAGCAGCCAACAACCCGAUCCUAGAACCUUUUAAAAGCCCCCAAACCCUUCCCUUUCAUGUUU\n",
      "CPU times: user 18min 10s, sys: 39.9 s, total: 18min 50s\n",
      "Wall time: 2h 25min 2s\n"
     ]
    }
   ],
   "source": [
    "%%time\n",
    "synthesizer.n_synthesized_sequences_per_seed_sequence=1\n",
    "\n",
    "from itertools import islice\n",
    "n = 6\n",
    "test_seqs= islice(iterable_seq, n)\n",
    "synth_seqs = synthesizer.sample(test_seqs)\n",
    "for i, (header,seq) in enumerate(synth_seqs):\n",
    "    print i+1\n",
    "    print header\n",
    "    print seq"
   ]
  },
  {
   "cell_type": "markdown",
   "metadata": {},
   "source": [
    "---"
   ]
  }
 ],
 "metadata": {
  "kernelspec": {
   "display_name": "Python 2",
   "language": "python",
   "name": "python2"
  },
  "language_info": {
   "codemirror_mode": {
    "name": "ipython",
    "version": 2
   },
   "file_extension": ".py",
   "mimetype": "text/x-python",
   "name": "python",
   "nbconvert_exporter": "python",
   "pygments_lexer": "ipython2",
   "version": "2.7.10"
  }
 },
 "nbformat": 4,
 "nbformat_minor": 0
}
